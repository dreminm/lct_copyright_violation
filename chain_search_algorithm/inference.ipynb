{
 "cells": [
  {
   "cell_type": "code",
   "execution_count": 1,
   "metadata": {},
   "outputs": [],
   "source": [
    "# import nemo.collections.asr as nemo_asr\n",
    "import requests\n",
    "\n",
    "import librosa\n",
    "import IPython.display as ipd\n",
    "import matplotlib.pyplot as plt\n",
    "import torch\n",
    "import torch.nn.functional as F\n",
    "import numpy as np\n",
    "import pandas as pd\n",
    "# from moviepy.editor import VideoFileClip, clips_array\n",
    "from pathlib import Path\n",
    "\n",
    "from tqdm import tqdm"
   ]
  },
  {
   "cell_type": "code",
   "execution_count": 2,
   "metadata": {},
   "outputs": [],
   "source": [
    "from baseline_2 import chain_search_algorithm"
   ]
  },
  {
   "cell_type": "code",
   "execution_count": 3,
   "metadata": {},
   "outputs": [
    {
     "name": "stderr",
     "output_type": "stream",
     "text": [
      "/tmp/ipykernel_1960351/891134822.py:3: UserWarning: PySoundFile failed. Trying audioread instead.\n",
      "  audio, _ = librosa.load(\n",
      "/home/jood/miniconda3/envs/lct/lib/python3.11/site-packages/librosa/core/audio.py:184: FutureWarning: librosa.core.audio.__audioread_load\n",
      "\tDeprecated as of librosa version 0.10.0.\n",
      "\tIt will be removed in librosa version 1.0.\n",
      "  y, sr_native = __audioread_load(path, offset, duration, dtype)\n"
     ]
    }
   ],
   "source": [
    "VIDEO_ID = \"ydcrodwtz3mstjq1vhbdflx6kyhj3y0p\"\n",
    "\n",
    "audio, _ = librosa.load(\n",
    "    '../data/videos/' + VIDEO_ID + '.mp4',\n",
    "    sr=16_000\n",
    ")"
   ]
  },
  {
   "cell_type": "code",
   "execution_count": 4,
   "metadata": {},
   "outputs": [
    {
     "data": {
      "text/plain": [
       "200"
      ]
     },
     "execution_count": 4,
     "metadata": {},
     "output_type": "execute_result"
    }
   ],
   "source": [
    "audio = audio[1500*16_000:1700*16_000]\n",
    "duration = len(audio) // 16_000\n",
    "duration"
   ]
  },
  {
   "cell_type": "code",
   "execution_count": 5,
   "metadata": {},
   "outputs": [
    {
     "data": {
      "application/vnd.jupyter.widget-view+json": {
       "model_id": "86c4438b8e1c4b91b9ebe7691762cbb5",
       "version_major": 2,
       "version_minor": 0
      },
      "text/plain": [
       "  0%|          | 0/200 [00:00<?, ?it/s]"
      ]
     },
     "metadata": {},
     "output_type": "display_data"
    }
   ],
   "source": [
    "result = chain_search_algorithm(\n",
    "    audio,\n",
    "    16_000,\n",
    "    duration,\n",
    "    10,\n",
    "    1,\n",
    "    2,\n",
    "    \"whisper__10__0\",\n",
    "    None,\n",
    "    100\n",
    ")"
   ]
  },
  {
   "cell_type": "code",
   "execution_count": 6,
   "metadata": {},
   "outputs": [
    {
     "data": {
      "text/plain": [
       "{'97dfff80d98a8db50fa90dc01651a64f.mp4': [[454, 469, 11, 26]],\n",
       " '792aa0f782f9a89e402a4f994595d7c8.mp4': [[571, 582, 0, 11],\n",
       "  [1321, 1336, 1, 16],\n",
       "  [572, 582, 9, 19]],\n",
       " '0cf954675163c4fe8f1313b6e6bb8c19.mp4': [[667, 679, 14, 26]],\n",
       " 'a2404a2daf5898d5a41c954531f3ff94.mp4': [[651, 662, 81, 92]],\n",
       " '0ac7ed0507b2364e40030d11bf52ee5d.mp4': [[512, 522, 42, 52]],\n",
       " 'a0c9cc64088f25405de0588ec7a4caba.mp4': [[1236, 1247, 84, 95]],\n",
       " 'a5e7e8e91ac48f3b97b67d60e68a692d.mp4': [[237, 248, 114, 125]],\n",
       " 'afa4ac13ec1628e7f66493783cf7550e.mp4': [[417, 433, 66, 82],\n",
       "  [423, 433, 75, 85]],\n",
       " '7eecbd10bdaa596c2921ecb9bf7dbf69.mp4': [[1071, 1088, 2, 19],\n",
       "  [232, 247, 20, 35]],\n",
       " 'fe8ac2d7f57582ac5665692813d76efa.mp4': [[1027, 1038, 51, 62],\n",
       "  [576, 588, 62, 74],\n",
       "  [553, 564, 81, 92]],\n",
       " '0ea016128113476c741eba66ecbb5f0a.mp4': [[1027, 1040, 49, 62],\n",
       "  [576, 588, 61, 73],\n",
       "  [553, 564, 81, 92]],\n",
       " '0f0c6bdc92c5e36dd49883ab3622b52c.mp4': [[1004, 1016, 39, 51],\n",
       "  [1084, 1094, 98, 108],\n",
       "  [173, 184, 139, 150],\n",
       "  [463, 476, 144, 157],\n",
       "  [775, 785, 186, 196]],\n",
       " 'a5e82d6e848953832d839212af0fefd2.mp4': [[83, 93, 52, 62]],\n",
       " '92da6d10f228ef3a4ab8e86386b778a0.mp4': [[78, 88, 6, 16]],\n",
       " '0c6e4cdaa192d1ae58b99bc9f35891b9.mp4': [[668, 679, 11, 22],\n",
       "  [297, 307, 15, 25],\n",
       "  [296, 307, 20, 31]],\n",
       " 'cfb0bd0b45bdfb65799323ec243ca429.mp4': [[86, 97, 6, 17]],\n",
       " 'ded3d179001b3f679a0101be95405d2c.mp4': [[544, 682, 39, 177],\n",
       "  [1297, 1317, 79, 99],\n",
       "  [1261, 1272, 80, 91],\n",
       "  [1258, 1270, 87, 99],\n",
       "  [172, 194, 103, 125],\n",
       "  [82, 92, 106, 116],\n",
       "  [741, 753, 157, 169],\n",
       "  [768, 781, 157, 170],\n",
       "  [126, 140, 158, 172],\n",
       "  [675, 685, 167, 177]],\n",
       " 'cb718f23524eb08af2f8036eedc6b50c.mp4': [[84, 94, 21, 31]],\n",
       " 'd515a3eb5f4de4ae0e14ddefa98ef06f.mp4': [[242, 257, 34, 49],\n",
       "  [360, 370, 116, 126],\n",
       "  [690, 704, 175, 189]],\n",
       " '243d56ee80d652ea5f7c6870d4bb7e12.mp4': [[865, 877, 59, 71],\n",
       "  [703, 715, 95, 107]],\n",
       " '8639eb15e5e5d357c5a22b83313db6b0.mp4': [[452, 463, 158, 169]],\n",
       " '32ccad6eb2071f96a7664b4df4b0eeb6.mp4': [[1008, 1018, 93, 103],\n",
       "  [822, 836, 117, 131],\n",
       "  [1214, 1229, 119, 134],\n",
       "  [814, 824, 125, 135],\n",
       "  [599, 609, 128, 138],\n",
       "  [605, 626, 144, 165],\n",
       "  [955, 965, 146, 156],\n",
       "  [724, 734, 156, 166]],\n",
       " '385aa59a55cc47d6bc1a3773d219b14b.mp4': [[370, 383, 103, 116]],\n",
       " '5ddd14aa6e5928bb215b9ed1b073af91.mp4': [[717, 728, 118, 129]],\n",
       " 'bfb52b8a50a2034704dd08473c17ec6b.mp4': [[224, 243, 106, 125]],\n",
       " 'f4b1fd188fe77f9f56de07e867128b13.mp4': [[553, 566, 44, 57],\n",
       "  [457, 471, 76, 90]],\n",
       " 'e3096f769d001066c09815c404695de1.mp4': [[1176, 1187, 74, 85]]}"
      ]
     },
     "execution_count": 6,
     "metadata": {},
     "output_type": "execute_result"
    }
   ],
   "source": [
    "result"
   ]
  },
  {
   "cell_type": "code",
   "execution_count": 7,
   "metadata": {},
   "outputs": [
    {
     "data": {
      "text/plain": [
       "[[544, 682, 39, 177],\n",
       " [1297, 1317, 79, 99],\n",
       " [1261, 1272, 80, 91],\n",
       " [1258, 1270, 87, 99],\n",
       " [172, 194, 103, 125],\n",
       " [82, 92, 106, 116],\n",
       " [741, 753, 157, 169],\n",
       " [768, 781, 157, 170],\n",
       " [126, 140, 158, 172],\n",
       " [675, 685, 167, 177]]"
      ]
     },
     "execution_count": 7,
     "metadata": {},
     "output_type": "execute_result"
    }
   ],
   "source": [
    "result['ded3d179001b3f679a0101be95405d2c.mp4']"
   ]
  },
  {
   "cell_type": "code",
   "execution_count": 8,
   "metadata": {},
   "outputs": [],
   "source": [
    "result_filtered = [elem for elem in result if  elem[0] == \"ded3d179001b3f679a0101be95405d2c.mp4\"]"
   ]
  },
  {
   "cell_type": "code",
   "execution_count": 9,
   "metadata": {},
   "outputs": [
    {
     "data": {
      "text/plain": [
       "[]"
      ]
     },
     "execution_count": 9,
     "metadata": {},
     "output_type": "execute_result"
    }
   ],
   "source": [
    "sorted(result_filtered, key=lambda x: x[1])[500:]"
   ]
  },
  {
   "cell_type": "code",
   "execution_count": 10,
   "metadata": {},
   "outputs": [],
   "source": [
    "from typing import Tuple, List\n",
    "INTERSECTION_OUTPUT = Tuple[str, int, int, int, int]"
   ]
  },
  {
   "cell_type": "code",
   "execution_count": 11,
   "metadata": {},
   "outputs": [
    {
     "ename": "SyntaxError",
     "evalue": "invalid syntax (2599912333.py, line 14)",
     "output_type": "error",
     "traceback": [
      "\u001b[0;36m  Cell \u001b[0;32mIn[11], line 14\u001b[0;36m\u001b[0m\n\u001b[0;31m    if\u001b[0m\n\u001b[0m       ^\u001b[0m\n\u001b[0;31mSyntaxError\u001b[0m\u001b[0;31m:\u001b[0m invalid syntax\n"
     ]
    }
   ],
   "source": [
    "def intersection(l, r, L, R):\n",
    "    pass\n",
    "\n",
    "\n",
    "def select_not_intersected_segments(result: List[INTERSECTION_OUTPUT]) -> List[INTERSECTION_OUTPUT]:\n",
    "    answer = []\n",
    "    prime_segment = [False] * len(result)\n",
    "    for idx, (video_id, cur_v_start, cur_v_end, v_start, v_end) in enumerate(result):\n",
    "        for idx_2, (video_id_2, cur_v_start_2, cur_v_end_2, v_start_2, v_end_2) in enumerate(result):\n",
    "            if idx == idx_2:\n",
    "                continue\n",
    "            if video_id != video_id_2:\n",
    "                continue\n",
    "            if \n",
    "    return answer"
   ]
  }
 ],
 "metadata": {
  "kernelspec": {
   "display_name": "lct",
   "language": "python",
   "name": "python3"
  },
  "language_info": {
   "codemirror_mode": {
    "name": "ipython",
    "version": 3
   },
   "file_extension": ".py",
   "mimetype": "text/x-python",
   "name": "python",
   "nbconvert_exporter": "python",
   "pygments_lexer": "ipython3",
   "version": "3.11.9"
  }
 },
 "nbformat": 4,
 "nbformat_minor": 2
}
