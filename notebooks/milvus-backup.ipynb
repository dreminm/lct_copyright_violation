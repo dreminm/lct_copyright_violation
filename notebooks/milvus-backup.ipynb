{
 "cells": [
  {
   "cell_type": "code",
   "execution_count": 4,
   "metadata": {},
   "outputs": [],
   "source": [
    "import requests\n",
    "\n",
    "response = requests.post(\n",
    "    \"http://localhost:10101/api/v1/create\",\n",
    "    json = {\n",
    "        \"async\": False,\n",
    "        \"backup_name\": \"milvus_backup\",\n",
    "        \"collection_names\": [\n",
    "            \"whisper_segments\",\n",
    "        ]\n",
    "    }\n",
    ")"
   ]
  },
  {
   "cell_type": "code",
   "execution_count": 5,
   "metadata": {},
   "outputs": [
    {
     "data": {
      "text/plain": [
       "{'requestId': '44511800-2c09-11ef-880b-0242ac120006',\n",
       " 'msg': 'success',\n",
       " 'data': {'id': '44511800-2c09-11ef-880b-0242ac120006',\n",
       "  'state_code': 2,\n",
       "  'start_time': 1718560378427,\n",
       "  'end_time': 1718560378448,\n",
       "  'name': 'milvus_backup',\n",
       "  'size': 0,\n",
       "  'milvus_version': 'v2.3.12'}}"
      ]
     },
     "execution_count": 5,
     "metadata": {},
     "output_type": "execute_result"
    }
   ],
   "source": [
    "response.json()"
   ]
  },
  {
   "cell_type": "code",
   "execution_count": null,
   "metadata": {},
   "outputs": [],
   "source": []
  }
 ],
 "metadata": {
  "kernelspec": {
   "display_name": "lct",
   "language": "python",
   "name": "python3"
  },
  "language_info": {
   "codemirror_mode": {
    "name": "ipython",
    "version": 3
   },
   "file_extension": ".py",
   "mimetype": "text/x-python",
   "name": "python",
   "nbconvert_exporter": "python",
   "pygments_lexer": "ipython3",
   "version": "3.11.9"
  }
 },
 "nbformat": 4,
 "nbformat_minor": 2
}
