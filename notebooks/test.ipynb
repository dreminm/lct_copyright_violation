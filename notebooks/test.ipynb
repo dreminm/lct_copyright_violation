{
 "cells": [
  {
   "cell_type": "code",
   "execution_count": 1,
   "metadata": {},
   "outputs": [],
   "source": [
    "import pandas as pd\n",
    "from moviepy.editor import VideoFileClip, clips_array\n",
    "from pathlib import Path"
   ]
  },
  {
   "cell_type": "code",
   "execution_count": 2,
   "metadata": {},
   "outputs": [
    {
     "data": {
      "text/html": [
       "<div>\n",
       "<style scoped>\n",
       "    .dataframe tbody tr th:only-of-type {\n",
       "        vertical-align: middle;\n",
       "    }\n",
       "\n",
       "    .dataframe tbody tr th {\n",
       "        vertical-align: top;\n",
       "    }\n",
       "\n",
       "    .dataframe thead th {\n",
       "        text-align: right;\n",
       "    }\n",
       "</style>\n",
       "<table border=\"1\" class=\"dataframe\">\n",
       "  <thead>\n",
       "    <tr style=\"text-align: right;\">\n",
       "      <th></th>\n",
       "      <th>Unnamed: 0</th>\n",
       "      <th>ID_piracy</th>\n",
       "      <th>segment</th>\n",
       "      <th>ID_license</th>\n",
       "      <th>segment.1</th>\n",
       "    </tr>\n",
       "  </thead>\n",
       "  <tbody>\n",
       "    <tr>\n",
       "      <th>0</th>\n",
       "      <td>0</td>\n",
       "      <td>ydcrodwtz3mstjq1vhbdflx6kyhj3y0p.mp4</td>\n",
       "      <td>1539-1685</td>\n",
       "      <td>ded3d179001b3f679a0101be95405d2c.mp4</td>\n",
       "      <td>546-692</td>\n",
       "    </tr>\n",
       "    <tr>\n",
       "      <th>1</th>\n",
       "      <td>1</td>\n",
       "      <td>t9j5gg42w6s7f62uybhtc51aj5nq9vxd.mp4</td>\n",
       "      <td>158-222</td>\n",
       "      <td>f4b1fd188fe77f9f56de07e867128b13.mp4</td>\n",
       "      <td>392-456</td>\n",
       "    </tr>\n",
       "    <tr>\n",
       "      <th>2</th>\n",
       "      <td>2</td>\n",
       "      <td>zui6ud3solfndyetlralstpcjmv3br1f.mp4</td>\n",
       "      <td>139-263</td>\n",
       "      <td>aa16953bbb8fdb2dfc5fc368f4abe89a.mp4</td>\n",
       "      <td>656-780</td>\n",
       "    </tr>\n",
       "    <tr>\n",
       "      <th>3</th>\n",
       "      <td>3</td>\n",
       "      <td>aozskym3m7s9ibw5xpgca7m5jqe240vs.mp4</td>\n",
       "      <td>306-449</td>\n",
       "      <td>3219f476e4bc29f6f420e4e6b05ae8bb.mp4</td>\n",
       "      <td>399-542</td>\n",
       "    </tr>\n",
       "    <tr>\n",
       "      <th>4</th>\n",
       "      <td>4</td>\n",
       "      <td>3y78kqwdr5lbtsy9tb76n5ylbcrainsx.mp4</td>\n",
       "      <td>517-590</td>\n",
       "      <td>cb718f23524eb08af2f8036eedc6b50c.mp4</td>\n",
       "      <td>119-192</td>\n",
       "    </tr>\n",
       "    <tr>\n",
       "      <th>...</th>\n",
       "      <td>...</td>\n",
       "      <td>...</td>\n",
       "      <td>...</td>\n",
       "      <td>...</td>\n",
       "      <td>...</td>\n",
       "    </tr>\n",
       "    <tr>\n",
       "      <th>133</th>\n",
       "      <td>133</td>\n",
       "      <td>4ojku252jnbtv04wtnvm73x08xyftpgy.mp4</td>\n",
       "      <td>466-632</td>\n",
       "      <td>fd316c0e150c30ba2156f82e65bfea62.mp4</td>\n",
       "      <td>322-488</td>\n",
       "    </tr>\n",
       "    <tr>\n",
       "      <th>134</th>\n",
       "      <td>134</td>\n",
       "      <td>iflvtrjcx50j1kgbb3zgbvpql6zm2gry.mp4</td>\n",
       "      <td>196-471</td>\n",
       "      <td>a808f0de343faf6320bcc94ea57c5381.mp4</td>\n",
       "      <td>462-737</td>\n",
       "    </tr>\n",
       "    <tr>\n",
       "      <th>135</th>\n",
       "      <td>135</td>\n",
       "      <td>ztbk9ua8hx1u6l3ol3q5ehh8ugxqlrpd.mp4</td>\n",
       "      <td>165-213</td>\n",
       "      <td>ce9697edebdbec509944e8a010d91d0e.mp4</td>\n",
       "      <td>59-107</td>\n",
       "    </tr>\n",
       "    <tr>\n",
       "      <th>136</th>\n",
       "      <td>136</td>\n",
       "      <td>dtpq232karpm09ldxucjqip32hfblrkz.mp4</td>\n",
       "      <td>98-231</td>\n",
       "      <td>8cc8785efca469cdb6fb6efdcd3421d2.mp4</td>\n",
       "      <td>227-360</td>\n",
       "    </tr>\n",
       "    <tr>\n",
       "      <th>137</th>\n",
       "      <td>137</td>\n",
       "      <td>si2m5i2ne4b8oih1mjcyo2lg62ujh3si.mp4</td>\n",
       "      <td>164-233</td>\n",
       "      <td>d515a3eb5f4de4ae0e14ddefa98ef06f.mp4</td>\n",
       "      <td>296-365</td>\n",
       "    </tr>\n",
       "  </tbody>\n",
       "</table>\n",
       "<p>138 rows × 5 columns</p>\n",
       "</div>"
      ],
      "text/plain": [
       "     Unnamed: 0                             ID_piracy    segment  \\\n",
       "0             0  ydcrodwtz3mstjq1vhbdflx6kyhj3y0p.mp4  1539-1685   \n",
       "1             1  t9j5gg42w6s7f62uybhtc51aj5nq9vxd.mp4    158-222   \n",
       "2             2  zui6ud3solfndyetlralstpcjmv3br1f.mp4    139-263   \n",
       "3             3  aozskym3m7s9ibw5xpgca7m5jqe240vs.mp4    306-449   \n",
       "4             4  3y78kqwdr5lbtsy9tb76n5ylbcrainsx.mp4    517-590   \n",
       "..          ...                                   ...        ...   \n",
       "133         133  4ojku252jnbtv04wtnvm73x08xyftpgy.mp4    466-632   \n",
       "134         134  iflvtrjcx50j1kgbb3zgbvpql6zm2gry.mp4    196-471   \n",
       "135         135  ztbk9ua8hx1u6l3ol3q5ehh8ugxqlrpd.mp4    165-213   \n",
       "136         136  dtpq232karpm09ldxucjqip32hfblrkz.mp4     98-231   \n",
       "137         137  si2m5i2ne4b8oih1mjcyo2lg62ujh3si.mp4    164-233   \n",
       "\n",
       "                               ID_license segment.1  \n",
       "0    ded3d179001b3f679a0101be95405d2c.mp4   546-692  \n",
       "1    f4b1fd188fe77f9f56de07e867128b13.mp4   392-456  \n",
       "2    aa16953bbb8fdb2dfc5fc368f4abe89a.mp4   656-780  \n",
       "3    3219f476e4bc29f6f420e4e6b05ae8bb.mp4   399-542  \n",
       "4    cb718f23524eb08af2f8036eedc6b50c.mp4   119-192  \n",
       "..                                    ...       ...  \n",
       "133  fd316c0e150c30ba2156f82e65bfea62.mp4   322-488  \n",
       "134  a808f0de343faf6320bcc94ea57c5381.mp4   462-737  \n",
       "135  ce9697edebdbec509944e8a010d91d0e.mp4    59-107  \n",
       "136  8cc8785efca469cdb6fb6efdcd3421d2.mp4   227-360  \n",
       "137  d515a3eb5f4de4ae0e14ddefa98ef06f.mp4   296-365  \n",
       "\n",
       "[138 rows x 5 columns]"
      ]
     },
     "execution_count": 2,
     "metadata": {},
     "output_type": "execute_result"
    }
   ],
   "source": [
    "df = pd.read_csv(\"../data/piracy_val.csv\")\n",
    "df"
   ]
  },
  {
   "cell_type": "code",
   "execution_count": 3,
   "metadata": {},
   "outputs": [
    {
     "data": {
      "text/plain": [
       "['4d03cff18447ff0e57785eedfea2c0d0.mp4',\n",
       " '2b2bd2e70854a4589ec03d48946c639b.mp4',\n",
       " '34aa86f7b9f143ac494294e4eb6e1cbf.mp4',\n",
       " '35a738eba388a0d4ba332676af7b23d3.mp4']"
      ]
     },
     "execution_count": 3,
     "metadata": {},
     "output_type": "execute_result"
    }
   ],
   "source": [
    "from glob import glob\n",
    "\n",
    "files_list = list(\n",
    "    glob(\"../data/compressed_index/*.mp4\")\n",
    ") + list(\n",
    "    glob(\"../data/compressed_val/*.mp4\")\n",
    ")\n",
    "file_names = [\n",
    "    Path(fpath).name for fpath in files_list\n",
    "]\n",
    "file_names[:4]"
   ]
  },
  {
   "cell_type": "code",
   "execution_count": 4,
   "metadata": {},
   "outputs": [],
   "source": [
    "id_piracy = list(df['ID_piracy'])\n",
    "id_license = list(df['ID_license'])"
   ]
  },
  {
   "cell_type": "code",
   "execution_count": 5,
   "metadata": {},
   "outputs": [
    {
     "data": {
      "text/plain": [
       "(394, 394)"
      ]
     },
     "execution_count": 5,
     "metadata": {},
     "output_type": "execute_result"
    }
   ],
   "source": [
    "len(file_names), len(set(file_names))"
   ]
  },
  {
   "cell_type": "code",
   "execution_count": 6,
   "metadata": {},
   "outputs": [
    {
     "data": {
      "text/plain": [
       "(138, 138)"
      ]
     },
     "execution_count": 6,
     "metadata": {},
     "output_type": "execute_result"
    }
   ],
   "source": [
    "len(set(file_names) & set(id_piracy)), len(id_piracy)"
   ]
  },
  {
   "cell_type": "code",
   "execution_count": 7,
   "metadata": {},
   "outputs": [
    {
     "data": {
      "text/plain": [
       "(105, 138)"
      ]
     },
     "execution_count": 7,
     "metadata": {},
     "output_type": "execute_result"
    }
   ],
   "source": [
    "len(set(file_names) & set(id_license)), len(id_license)"
   ]
  },
  {
   "cell_type": "code",
   "execution_count": 8,
   "metadata": {},
   "outputs": [
    {
     "data": {
      "text/plain": [
       "(243, 394, 276)"
      ]
     },
     "execution_count": 8,
     "metadata": {},
     "output_type": "execute_result"
    }
   ],
   "source": [
    "len(set(id_license) | set(id_piracy)), len(file_names), len(id_license) + len(id_piracy)"
   ]
  },
  {
   "cell_type": "code",
   "execution_count": 9,
   "metadata": {},
   "outputs": [],
   "source": [
    "def exists_piracy(row):\n",
    "    piracy = row[\"ID_piracy\"]\n",
    "    return Path(\"../data/compressed_index/\" + piracy).exists() or Path(\"../data/compressed_val/\" + piracy).exists()\n",
    "\n",
    "def exists_val(row):\n",
    "    license = row[\"ID_license\"]\n",
    "    return Path(\"../data/compressed_index/\" + license).exists() or Path(\"../data/compressed_val/\" + license).exists()\n",
    "\n",
    "def get_path(fname):\n",
    "    if Path(\"../data/compressed_index/\" + fname).exists():\n",
    "        return \"../data/compressed_index/\" + fname\n",
    "    elif Path(\"../data/compressed_val/\" + fname).exists():\n",
    "        return \"../data/compressed_val/\" + fname\n",
    "    raise f\"WTF_{fname}\"\n",
    "\n",
    "df[\"valid_row\"] = df.apply(lambda x: exists_piracy(x) and exists_val(x), axis=1)\n",
    "df[\"ID_piracy_fpath\"] = df.apply(lambda x: get_path(x[\"ID_piracy\"]), axis=1)\n",
    "df[\"ID_license_fpath\"] = df.apply(lambda x: get_path(x[\"ID_license\"]), axis=1)"
   ]
  },
  {
   "cell_type": "code",
   "execution_count": 10,
   "metadata": {},
   "outputs": [
    {
     "data": {
      "text/plain": [
       "valid_row\n",
       "True    138\n",
       "Name: count, dtype: int64"
      ]
     },
     "execution_count": 10,
     "metadata": {},
     "output_type": "execute_result"
    }
   ],
   "source": [
    "df[\"valid_row\"].value_counts()"
   ]
  },
  {
   "cell_type": "code",
   "execution_count": 15,
   "metadata": {},
   "outputs": [],
   "source": [
    "pd.set_option(\"display.max_rows\", None, \"display.max_columns\", None, \"display.max_colwidth\", 1000)"
   ]
  },
  {
   "cell_type": "code",
   "execution_count": 16,
   "metadata": {},
   "outputs": [
    {
     "data": {
      "text/html": [
       "<div>\n",
       "<style scoped>\n",
       "    .dataframe tbody tr th:only-of-type {\n",
       "        vertical-align: middle;\n",
       "    }\n",
       "\n",
       "    .dataframe tbody tr th {\n",
       "        vertical-align: top;\n",
       "    }\n",
       "\n",
       "    .dataframe thead th {\n",
       "        text-align: right;\n",
       "    }\n",
       "</style>\n",
       "<table border=\"1\" class=\"dataframe\">\n",
       "  <thead>\n",
       "    <tr style=\"text-align: right;\">\n",
       "      <th></th>\n",
       "      <th>ID_piracy_fpath</th>\n",
       "      <th>ID_license_fpath</th>\n",
       "      <th>segment</th>\n",
       "      <th>segment.1</th>\n",
       "    </tr>\n",
       "  </thead>\n",
       "  <tbody>\n",
       "    <tr>\n",
       "      <th>0</th>\n",
       "      <td>../data/compressed_val/ydcrodwtz3mstjq1vhbdflx6kyhj3y0p.mp4</td>\n",
       "      <td>../data/compressed_index/ded3d179001b3f679a0101be95405d2c.mp4</td>\n",
       "      <td>1539-1685</td>\n",
       "      <td>546-692</td>\n",
       "    </tr>\n",
       "    <tr>\n",
       "      <th>1</th>\n",
       "      <td>../data/compressed_val/t9j5gg42w6s7f62uybhtc51aj5nq9vxd.mp4</td>\n",
       "      <td>../data/compressed_index/f4b1fd188fe77f9f56de07e867128b13.mp4</td>\n",
       "      <td>158-222</td>\n",
       "      <td>392-456</td>\n",
       "    </tr>\n",
       "    <tr>\n",
       "      <th>2</th>\n",
       "      <td>../data/compressed_val/zui6ud3solfndyetlralstpcjmv3br1f.mp4</td>\n",
       "      <td>../data/compressed_index/aa16953bbb8fdb2dfc5fc368f4abe89a.mp4</td>\n",
       "      <td>139-263</td>\n",
       "      <td>656-780</td>\n",
       "    </tr>\n",
       "    <tr>\n",
       "      <th>3</th>\n",
       "      <td>../data/compressed_val/aozskym3m7s9ibw5xpgca7m5jqe240vs.mp4</td>\n",
       "      <td>../data/compressed_index/3219f476e4bc29f6f420e4e6b05ae8bb.mp4</td>\n",
       "      <td>306-449</td>\n",
       "      <td>399-542</td>\n",
       "    </tr>\n",
       "    <tr>\n",
       "      <th>4</th>\n",
       "      <td>../data/compressed_val/3y78kqwdr5lbtsy9tb76n5ylbcrainsx.mp4</td>\n",
       "      <td>../data/compressed_index/cb718f23524eb08af2f8036eedc6b50c.mp4</td>\n",
       "      <td>517-590</td>\n",
       "      <td>119-192</td>\n",
       "    </tr>\n",
       "    <tr>\n",
       "      <th>5</th>\n",
       "      <td>../data/compressed_val/13btguedd355hvjhb4w6lqmqnyj1grm7.mp4</td>\n",
       "      <td>../data/compressed_index/050066643aa2aa369216ff6e615d683d.mp4</td>\n",
       "      <td>704-786</td>\n",
       "      <td>617-699</td>\n",
       "    </tr>\n",
       "    <tr>\n",
       "      <th>6</th>\n",
       "      <td>../data/compressed_val/2i4k8koiqofszmnag73pqtcfly73fxrm.mp4</td>\n",
       "      <td>../data/compressed_index/27502230e3b28415817c8ff996e97539.mp4</td>\n",
       "      <td>909-1182</td>\n",
       "      <td>243-516</td>\n",
       "    </tr>\n",
       "    <tr>\n",
       "      <th>7</th>\n",
       "      <td>../data/compressed_val/5wns7cnfxet9wk6spvjv55n85i5lsc3x.mp4</td>\n",
       "      <td>../data/compressed_index/6282b824b0deb7f7b3fa297a96b44fa1.mp4</td>\n",
       "      <td>406-494</td>\n",
       "      <td>850-938</td>\n",
       "    </tr>\n",
       "    <tr>\n",
       "      <th>8</th>\n",
       "      <td>../data/compressed_val/q0upezgticgkrz2khodoz6uuidrpk6r1.mp4</td>\n",
       "      <td>../data/compressed_index/6cc126aeb3f470b591ef20d73c175c6d.mp4</td>\n",
       "      <td>634-670</td>\n",
       "      <td>70-106</td>\n",
       "    </tr>\n",
       "    <tr>\n",
       "      <th>9</th>\n",
       "      <td>../data/compressed_val/v1msr87erxoekr3ou8j0xby28ukz5y5q.mp4</td>\n",
       "      <td>../data/compressed_index/df635402135e4ee4f14188be19f35c83.mp4</td>\n",
       "      <td>887-1034</td>\n",
       "      <td>359-506</td>\n",
       "    </tr>\n",
       "    <tr>\n",
       "      <th>10</th>\n",
       "      <td>../data/compressed_val/gieonvzfpxdy317exifk2tnncq2blmsi.mp4</td>\n",
       "      <td>../data/compressed_index/867f29bc176c8b011a4bb698204421ad.mp4</td>\n",
       "      <td>371-587</td>\n",
       "      <td>199-415</td>\n",
       "    </tr>\n",
       "    <tr>\n",
       "      <th>11</th>\n",
       "      <td>../data/compressed_val/auie2o28x0dif81htdyic01umxb9wx1j.mp4</td>\n",
       "      <td>../data/compressed_index/e02d994d8ba1230b463ea8d20385d2ee.mp4</td>\n",
       "      <td>192-350</td>\n",
       "      <td>282-440</td>\n",
       "    </tr>\n",
       "    <tr>\n",
       "      <th>12</th>\n",
       "      <td>../data/compressed_val/fxhf4dp7xhuq0r34d2xu5fym7f0fyqjd.mp4</td>\n",
       "      <td>../data/compressed_index/b1468b8e7c687ad6b60292c8327fdcd9.mp4</td>\n",
       "      <td>647-812</td>\n",
       "      <td>182-347</td>\n",
       "    </tr>\n",
       "    <tr>\n",
       "      <th>13</th>\n",
       "      <td>../data/compressed_val/it8xguq8lta85qrxep83yano9nhygis9.mp4</td>\n",
       "      <td>../data/compressed_index/792aa0f782f9a89e402a4f994595d7c8.mp4</td>\n",
       "      <td>844-1029</td>\n",
       "      <td>1198-1383</td>\n",
       "    </tr>\n",
       "    <tr>\n",
       "      <th>14</th>\n",
       "      <td>../data/compressed_val/owcd49ykdv2b0gvu9wdcvonouzdew21v.mp4</td>\n",
       "      <td>../data/compressed_index/7d6f46570858201ff82cb95e8b12d17a.mp4</td>\n",
       "      <td>511-534</td>\n",
       "      <td>292-315</td>\n",
       "    </tr>\n",
       "    <tr>\n",
       "      <th>15</th>\n",
       "      <td>../data/compressed_val/zysjfp0sudl8akdtkbho30jrnozflzen.mp4</td>\n",
       "      <td>../data/compressed_index/a5e7e8e91ac48f3b97b67d60e68a692d.mp4</td>\n",
       "      <td>433-601</td>\n",
       "      <td>548-716</td>\n",
       "    </tr>\n",
       "    <tr>\n",
       "      <th>16</th>\n",
       "      <td>../data/compressed_val/22ew5jtemhsgpxudct6ejxsqbw5uwcsg.mp4</td>\n",
       "      <td>../data/compressed_index/a0fddca7a0e6c22602519fb3f114cb1f.mp4</td>\n",
       "      <td>527-627</td>\n",
       "      <td>183-283</td>\n",
       "    </tr>\n",
       "    <tr>\n",
       "      <th>17</th>\n",
       "      <td>../data/compressed_val/1hnanoy0dcrb4bz50flv2q5rb3izwtgm.mp4</td>\n",
       "      <td>../data/compressed_index/e86b5bcd2a5add19d6ab7bb0ac728850.mp4</td>\n",
       "      <td>195-539</td>\n",
       "      <td>183-527</td>\n",
       "    </tr>\n",
       "    <tr>\n",
       "      <th>18</th>\n",
       "      <td>../data/compressed_val/j1knjs2lm6ypv3ym826uaathrjels8w0.mp4</td>\n",
       "      <td>../data/compressed_index/364d6150562b35fefff3ce6b3fdf843e.mp4</td>\n",
       "      <td>374-515</td>\n",
       "      <td>684-825</td>\n",
       "    </tr>\n",
       "    <tr>\n",
       "      <th>19</th>\n",
       "      <td>../data/compressed_val/3961gnm434ejvhn16p26lq5l0srat4w4.mp4</td>\n",
       "      <td>../data/compressed_index/b22a4cc53f1a2ceb3c6a627e62fb9fe6.mp4</td>\n",
       "      <td>201-336</td>\n",
       "      <td>280-415</td>\n",
       "    </tr>\n",
       "    <tr>\n",
       "      <th>20</th>\n",
       "      <td>../data/compressed_val/1mastbspapvvcev6l2zcdrpapilzwodz.mp4</td>\n",
       "      <td>../data/compressed_index/c427976287995fdb66b4848d022de1ed.mp4</td>\n",
       "      <td>163-212</td>\n",
       "      <td>114-163</td>\n",
       "    </tr>\n",
       "    <tr>\n",
       "      <th>21</th>\n",
       "      <td>../data/compressed_val/kceadxrgekap16mvjlczdeddedel940u.mp4</td>\n",
       "      <td>../data/compressed_index/1139cb90feffbb3b435cb720f8e7c426.mp4</td>\n",
       "      <td>287-329</td>\n",
       "      <td>187-229</td>\n",
       "    </tr>\n",
       "    <tr>\n",
       "      <th>22</th>\n",
       "      <td>../data/compressed_val/3pdxjxiv0tb2zpya8cbycyofparwx7vb.mp4</td>\n",
       "      <td>../data/compressed_index/7eecbd10bdaa596c2921ecb9bf7dbf69.mp4</td>\n",
       "      <td>143-322</td>\n",
       "      <td>767-946</td>\n",
       "    </tr>\n",
       "    <tr>\n",
       "      <th>23</th>\n",
       "      <td>../data/compressed_val/cfp1zavwg3ua4j72awb0bui633ndb7d7.mp4</td>\n",
       "      <td>../data/compressed_index/cb718f23524eb08af2f8036eedc6b50c.mp4</td>\n",
       "      <td>302-353</td>\n",
       "      <td>499-550</td>\n",
       "    </tr>\n",
       "    <tr>\n",
       "      <th>24</th>\n",
       "      <td>../data/compressed_val/5olhetmb6p918sovlqclokqbmbdb6foi.mp4</td>\n",
       "      <td>../data/compressed_index/a2ab633f71a416390a8fcab8cc71893d.mp4</td>\n",
       "      <td>1307-1427</td>\n",
       "      <td>1030-1150</td>\n",
       "    </tr>\n",
       "    <tr>\n",
       "      <th>25</th>\n",
       "      <td>../data/compressed_val/j9079o5qhy34y9cghgg9uby99153q6do.mp4</td>\n",
       "      <td>../data/compressed_index/b22a4cc53f1a2ceb3c6a627e62fb9fe6.mp4</td>\n",
       "      <td>74-272</td>\n",
       "      <td>973-1171</td>\n",
       "    </tr>\n",
       "    <tr>\n",
       "      <th>26</th>\n",
       "      <td>../data/compressed_val/73wv8vu5u9ifex35289mu13mkz6y7vrs.mp4</td>\n",
       "      <td>../data/compressed_index/6282b824b0deb7f7b3fa297a96b44fa1.mp4</td>\n",
       "      <td>181-481</td>\n",
       "      <td>269-569</td>\n",
       "    </tr>\n",
       "    <tr>\n",
       "      <th>27</th>\n",
       "      <td>../data/compressed_val/p06tut8y8qeci79qnket9yim7gokf9rt.mp4</td>\n",
       "      <td>../data/compressed_index/3015bdd1e3fa10b87c0a95c78ee9669f.mp4</td>\n",
       "      <td>392-621</td>\n",
       "      <td>585-814</td>\n",
       "    </tr>\n",
       "    <tr>\n",
       "      <th>28</th>\n",
       "      <td>../data/compressed_val/d4larnfpkw8kk36kx8uon23bvo6df8wf.mp4</td>\n",
       "      <td>../data/compressed_index/284d39d6a9aa182a75b0c2bf6e7755bf.mp4</td>\n",
       "      <td>536-574</td>\n",
       "      <td>184-222</td>\n",
       "    </tr>\n",
       "    <tr>\n",
       "      <th>29</th>\n",
       "      <td>../data/compressed_val/vkss350o0wioyp19x1krhw1dthc5olqw.mp4</td>\n",
       "      <td>../data/compressed_index/4dbf1e5781face4cfadef43ca2805ce6.mp4</td>\n",
       "      <td>77-182</td>\n",
       "      <td>564-669</td>\n",
       "    </tr>\n",
       "    <tr>\n",
       "      <th>30</th>\n",
       "      <td>../data/compressed_val/4moiegj6e29s982cmfc4um41u3ciom28.mp4</td>\n",
       "      <td>../data/compressed_index/7bb493e79dd64a9056aba9a4ef11f864.mp4</td>\n",
       "      <td>707-751</td>\n",
       "      <td>187-231</td>\n",
       "    </tr>\n",
       "    <tr>\n",
       "      <th>31</th>\n",
       "      <td>../data/compressed_val/4yf1e6h236n00lp7ckc80j01fwubylnn.mp4</td>\n",
       "      <td>../data/compressed_index/fe8ac2d7f57582ac5665692813d76efa.mp4</td>\n",
       "      <td>525-767</td>\n",
       "      <td>549-791</td>\n",
       "    </tr>\n",
       "    <tr>\n",
       "      <th>32</th>\n",
       "      <td>../data/compressed_val/2pi7qzi2tlieo97f3p591g1zosfs2i0d.mp4</td>\n",
       "      <td>../data/compressed_index/6fb08b4147396d8c4987a58947d97f1f.mp4</td>\n",
       "      <td>771-969</td>\n",
       "      <td>176-374</td>\n",
       "    </tr>\n",
       "    <tr>\n",
       "      <th>33</th>\n",
       "      <td>../data/compressed_val/2rz91lm6tdak51jzq9vymdyqrlnucj7e.mp4</td>\n",
       "      <td>../data/compressed_index/908fdc7c1846b14320528fa5f7504298.mp4</td>\n",
       "      <td>508-585</td>\n",
       "      <td>218-295</td>\n",
       "    </tr>\n",
       "    <tr>\n",
       "      <th>34</th>\n",
       "      <td>../data/compressed_val/lrei5atlttg6uohvrcp7cl2ipp95n2kw.mp4</td>\n",
       "      <td>../data/compressed_index/5ddd14aa6e5928bb215b9ed1b073af91.mp4</td>\n",
       "      <td>1100-1206</td>\n",
       "      <td>685-791</td>\n",
       "    </tr>\n",
       "    <tr>\n",
       "      <th>35</th>\n",
       "      <td>../data/compressed_val/j8zf2pvs95w0560j65dhxj3ddllvi2jm.mp4</td>\n",
       "      <td>../data/compressed_index/585db0ca94b5180c38e035b5556f35a1.mp4</td>\n",
       "      <td>346-436</td>\n",
       "      <td>125-215</td>\n",
       "    </tr>\n",
       "    <tr>\n",
       "      <th>36</th>\n",
       "      <td>../data/compressed_val/au7l866d46tqc9cgsc6mi4zb64amc0rn.mp4</td>\n",
       "      <td>../data/compressed_index/2b2bd2e70854a4589ec03d48946c639b.mp4</td>\n",
       "      <td>397-528</td>\n",
       "      <td>526-657</td>\n",
       "    </tr>\n",
       "    <tr>\n",
       "      <th>37</th>\n",
       "      <td>../data/compressed_val/ngoopafczsdldajhbt5n3ppi6p8i4qe2.mp4</td>\n",
       "      <td>../data/compressed_index/50c21056c86938b2db72b2390a8657a1.mp4</td>\n",
       "      <td>527-622</td>\n",
       "      <td>313-408</td>\n",
       "    </tr>\n",
       "    <tr>\n",
       "      <th>38</th>\n",
       "      <td>../data/compressed_val/f26pkjt7uvc5r1u0s6swwucuvcp0ynfi.mp4</td>\n",
       "      <td>../data/compressed_index/cb718f23524eb08af2f8036eedc6b50c.mp4</td>\n",
       "      <td>655-717</td>\n",
       "      <td>318-380</td>\n",
       "    </tr>\n",
       "    <tr>\n",
       "      <th>39</th>\n",
       "      <td>../data/compressed_val/sb89fsoc8iox2xypjvr2qe63a9n2aqvm.mp4</td>\n",
       "      <td>../data/compressed_index/1c0258e20430ce9defb4e0f68b9b5d88.mp4</td>\n",
       "      <td>333-415</td>\n",
       "      <td>926-1008</td>\n",
       "    </tr>\n",
       "    <tr>\n",
       "      <th>40</th>\n",
       "      <td>../data/compressed_val/8zqlfw40ju2gyjwwsy1kxl2x679jntv9.mp4</td>\n",
       "      <td>../data/compressed_index/a808f0de343faf6320bcc94ea57c5381.mp4</td>\n",
       "      <td>390-541</td>\n",
       "      <td>922-1073</td>\n",
       "    </tr>\n",
       "    <tr>\n",
       "      <th>41</th>\n",
       "      <td>../data/compressed_val/1mel0cixmsbvtjcxkqggn9l31kr5ebhq.mp4</td>\n",
       "      <td>../data/compressed_index/dafb9f1c3854f229fab21115480e6d15.mp4</td>\n",
       "      <td>783-883</td>\n",
       "      <td>275-375</td>\n",
       "    </tr>\n",
       "    <tr>\n",
       "      <th>42</th>\n",
       "      <td>../data/compressed_val/g8mh0cg8nradear0n0ycrpvtffphkwog.mp4</td>\n",
       "      <td>../data/compressed_index/6380d5ec5a821f8c52ef9802140ce061.mp4</td>\n",
       "      <td>342-452</td>\n",
       "      <td>290-400</td>\n",
       "    </tr>\n",
       "    <tr>\n",
       "      <th>43</th>\n",
       "      <td>../data/compressed_val/pnki3rjq1s3jj84fifan0yychrmdyn0e.mp4</td>\n",
       "      <td>../data/compressed_index/e3096f769d001066c09815c404695de1.mp4</td>\n",
       "      <td>192-303</td>\n",
       "      <td>758-869</td>\n",
       "    </tr>\n",
       "    <tr>\n",
       "      <th>44</th>\n",
       "      <td>../data/compressed_val/7w6ceiru9q546iyg18tlqdc8clsg8d0i.mp4</td>\n",
       "      <td>../data/compressed_index/0cf954675163c4fe8f1313b6e6bb8c19.mp4</td>\n",
       "      <td>634-894</td>\n",
       "      <td>368-628</td>\n",
       "    </tr>\n",
       "    <tr>\n",
       "      <th>45</th>\n",
       "      <td>../data/compressed_val/2ajrs858a4t7o8qk5ekbhdpglcxv1oqd.mp4</td>\n",
       "      <td>../data/compressed_index/a5e82d6e848953832d839212af0fefd2.mp4</td>\n",
       "      <td>343-418</td>\n",
       "      <td>468-543</td>\n",
       "    </tr>\n",
       "    <tr>\n",
       "      <th>46</th>\n",
       "      <td>../data/compressed_val/9dbhbl6mkuskk9lydey7z1zmsag30o8f.mp4</td>\n",
       "      <td>../data/compressed_index/14c54ef6b75198ae1747c5f990e22fa8.mp4</td>\n",
       "      <td>240-333</td>\n",
       "      <td>102-195</td>\n",
       "    </tr>\n",
       "    <tr>\n",
       "      <th>47</th>\n",
       "      <td>../data/compressed_val/ybh3klsgodidxxtdzcuiccp5yuyvntyb.mp4</td>\n",
       "      <td>../data/compressed_index/c0c80fafdf3e08b83e210e0725da0ef8.mp4</td>\n",
       "      <td>414-670</td>\n",
       "      <td>435-691</td>\n",
       "    </tr>\n",
       "    <tr>\n",
       "      <th>48</th>\n",
       "      <td>../data/compressed_val/flfhe2gr98wlznl1clek9x2a66apsirc.mp4</td>\n",
       "      <td>../data/compressed_index/f6d670c13805ccb1162d87f1d2284233.mp4</td>\n",
       "      <td>365-547</td>\n",
       "      <td>363-545</td>\n",
       "    </tr>\n",
       "    <tr>\n",
       "      <th>49</th>\n",
       "      <td>../data/compressed_val/kkvpdhtbdrqrzdxqd9glnf0ix5yt94fy.mp4</td>\n",
       "      <td>../data/compressed_index/35a738eba388a0d4ba332676af7b23d3.mp4</td>\n",
       "      <td>570-786</td>\n",
       "      <td>664-880</td>\n",
       "    </tr>\n",
       "    <tr>\n",
       "      <th>50</th>\n",
       "      <td>../data/compressed_val/tba36ca7s82126s1qdvpxavucwlwkwvi.mp4</td>\n",
       "      <td>../data/compressed_index/1c0258e20430ce9defb4e0f68b9b5d88.mp4</td>\n",
       "      <td>245-526</td>\n",
       "      <td>454-735</td>\n",
       "    </tr>\n",
       "    <tr>\n",
       "      <th>51</th>\n",
       "      <td>../data/compressed_val/zrtduqytzt9xqdlbgniatrjii7w8dgtd.mp4</td>\n",
       "      <td>../data/compressed_index/eb7f498a7cb1c4c0234fdec4f2d1a174.mp4</td>\n",
       "      <td>70-211</td>\n",
       "      <td>1152-1293</td>\n",
       "    </tr>\n",
       "    <tr>\n",
       "      <th>52</th>\n",
       "      <td>../data/compressed_val/m8dqcl8ilhr2cxuhvfadi2cgyyushieb.mp4</td>\n",
       "      <td>../data/compressed_index/a0fddca7a0e6c22602519fb3f114cb1f.mp4</td>\n",
       "      <td>189-413</td>\n",
       "      <td>904-1128</td>\n",
       "    </tr>\n",
       "    <tr>\n",
       "      <th>53</th>\n",
       "      <td>../data/compressed_val/ro5vxuy2gteal3uvxkfvkuwmyttwu7bl.mp4</td>\n",
       "      <td>../data/compressed_index/8639eb15e5e5d357c5a22b83313db6b0.mp4</td>\n",
       "      <td>219-301</td>\n",
       "      <td>719-801</td>\n",
       "    </tr>\n",
       "    <tr>\n",
       "      <th>54</th>\n",
       "      <td>../data/compressed_val/50vccj3b4afnbpobofwy6j4ool43snud.mp4</td>\n",
       "      <td>../data/compressed_index/a4dd59660a0f7e0299e2fac4c4f2e5e1.mp4</td>\n",
       "      <td>358-508</td>\n",
       "      <td>679-829</td>\n",
       "    </tr>\n",
       "    <tr>\n",
       "      <th>55</th>\n",
       "      <td>../data/compressed_val/8yi9moktsprrk0j104cgowljpczijcep.mp4</td>\n",
       "      <td>../data/compressed_index/d515a3eb5f4de4ae0e14ddefa98ef06f.mp4</td>\n",
       "      <td>130-270</td>\n",
       "      <td>242-382</td>\n",
       "    </tr>\n",
       "    <tr>\n",
       "      <th>56</th>\n",
       "      <td>../data/compressed_val/o78nyjh24zgk2b616v08q2elk9aqyn3u.mp4</td>\n",
       "      <td>../data/compressed_index/f6d670c13805ccb1162d87f1d2284233.mp4</td>\n",
       "      <td>703-780</td>\n",
       "      <td>571-648</td>\n",
       "    </tr>\n",
       "    <tr>\n",
       "      <th>57</th>\n",
       "      <td>../data/compressed_val/3vavkyexv7y9of185lbkiiljqhwcjd2w.mp4</td>\n",
       "      <td>../data/compressed_index/a2404a2daf5898d5a41c954531f3ff94.mp4</td>\n",
       "      <td>325-396</td>\n",
       "      <td>359-430</td>\n",
       "    </tr>\n",
       "    <tr>\n",
       "      <th>58</th>\n",
       "      <td>../data/compressed_val/79n9do1zvdcd0i9yshhicwalmgkkne8h.mp4</td>\n",
       "      <td>../data/compressed_index/6282b824b0deb7f7b3fa297a96b44fa1.mp4</td>\n",
       "      <td>183-491</td>\n",
       "      <td>219-527</td>\n",
       "    </tr>\n",
       "    <tr>\n",
       "      <th>59</th>\n",
       "      <td>../data/compressed_val/0yyud8swqht4y602rqyby3smkl6ijgh7.mp4</td>\n",
       "      <td>../data/compressed_index/6adf7c896799d0c5d63486af2d25078b.mp4</td>\n",
       "      <td>342-432</td>\n",
       "      <td>132-222</td>\n",
       "    </tr>\n",
       "    <tr>\n",
       "      <th>60</th>\n",
       "      <td>../data/compressed_val/j5y7zyadywzfqwb74d8ddc93kicenomo.mp4</td>\n",
       "      <td>../data/compressed_index/7e09f3289ca4942b2621cc1c6988000b.mp4</td>\n",
       "      <td>618-783</td>\n",
       "      <td>279-444</td>\n",
       "    </tr>\n",
       "    <tr>\n",
       "      <th>61</th>\n",
       "      <td>../data/compressed_val/xhmzer4zgjilpg7cx9iziiw3usxqysae.mp4</td>\n",
       "      <td>../data/compressed_index/2cf3241929c3a2e03d76cb90b6f7740b.mp4</td>\n",
       "      <td>386-561</td>\n",
       "      <td>241-416</td>\n",
       "    </tr>\n",
       "    <tr>\n",
       "      <th>62</th>\n",
       "      <td>../data/compressed_val/h5f6wjbs4s32m8y7ux9gq1nk2zv3aiqg.mp4</td>\n",
       "      <td>../data/compressed_index/c4f464b3679c325b3c7fce341783950c.mp4</td>\n",
       "      <td>215-283</td>\n",
       "      <td>362-430</td>\n",
       "    </tr>\n",
       "    <tr>\n",
       "      <th>63</th>\n",
       "      <td>../data/compressed_val/b7pq4tvu54idw04mckuwk9r4wn8qyw05.mp4</td>\n",
       "      <td>../data/compressed_index/d515a3eb5f4de4ae0e14ddefa98ef06f.mp4</td>\n",
       "      <td>135-315</td>\n",
       "      <td>667-847</td>\n",
       "    </tr>\n",
       "    <tr>\n",
       "      <th>64</th>\n",
       "      <td>../data/compressed_val/skw73f6m29r0baivnuda0523g7xh9vqb.mp4</td>\n",
       "      <td>../data/compressed_index/ded35ffe65135e06e72a196c950bc595.mp4</td>\n",
       "      <td>219-386</td>\n",
       "      <td>409-576</td>\n",
       "    </tr>\n",
       "    <tr>\n",
       "      <th>65</th>\n",
       "      <td>../data/compressed_val/fyql7xvx965w2y80mth8dzalsf3rl0im.mp4</td>\n",
       "      <td>../data/compressed_index/fcd5f6be6670fea1f8cefda033f2809d.mp4</td>\n",
       "      <td>157-394</td>\n",
       "      <td>287-524</td>\n",
       "    </tr>\n",
       "    <tr>\n",
       "      <th>66</th>\n",
       "      <td>../data/compressed_val/tdan734clfh5ucd8ugn0d2x0nnc3eh3i.mp4</td>\n",
       "      <td>../data/compressed_index/243d56ee80d652ea5f7c6870d4bb7e12.mp4</td>\n",
       "      <td>1268-1377</td>\n",
       "      <td>528-637</td>\n",
       "    </tr>\n",
       "    <tr>\n",
       "      <th>67</th>\n",
       "      <td>../data/compressed_val/035vv3223ajwox00vxp5saz7uuj20j8h.mp4</td>\n",
       "      <td>../data/compressed_index/cc0904d3de995d4851de65b93860d8d5.mp4</td>\n",
       "      <td>735-961</td>\n",
       "      <td>378-604</td>\n",
       "    </tr>\n",
       "    <tr>\n",
       "      <th>68</th>\n",
       "      <td>../data/compressed_val/f6t691pvpsrsnfswunaot5129w2ygwj9.mp4</td>\n",
       "      <td>../data/compressed_index/a0c9cc64088f25405de0588ec7a4caba.mp4</td>\n",
       "      <td>622-856</td>\n",
       "      <td>1024-1258</td>\n",
       "    </tr>\n",
       "    <tr>\n",
       "      <th>69</th>\n",
       "      <td>../data/compressed_val/ku3hbj1aj71scmeoexrhapn4t4d46cdv.mp4</td>\n",
       "      <td>../data/compressed_index/0f0c6bdc92c5e36dd49883ab3622b52c.mp4</td>\n",
       "      <td>169-266</td>\n",
       "      <td>341-438</td>\n",
       "    </tr>\n",
       "    <tr>\n",
       "      <th>70</th>\n",
       "      <td>../data/compressed_val/96hbwu3j3wi3hmx04ac24p6c5j6ifto6.mp4</td>\n",
       "      <td>../data/compressed_index/e1752df306182c86be1610004c816744.mp4</td>\n",
       "      <td>153-315</td>\n",
       "      <td>517-679</td>\n",
       "    </tr>\n",
       "    <tr>\n",
       "      <th>71</th>\n",
       "      <td>../data/compressed_val/p4kyh5bzplnprzwh574uxpssaw4ck1f4.mp4</td>\n",
       "      <td>../data/compressed_index/aabedcb044b0c6b093e313377eeef77d.mp4</td>\n",
       "      <td>438-519</td>\n",
       "      <td>110-191</td>\n",
       "    </tr>\n",
       "    <tr>\n",
       "      <th>72</th>\n",
       "      <td>../data/compressed_val/h5yr7xfj1xqileqzzkpm3ban3ih655gl.mp4</td>\n",
       "      <td>../data/compressed_index/ebb18918a861827b0c4488bf435a5def.mp4</td>\n",
       "      <td>476-518</td>\n",
       "      <td>183-225</td>\n",
       "    </tr>\n",
       "    <tr>\n",
       "      <th>73</th>\n",
       "      <td>../data/compressed_val/fu8vpv2davwh1do1fza7g9pgasm68ngt.mp4</td>\n",
       "      <td>../data/compressed_index/3219f476e4bc29f6f420e4e6b05ae8bb.mp4</td>\n",
       "      <td>225-340</td>\n",
       "      <td>193-308</td>\n",
       "    </tr>\n",
       "    <tr>\n",
       "      <th>74</th>\n",
       "      <td>../data/compressed_val/3lm2a8ki54z9lf1wpt8nqqimnfd5ajsj.mp4</td>\n",
       "      <td>../data/compressed_index/cd08a80aae2b212a987cba6e9207e6ab.mp4</td>\n",
       "      <td>320-425</td>\n",
       "      <td>333-438</td>\n",
       "    </tr>\n",
       "    <tr>\n",
       "      <th>75</th>\n",
       "      <td>../data/compressed_val/iab4sigv3osn8tw3fch4l6z2ik33u8cl.mp4</td>\n",
       "      <td>../data/compressed_index/56c9e111571c4847afd4ce4ed1c3c5c9.mp4</td>\n",
       "      <td>522-607</td>\n",
       "      <td>296-381</td>\n",
       "    </tr>\n",
       "    <tr>\n",
       "      <th>76</th>\n",
       "      <td>../data/compressed_val/967l3y2xa9jc2spud4jsuzf6ebiuss2h.mp4</td>\n",
       "      <td>../data/compressed_index/32ccad6eb2071f96a7664b4df4b0eeb6.mp4</td>\n",
       "      <td>377-445</td>\n",
       "      <td>360-428</td>\n",
       "    </tr>\n",
       "    <tr>\n",
       "      <th>77</th>\n",
       "      <td>../data/compressed_val/96ew6evlx3ivbx97gp28bzxwxsyqe0j1.mp4</td>\n",
       "      <td>../data/compressed_index/364d6150562b35fefff3ce6b3fdf843e.mp4</td>\n",
       "      <td>385-607</td>\n",
       "      <td>999-1221</td>\n",
       "    </tr>\n",
       "    <tr>\n",
       "      <th>78</th>\n",
       "      <td>../data/compressed_val/m3ozbvsd3otqlebrniugrxvgh9k7qxre.mp4</td>\n",
       "      <td>../data/compressed_index/5d83e3a64f395100d95ca2daebeb6968.mp4</td>\n",
       "      <td>119-221</td>\n",
       "      <td>475-577</td>\n",
       "    </tr>\n",
       "    <tr>\n",
       "      <th>79</th>\n",
       "      <td>../data/compressed_val/wd6i4pislndwtth1hc0yrg23f9y3r8gw.mp4</td>\n",
       "      <td>../data/compressed_index/afa4ac13ec1628e7f66493783cf7550e.mp4</td>\n",
       "      <td>53-134</td>\n",
       "      <td>642-723</td>\n",
       "    </tr>\n",
       "    <tr>\n",
       "      <th>80</th>\n",
       "      <td>../data/compressed_val/fiv5dsqsi54wginjvi4x413kbdogvluq.mp4</td>\n",
       "      <td>../data/compressed_index/0c6e4cdaa192d1ae58b99bc9f35891b9.mp4</td>\n",
       "      <td>608-851</td>\n",
       "      <td>245-488</td>\n",
       "    </tr>\n",
       "    <tr>\n",
       "      <th>81</th>\n",
       "      <td>../data/compressed_val/trolu4u4x0papaka1kro8sw2es7sfkgt.mp4</td>\n",
       "      <td>../data/compressed_index/385aa59a55cc47d6bc1a3773d219b14b.mp4</td>\n",
       "      <td>223-468</td>\n",
       "      <td>1260-1505</td>\n",
       "    </tr>\n",
       "    <tr>\n",
       "      <th>82</th>\n",
       "      <td>../data/compressed_val/s8yxewuimgjz0ytip8qyaekjnofoqnvd.mp4</td>\n",
       "      <td>../data/compressed_index/5d83e3a64f395100d95ca2daebeb6968.mp4</td>\n",
       "      <td>440-493</td>\n",
       "      <td>383-436</td>\n",
       "    </tr>\n",
       "    <tr>\n",
       "      <th>83</th>\n",
       "      <td>../data/compressed_val/v5aenev54uswnwiqldt0gbo9z8l0zeof.mp4</td>\n",
       "      <td>../data/compressed_index/751a09c81e0ab9e16c3cb478bbe06917.mp4</td>\n",
       "      <td>215-302</td>\n",
       "      <td>190-277</td>\n",
       "    </tr>\n",
       "    <tr>\n",
       "      <th>84</th>\n",
       "      <td>../data/compressed_val/2zdavdjxmwtbmuaa7gb4rv8q9erdb0pk.mp4</td>\n",
       "      <td>../data/compressed_index/5395805ebaa0b977c845b36618e9dc99.mp4</td>\n",
       "      <td>104-227</td>\n",
       "      <td>84-207</td>\n",
       "    </tr>\n",
       "    <tr>\n",
       "      <th>85</th>\n",
       "      <td>../data/compressed_val/jxonewunkome49nfpmf7l312mucqh4hu.mp4</td>\n",
       "      <td>../data/compressed_index/ce9697edebdbec509944e8a010d91d0e.mp4</td>\n",
       "      <td>380-440</td>\n",
       "      <td>239-299</td>\n",
       "    </tr>\n",
       "    <tr>\n",
       "      <th>86</th>\n",
       "      <td>../data/compressed_val/hqhzbr2jkee9cbc9vpi43r768yc7fja5.mp4</td>\n",
       "      <td>../data/compressed_index/d8f7d4ce5c37e725dc47d634a4115011.mp4</td>\n",
       "      <td>473-651</td>\n",
       "      <td>378-556</td>\n",
       "    </tr>\n",
       "    <tr>\n",
       "      <th>87</th>\n",
       "      <td>../data/compressed_val/ua3b4zgw6u3aiet6i5bywosnwd68vbaa.mp4</td>\n",
       "      <td>../data/compressed_index/a808f0de343faf6320bcc94ea57c5381.mp4</td>\n",
       "      <td>884-961</td>\n",
       "      <td>1068-1145</td>\n",
       "    </tr>\n",
       "    <tr>\n",
       "      <th>88</th>\n",
       "      <td>../data/compressed_val/txifdrfbblr48a03h7n0u77poxarf7pk.mp4</td>\n",
       "      <td>../data/compressed_index/92c603f6d4d3680426c801fd316c7278.mp4</td>\n",
       "      <td>151-238</td>\n",
       "      <td>502-589</td>\n",
       "    </tr>\n",
       "    <tr>\n",
       "      <th>89</th>\n",
       "      <td>../data/compressed_val/5dhv8t8u4bzz3t60i0z37ybvnc3fhx3d.mp4</td>\n",
       "      <td>../data/compressed_index/9d7556dfe0525974208de01561925d19.mp4</td>\n",
       "      <td>297-546</td>\n",
       "      <td>276-525</td>\n",
       "    </tr>\n",
       "    <tr>\n",
       "      <th>90</th>\n",
       "      <td>../data/compressed_val/f57x13sbyjhy3pvfjkktgn6gshle297y.mp4</td>\n",
       "      <td>../data/compressed_index/7e09f3289ca4942b2621cc1c6988000b.mp4</td>\n",
       "      <td>353-432</td>\n",
       "      <td>729-808</td>\n",
       "    </tr>\n",
       "    <tr>\n",
       "      <th>91</th>\n",
       "      <td>../data/compressed_val/f8zanhn7jy6fkv1zx08ye2pqwsgw6tzq.mp4</td>\n",
       "      <td>../data/compressed_index/38108a2c4d272259f4ed856bfcd535b3.mp4</td>\n",
       "      <td>835-899</td>\n",
       "      <td>282-346</td>\n",
       "    </tr>\n",
       "    <tr>\n",
       "      <th>92</th>\n",
       "      <td>../data/compressed_val/hr06493kr7xepnbudwrmgwuipwhndrx8.mp4</td>\n",
       "      <td>../data/compressed_index/867f29bc176c8b011a4bb698204421ad.mp4</td>\n",
       "      <td>211-417</td>\n",
       "      <td>185-391</td>\n",
       "    </tr>\n",
       "    <tr>\n",
       "      <th>93</th>\n",
       "      <td>../data/compressed_val/liq5jofik25t984zc64muqaumognlxx4.mp4</td>\n",
       "      <td>../data/compressed_index/792aa0f782f9a89e402a4f994595d7c8.mp4</td>\n",
       "      <td>382-584</td>\n",
       "      <td>1211-1413</td>\n",
       "    </tr>\n",
       "    <tr>\n",
       "      <th>94</th>\n",
       "      <td>../data/compressed_val/c065n4qot1d9lx8nujxktcycak6nm9ja.mp4</td>\n",
       "      <td>../data/compressed_index/a5e7e8e91ac48f3b97b67d60e68a692d.mp4</td>\n",
       "      <td>318-442</td>\n",
       "      <td>657-781</td>\n",
       "    </tr>\n",
       "    <tr>\n",
       "      <th>95</th>\n",
       "      <td>../data/compressed_val/jprquw6clyws9irvyipzq1t061aylaak.mp4</td>\n",
       "      <td>../data/compressed_index/08d8224d59b55298abaf56b35a2753e3.mp4</td>\n",
       "      <td>939-1036</td>\n",
       "      <td>502-599</td>\n",
       "    </tr>\n",
       "    <tr>\n",
       "      <th>96</th>\n",
       "      <td>../data/compressed_val/pzaedhfql7yqnjc0mrwfe7hvnujr4h0a.mp4</td>\n",
       "      <td>../data/compressed_index/2b339d59430f743ec2273408d302b9dc.mp4</td>\n",
       "      <td>299-587</td>\n",
       "      <td>895-1183</td>\n",
       "    </tr>\n",
       "    <tr>\n",
       "      <th>97</th>\n",
       "      <td>../data/compressed_val/ds6m2l0tldigp6o5v654z2jys9jto8r9.mp4</td>\n",
       "      <td>../data/compressed_index/cc0904d3de995d4851de65b93860d8d5.mp4</td>\n",
       "      <td>1423-1486</td>\n",
       "      <td>771-834</td>\n",
       "    </tr>\n",
       "    <tr>\n",
       "      <th>98</th>\n",
       "      <td>../data/compressed_val/w9pvrf90lykr2qtbavoqvy7t1atwdon0.mp4</td>\n",
       "      <td>../data/compressed_index/cfb0bd0b45bdfb65799323ec243ca429.mp4</td>\n",
       "      <td>862-915</td>\n",
       "      <td>403-456</td>\n",
       "    </tr>\n",
       "    <tr>\n",
       "      <th>99</th>\n",
       "      <td>../data/compressed_val/bh6l4uc4zq0pkzcqkgup35pkjzku13h8.mp4</td>\n",
       "      <td>../data/compressed_index/1c0258e20430ce9defb4e0f68b9b5d88.mp4</td>\n",
       "      <td>224-479</td>\n",
       "      <td>1058-1313</td>\n",
       "    </tr>\n",
       "    <tr>\n",
       "      <th>100</th>\n",
       "      <td>../data/compressed_val/yiowf7vlm6py9qyueks4l9d1hgt5ia89.mp4</td>\n",
       "      <td>../data/compressed_index/385aa59a55cc47d6bc1a3773d219b14b.mp4</td>\n",
       "      <td>127-430</td>\n",
       "      <td>1026-1329</td>\n",
       "    </tr>\n",
       "    <tr>\n",
       "      <th>101</th>\n",
       "      <td>../data/compressed_val/7vp1o4fb67m69bieukrjfnbj1to7jyjz.mp4</td>\n",
       "      <td>../data/compressed_index/4d03cff18447ff0e57785eedfea2c0d0.mp4</td>\n",
       "      <td>497-595</td>\n",
       "      <td>287-385</td>\n",
       "    </tr>\n",
       "    <tr>\n",
       "      <th>102</th>\n",
       "      <td>../data/compressed_val/n51u2agfeoe5ne26qsl7bgn7330hs05l.mp4</td>\n",
       "      <td>../data/compressed_index/9cbc3cf610701511c42774984a4b6aa1.mp4</td>\n",
       "      <td>484-595</td>\n",
       "      <td>188-299</td>\n",
       "    </tr>\n",
       "    <tr>\n",
       "      <th>103</th>\n",
       "      <td>../data/compressed_val/t1ad7nb4tzqqirbuq7qlf8hzfct1j16x.mp4</td>\n",
       "      <td>../data/compressed_index/1f17968167d4b0487cdebb6a67b4f148.mp4</td>\n",
       "      <td>842-926</td>\n",
       "      <td>1074-1158</td>\n",
       "    </tr>\n",
       "    <tr>\n",
       "      <th>104</th>\n",
       "      <td>../data/compressed_val/yluw3lm8eh8iyyg18cid6rg189zmygb1.mp4</td>\n",
       "      <td>../data/compressed_index/0ea016128113476c741eba66ecbb5f0a.mp4</td>\n",
       "      <td>293-402</td>\n",
       "      <td>821-930</td>\n",
       "    </tr>\n",
       "    <tr>\n",
       "      <th>105</th>\n",
       "      <td>../data/compressed_val/dh63fi8xysxbpa9jonzhiyx7dd0h1g2q.mp4</td>\n",
       "      <td>../data/compressed_index/0ea016128113476c741eba66ecbb5f0a.mp4</td>\n",
       "      <td>100-410</td>\n",
       "      <td>1163-1473</td>\n",
       "    </tr>\n",
       "    <tr>\n",
       "      <th>106</th>\n",
       "      <td>../data/compressed_val/qzqd3bmnqtkz3b5qic0lnomzkrddmvr5.mp4</td>\n",
       "      <td>../data/compressed_index/0ac7ed0507b2364e40030d11bf52ee5d.mp4</td>\n",
       "      <td>524-635</td>\n",
       "      <td>291-402</td>\n",
       "    </tr>\n",
       "    <tr>\n",
       "      <th>107</th>\n",
       "      <td>../data/compressed_val/nuv9h3duzp5dknibh6un2e9uszipnncb.mp4</td>\n",
       "      <td>../data/compressed_index/92da6d10f228ef3a4ab8e86386b778a0.mp4</td>\n",
       "      <td>214-358</td>\n",
       "      <td>327-471</td>\n",
       "    </tr>\n",
       "    <tr>\n",
       "      <th>108</th>\n",
       "      <td>../data/compressed_val/bx4mvk6xtltbq3skhrkv1x27qjv5rvyf.mp4</td>\n",
       "      <td>../data/compressed_index/97dfff80d98a8db50fa90dc01651a64f.mp4</td>\n",
       "      <td>592-730</td>\n",
       "      <td>104-242</td>\n",
       "    </tr>\n",
       "    <tr>\n",
       "      <th>109</th>\n",
       "      <td>../data/compressed_val/o6eaogcjtuy8tlh1d1ciknv12ow40lvh.mp4</td>\n",
       "      <td>../data/compressed_index/d65ffffb8545ab26c7a5d9b34bda193c.mp4</td>\n",
       "      <td>233-289</td>\n",
       "      <td>150-206</td>\n",
       "    </tr>\n",
       "    <tr>\n",
       "      <th>110</th>\n",
       "      <td>../data/compressed_val/xdiymvwb8xd5def8kjdkavfvzodd83q0.mp4</td>\n",
       "      <td>../data/compressed_index/0f0c6bdc92c5e36dd49883ab3622b52c.mp4</td>\n",
       "      <td>571-796</td>\n",
       "      <td>150-375</td>\n",
       "    </tr>\n",
       "    <tr>\n",
       "      <th>111</th>\n",
       "      <td>../data/compressed_val/ri0jqekrxqw7sfttuz5oq4ui9pojb9rm.mp4</td>\n",
       "      <td>../data/compressed_index/0500d9579ac7e381982e06c1110bcdf3.mp4</td>\n",
       "      <td>165-322</td>\n",
       "      <td>208-365</td>\n",
       "    </tr>\n",
       "    <tr>\n",
       "      <th>112</th>\n",
       "      <td>../data/compressed_val/giimxsfusa7p7mn3p5xt4041wajqhyl1.mp4</td>\n",
       "      <td>../data/compressed_index/b63b42672ba1e3fe8d4d5a1329bbe892.mp4</td>\n",
       "      <td>329-400</td>\n",
       "      <td>322-393</td>\n",
       "    </tr>\n",
       "    <tr>\n",
       "      <th>113</th>\n",
       "      <td>../data/compressed_val/ureb6jg2ydrlhdjt1mql31bca9f4grvv.mp4</td>\n",
       "      <td>../data/compressed_index/27a0ca3966af861d2861640584950850.mp4</td>\n",
       "      <td>370-440</td>\n",
       "      <td>567-637</td>\n",
       "    </tr>\n",
       "    <tr>\n",
       "      <th>114</th>\n",
       "      <td>../data/compressed_val/sa9gx6gqeem0w4xu0lwfc9rnb1k1hf7p.mp4</td>\n",
       "      <td>../data/compressed_index/6cc126aeb3f470b591ef20d73c175c6d.mp4</td>\n",
       "      <td>204-261</td>\n",
       "      <td>244-301</td>\n",
       "    </tr>\n",
       "    <tr>\n",
       "      <th>115</th>\n",
       "      <td>../data/compressed_val/7bk5ni08dnyjjt3v1zu9rcx7vfs9opwz.mp4</td>\n",
       "      <td>../data/compressed_index/afa4ac13ec1628e7f66493783cf7550e.mp4</td>\n",
       "      <td>587-802</td>\n",
       "      <td>489-704</td>\n",
       "    </tr>\n",
       "    <tr>\n",
       "      <th>116</th>\n",
       "      <td>../data/compressed_val/j9b155kjd1n2vc7aqfefh5mpl8xyr7ef.mp4</td>\n",
       "      <td>../data/compressed_index/f32aec89961652207aefe1f8675899bd.mp4</td>\n",
       "      <td>489-619</td>\n",
       "      <td>805-935</td>\n",
       "    </tr>\n",
       "    <tr>\n",
       "      <th>117</th>\n",
       "      <td>../data/compressed_val/4vmf22po1plrkdap194qje9c2qmlzxa8.mp4</td>\n",
       "      <td>../data/compressed_index/bfb52b8a50a2034704dd08473c17ec6b.mp4</td>\n",
       "      <td>124-248</td>\n",
       "      <td>387-511</td>\n",
       "    </tr>\n",
       "    <tr>\n",
       "      <th>118</th>\n",
       "      <td>../data/compressed_val/hjot9kpva42hh2ro3381tdlhq1z6hgl8.mp4</td>\n",
       "      <td>../data/compressed_index/f1e559f8bfdadcda1a38e20aa3fdbdeb.mp4</td>\n",
       "      <td>282-401</td>\n",
       "      <td>457-576</td>\n",
       "    </tr>\n",
       "    <tr>\n",
       "      <th>119</th>\n",
       "      <td>../data/compressed_val/nn34e8adx3r2l75ru7d4mkhwsre4m1n1.mp4</td>\n",
       "      <td>../data/compressed_index/acde9ea7444a103182b1a750530a9948.mp4</td>\n",
       "      <td>445-624</td>\n",
       "      <td>905-1084</td>\n",
       "    </tr>\n",
       "    <tr>\n",
       "      <th>120</th>\n",
       "      <td>../data/compressed_val/rboikqavcl5r9g58q5dp7slyu8wmek2u.mp4</td>\n",
       "      <td>../data/compressed_index/aa16953bbb8fdb2dfc5fc368f4abe89a.mp4</td>\n",
       "      <td>452-584</td>\n",
       "      <td>142-274</td>\n",
       "    </tr>\n",
       "    <tr>\n",
       "      <th>121</th>\n",
       "      <td>../data/compressed_val/wgu8ql030eo5nusikqtqxmre4zq7zm48.mp4</td>\n",
       "      <td>../data/compressed_index/5c54e574ac99f4b9ee073100944ba785.mp4</td>\n",
       "      <td>389-506</td>\n",
       "      <td>886-1003</td>\n",
       "    </tr>\n",
       "    <tr>\n",
       "      <th>122</th>\n",
       "      <td>../data/compressed_val/mmvtnhwtkf5uz722s9irs2rmxdgsdd4v.mp4</td>\n",
       "      <td>../data/compressed_index/243d56ee80d652ea5f7c6870d4bb7e12.mp4</td>\n",
       "      <td>141-270</td>\n",
       "      <td>750-879</td>\n",
       "    </tr>\n",
       "    <tr>\n",
       "      <th>123</th>\n",
       "      <td>../data/compressed_val/83ye73zraym62jdcfuevvs9afcv34qs4.mp4</td>\n",
       "      <td>../data/compressed_index/f17594d9bb2f51fa517898cf402dfa31.mp4</td>\n",
       "      <td>959-1076</td>\n",
       "      <td>277-394</td>\n",
       "    </tr>\n",
       "    <tr>\n",
       "      <th>124</th>\n",
       "      <td>../data/compressed_val/cy2ah02lxjs2jxzhnv3olt82jy07mxs8.mp4</td>\n",
       "      <td>../data/compressed_index/aabedcb044b0c6b093e313377eeef77d.mp4</td>\n",
       "      <td>748-815</td>\n",
       "      <td>119-186</td>\n",
       "    </tr>\n",
       "    <tr>\n",
       "      <th>125</th>\n",
       "      <td>../data/compressed_val/adjm07kth61743h6fyb4b7jjghetbvdg.mp4</td>\n",
       "      <td>../data/compressed_index/c3d03e0e9d1ca8ed1044f4c4b68c6fd5.mp4</td>\n",
       "      <td>430-471</td>\n",
       "      <td>140-181</td>\n",
       "    </tr>\n",
       "    <tr>\n",
       "      <th>126</th>\n",
       "      <td>../data/compressed_val/ag97fd5uttc4lu36iwldyg2481f364s4.mp4</td>\n",
       "      <td>../data/compressed_index/9cbc3cf610701511c42774984a4b6aa1.mp4</td>\n",
       "      <td>401-477</td>\n",
       "      <td>260-336</td>\n",
       "    </tr>\n",
       "    <tr>\n",
       "      <th>127</th>\n",
       "      <td>../data/compressed_val/0pxzpgx5qpvd3o5pyve6soihftjfacfy.mp4</td>\n",
       "      <td>../data/compressed_index/f61df753e116c075c02a5cbff04d9d75.mp4</td>\n",
       "      <td>62-256</td>\n",
       "      <td>932-1126</td>\n",
       "    </tr>\n",
       "    <tr>\n",
       "      <th>128</th>\n",
       "      <td>../data/compressed_val/bjgs5qdqj5qi2mq0mvo37k5nar2t0hiv.mp4</td>\n",
       "      <td>../data/compressed_index/b6826d581b1fd5fc5cdca9d62fa9f1c4.mp4</td>\n",
       "      <td>519-697</td>\n",
       "      <td>232-410</td>\n",
       "    </tr>\n",
       "    <tr>\n",
       "      <th>129</th>\n",
       "      <td>../data/compressed_val/snkponokel8k3jt2trh6r58k4iyjljwp.mp4</td>\n",
       "      <td>../data/compressed_index/1f17968167d4b0487cdebb6a67b4f148.mp4</td>\n",
       "      <td>275-385</td>\n",
       "      <td>655-765</td>\n",
       "    </tr>\n",
       "    <tr>\n",
       "      <th>130</th>\n",
       "      <td>../data/compressed_val/yl3jbhk1puub52vete8zi2imgcntvh12.mp4</td>\n",
       "      <td>../data/compressed_index/6ab2b5c91e02ad530ac31f8e57e37af1.mp4</td>\n",
       "      <td>230-413</td>\n",
       "      <td>878-1061</td>\n",
       "    </tr>\n",
       "    <tr>\n",
       "      <th>131</th>\n",
       "      <td>../data/compressed_val/ncjrb4zvoh1flb88gssbki25srmjy32v.mp4</td>\n",
       "      <td>../data/compressed_index/ebb18918a861827b0c4488bf435a5def.mp4</td>\n",
       "      <td>355-417</td>\n",
       "      <td>254-316</td>\n",
       "    </tr>\n",
       "    <tr>\n",
       "      <th>132</th>\n",
       "      <td>../data/compressed_val/dp2zsu73diyo40o97x69fcn4sovpwcs1.mp4</td>\n",
       "      <td>../data/compressed_index/3cbdf1a7d2c4600866b2ee7acef454d9.mp4</td>\n",
       "      <td>107-167</td>\n",
       "      <td>326-386</td>\n",
       "    </tr>\n",
       "    <tr>\n",
       "      <th>133</th>\n",
       "      <td>../data/compressed_val/4ojku252jnbtv04wtnvm73x08xyftpgy.mp4</td>\n",
       "      <td>../data/compressed_index/fd316c0e150c30ba2156f82e65bfea62.mp4</td>\n",
       "      <td>466-632</td>\n",
       "      <td>322-488</td>\n",
       "    </tr>\n",
       "    <tr>\n",
       "      <th>134</th>\n",
       "      <td>../data/compressed_val/iflvtrjcx50j1kgbb3zgbvpql6zm2gry.mp4</td>\n",
       "      <td>../data/compressed_index/a808f0de343faf6320bcc94ea57c5381.mp4</td>\n",
       "      <td>196-471</td>\n",
       "      <td>462-737</td>\n",
       "    </tr>\n",
       "    <tr>\n",
       "      <th>135</th>\n",
       "      <td>../data/compressed_val/ztbk9ua8hx1u6l3ol3q5ehh8ugxqlrpd.mp4</td>\n",
       "      <td>../data/compressed_index/ce9697edebdbec509944e8a010d91d0e.mp4</td>\n",
       "      <td>165-213</td>\n",
       "      <td>59-107</td>\n",
       "    </tr>\n",
       "    <tr>\n",
       "      <th>136</th>\n",
       "      <td>../data/compressed_val/dtpq232karpm09ldxucjqip32hfblrkz.mp4</td>\n",
       "      <td>../data/compressed_index/8cc8785efca469cdb6fb6efdcd3421d2.mp4</td>\n",
       "      <td>98-231</td>\n",
       "      <td>227-360</td>\n",
       "    </tr>\n",
       "    <tr>\n",
       "      <th>137</th>\n",
       "      <td>../data/compressed_val/si2m5i2ne4b8oih1mjcyo2lg62ujh3si.mp4</td>\n",
       "      <td>../data/compressed_index/d515a3eb5f4de4ae0e14ddefa98ef06f.mp4</td>\n",
       "      <td>164-233</td>\n",
       "      <td>296-365</td>\n",
       "    </tr>\n",
       "  </tbody>\n",
       "</table>\n",
       "</div>"
      ],
      "text/plain": [
       "                                                 ID_piracy_fpath  \\\n",
       "0    ../data/compressed_val/ydcrodwtz3mstjq1vhbdflx6kyhj3y0p.mp4   \n",
       "1    ../data/compressed_val/t9j5gg42w6s7f62uybhtc51aj5nq9vxd.mp4   \n",
       "2    ../data/compressed_val/zui6ud3solfndyetlralstpcjmv3br1f.mp4   \n",
       "3    ../data/compressed_val/aozskym3m7s9ibw5xpgca7m5jqe240vs.mp4   \n",
       "4    ../data/compressed_val/3y78kqwdr5lbtsy9tb76n5ylbcrainsx.mp4   \n",
       "5    ../data/compressed_val/13btguedd355hvjhb4w6lqmqnyj1grm7.mp4   \n",
       "6    ../data/compressed_val/2i4k8koiqofszmnag73pqtcfly73fxrm.mp4   \n",
       "7    ../data/compressed_val/5wns7cnfxet9wk6spvjv55n85i5lsc3x.mp4   \n",
       "8    ../data/compressed_val/q0upezgticgkrz2khodoz6uuidrpk6r1.mp4   \n",
       "9    ../data/compressed_val/v1msr87erxoekr3ou8j0xby28ukz5y5q.mp4   \n",
       "10   ../data/compressed_val/gieonvzfpxdy317exifk2tnncq2blmsi.mp4   \n",
       "11   ../data/compressed_val/auie2o28x0dif81htdyic01umxb9wx1j.mp4   \n",
       "12   ../data/compressed_val/fxhf4dp7xhuq0r34d2xu5fym7f0fyqjd.mp4   \n",
       "13   ../data/compressed_val/it8xguq8lta85qrxep83yano9nhygis9.mp4   \n",
       "14   ../data/compressed_val/owcd49ykdv2b0gvu9wdcvonouzdew21v.mp4   \n",
       "15   ../data/compressed_val/zysjfp0sudl8akdtkbho30jrnozflzen.mp4   \n",
       "16   ../data/compressed_val/22ew5jtemhsgpxudct6ejxsqbw5uwcsg.mp4   \n",
       "17   ../data/compressed_val/1hnanoy0dcrb4bz50flv2q5rb3izwtgm.mp4   \n",
       "18   ../data/compressed_val/j1knjs2lm6ypv3ym826uaathrjels8w0.mp4   \n",
       "19   ../data/compressed_val/3961gnm434ejvhn16p26lq5l0srat4w4.mp4   \n",
       "20   ../data/compressed_val/1mastbspapvvcev6l2zcdrpapilzwodz.mp4   \n",
       "21   ../data/compressed_val/kceadxrgekap16mvjlczdeddedel940u.mp4   \n",
       "22   ../data/compressed_val/3pdxjxiv0tb2zpya8cbycyofparwx7vb.mp4   \n",
       "23   ../data/compressed_val/cfp1zavwg3ua4j72awb0bui633ndb7d7.mp4   \n",
       "24   ../data/compressed_val/5olhetmb6p918sovlqclokqbmbdb6foi.mp4   \n",
       "25   ../data/compressed_val/j9079o5qhy34y9cghgg9uby99153q6do.mp4   \n",
       "26   ../data/compressed_val/73wv8vu5u9ifex35289mu13mkz6y7vrs.mp4   \n",
       "27   ../data/compressed_val/p06tut8y8qeci79qnket9yim7gokf9rt.mp4   \n",
       "28   ../data/compressed_val/d4larnfpkw8kk36kx8uon23bvo6df8wf.mp4   \n",
       "29   ../data/compressed_val/vkss350o0wioyp19x1krhw1dthc5olqw.mp4   \n",
       "30   ../data/compressed_val/4moiegj6e29s982cmfc4um41u3ciom28.mp4   \n",
       "31   ../data/compressed_val/4yf1e6h236n00lp7ckc80j01fwubylnn.mp4   \n",
       "32   ../data/compressed_val/2pi7qzi2tlieo97f3p591g1zosfs2i0d.mp4   \n",
       "33   ../data/compressed_val/2rz91lm6tdak51jzq9vymdyqrlnucj7e.mp4   \n",
       "34   ../data/compressed_val/lrei5atlttg6uohvrcp7cl2ipp95n2kw.mp4   \n",
       "35   ../data/compressed_val/j8zf2pvs95w0560j65dhxj3ddllvi2jm.mp4   \n",
       "36   ../data/compressed_val/au7l866d46tqc9cgsc6mi4zb64amc0rn.mp4   \n",
       "37   ../data/compressed_val/ngoopafczsdldajhbt5n3ppi6p8i4qe2.mp4   \n",
       "38   ../data/compressed_val/f26pkjt7uvc5r1u0s6swwucuvcp0ynfi.mp4   \n",
       "39   ../data/compressed_val/sb89fsoc8iox2xypjvr2qe63a9n2aqvm.mp4   \n",
       "40   ../data/compressed_val/8zqlfw40ju2gyjwwsy1kxl2x679jntv9.mp4   \n",
       "41   ../data/compressed_val/1mel0cixmsbvtjcxkqggn9l31kr5ebhq.mp4   \n",
       "42   ../data/compressed_val/g8mh0cg8nradear0n0ycrpvtffphkwog.mp4   \n",
       "43   ../data/compressed_val/pnki3rjq1s3jj84fifan0yychrmdyn0e.mp4   \n",
       "44   ../data/compressed_val/7w6ceiru9q546iyg18tlqdc8clsg8d0i.mp4   \n",
       "45   ../data/compressed_val/2ajrs858a4t7o8qk5ekbhdpglcxv1oqd.mp4   \n",
       "46   ../data/compressed_val/9dbhbl6mkuskk9lydey7z1zmsag30o8f.mp4   \n",
       "47   ../data/compressed_val/ybh3klsgodidxxtdzcuiccp5yuyvntyb.mp4   \n",
       "48   ../data/compressed_val/flfhe2gr98wlznl1clek9x2a66apsirc.mp4   \n",
       "49   ../data/compressed_val/kkvpdhtbdrqrzdxqd9glnf0ix5yt94fy.mp4   \n",
       "50   ../data/compressed_val/tba36ca7s82126s1qdvpxavucwlwkwvi.mp4   \n",
       "51   ../data/compressed_val/zrtduqytzt9xqdlbgniatrjii7w8dgtd.mp4   \n",
       "52   ../data/compressed_val/m8dqcl8ilhr2cxuhvfadi2cgyyushieb.mp4   \n",
       "53   ../data/compressed_val/ro5vxuy2gteal3uvxkfvkuwmyttwu7bl.mp4   \n",
       "54   ../data/compressed_val/50vccj3b4afnbpobofwy6j4ool43snud.mp4   \n",
       "55   ../data/compressed_val/8yi9moktsprrk0j104cgowljpczijcep.mp4   \n",
       "56   ../data/compressed_val/o78nyjh24zgk2b616v08q2elk9aqyn3u.mp4   \n",
       "57   ../data/compressed_val/3vavkyexv7y9of185lbkiiljqhwcjd2w.mp4   \n",
       "58   ../data/compressed_val/79n9do1zvdcd0i9yshhicwalmgkkne8h.mp4   \n",
       "59   ../data/compressed_val/0yyud8swqht4y602rqyby3smkl6ijgh7.mp4   \n",
       "60   ../data/compressed_val/j5y7zyadywzfqwb74d8ddc93kicenomo.mp4   \n",
       "61   ../data/compressed_val/xhmzer4zgjilpg7cx9iziiw3usxqysae.mp4   \n",
       "62   ../data/compressed_val/h5f6wjbs4s32m8y7ux9gq1nk2zv3aiqg.mp4   \n",
       "63   ../data/compressed_val/b7pq4tvu54idw04mckuwk9r4wn8qyw05.mp4   \n",
       "64   ../data/compressed_val/skw73f6m29r0baivnuda0523g7xh9vqb.mp4   \n",
       "65   ../data/compressed_val/fyql7xvx965w2y80mth8dzalsf3rl0im.mp4   \n",
       "66   ../data/compressed_val/tdan734clfh5ucd8ugn0d2x0nnc3eh3i.mp4   \n",
       "67   ../data/compressed_val/035vv3223ajwox00vxp5saz7uuj20j8h.mp4   \n",
       "68   ../data/compressed_val/f6t691pvpsrsnfswunaot5129w2ygwj9.mp4   \n",
       "69   ../data/compressed_val/ku3hbj1aj71scmeoexrhapn4t4d46cdv.mp4   \n",
       "70   ../data/compressed_val/96hbwu3j3wi3hmx04ac24p6c5j6ifto6.mp4   \n",
       "71   ../data/compressed_val/p4kyh5bzplnprzwh574uxpssaw4ck1f4.mp4   \n",
       "72   ../data/compressed_val/h5yr7xfj1xqileqzzkpm3ban3ih655gl.mp4   \n",
       "73   ../data/compressed_val/fu8vpv2davwh1do1fza7g9pgasm68ngt.mp4   \n",
       "74   ../data/compressed_val/3lm2a8ki54z9lf1wpt8nqqimnfd5ajsj.mp4   \n",
       "75   ../data/compressed_val/iab4sigv3osn8tw3fch4l6z2ik33u8cl.mp4   \n",
       "76   ../data/compressed_val/967l3y2xa9jc2spud4jsuzf6ebiuss2h.mp4   \n",
       "77   ../data/compressed_val/96ew6evlx3ivbx97gp28bzxwxsyqe0j1.mp4   \n",
       "78   ../data/compressed_val/m3ozbvsd3otqlebrniugrxvgh9k7qxre.mp4   \n",
       "79   ../data/compressed_val/wd6i4pislndwtth1hc0yrg23f9y3r8gw.mp4   \n",
       "80   ../data/compressed_val/fiv5dsqsi54wginjvi4x413kbdogvluq.mp4   \n",
       "81   ../data/compressed_val/trolu4u4x0papaka1kro8sw2es7sfkgt.mp4   \n",
       "82   ../data/compressed_val/s8yxewuimgjz0ytip8qyaekjnofoqnvd.mp4   \n",
       "83   ../data/compressed_val/v5aenev54uswnwiqldt0gbo9z8l0zeof.mp4   \n",
       "84   ../data/compressed_val/2zdavdjxmwtbmuaa7gb4rv8q9erdb0pk.mp4   \n",
       "85   ../data/compressed_val/jxonewunkome49nfpmf7l312mucqh4hu.mp4   \n",
       "86   ../data/compressed_val/hqhzbr2jkee9cbc9vpi43r768yc7fja5.mp4   \n",
       "87   ../data/compressed_val/ua3b4zgw6u3aiet6i5bywosnwd68vbaa.mp4   \n",
       "88   ../data/compressed_val/txifdrfbblr48a03h7n0u77poxarf7pk.mp4   \n",
       "89   ../data/compressed_val/5dhv8t8u4bzz3t60i0z37ybvnc3fhx3d.mp4   \n",
       "90   ../data/compressed_val/f57x13sbyjhy3pvfjkktgn6gshle297y.mp4   \n",
       "91   ../data/compressed_val/f8zanhn7jy6fkv1zx08ye2pqwsgw6tzq.mp4   \n",
       "92   ../data/compressed_val/hr06493kr7xepnbudwrmgwuipwhndrx8.mp4   \n",
       "93   ../data/compressed_val/liq5jofik25t984zc64muqaumognlxx4.mp4   \n",
       "94   ../data/compressed_val/c065n4qot1d9lx8nujxktcycak6nm9ja.mp4   \n",
       "95   ../data/compressed_val/jprquw6clyws9irvyipzq1t061aylaak.mp4   \n",
       "96   ../data/compressed_val/pzaedhfql7yqnjc0mrwfe7hvnujr4h0a.mp4   \n",
       "97   ../data/compressed_val/ds6m2l0tldigp6o5v654z2jys9jto8r9.mp4   \n",
       "98   ../data/compressed_val/w9pvrf90lykr2qtbavoqvy7t1atwdon0.mp4   \n",
       "99   ../data/compressed_val/bh6l4uc4zq0pkzcqkgup35pkjzku13h8.mp4   \n",
       "100  ../data/compressed_val/yiowf7vlm6py9qyueks4l9d1hgt5ia89.mp4   \n",
       "101  ../data/compressed_val/7vp1o4fb67m69bieukrjfnbj1to7jyjz.mp4   \n",
       "102  ../data/compressed_val/n51u2agfeoe5ne26qsl7bgn7330hs05l.mp4   \n",
       "103  ../data/compressed_val/t1ad7nb4tzqqirbuq7qlf8hzfct1j16x.mp4   \n",
       "104  ../data/compressed_val/yluw3lm8eh8iyyg18cid6rg189zmygb1.mp4   \n",
       "105  ../data/compressed_val/dh63fi8xysxbpa9jonzhiyx7dd0h1g2q.mp4   \n",
       "106  ../data/compressed_val/qzqd3bmnqtkz3b5qic0lnomzkrddmvr5.mp4   \n",
       "107  ../data/compressed_val/nuv9h3duzp5dknibh6un2e9uszipnncb.mp4   \n",
       "108  ../data/compressed_val/bx4mvk6xtltbq3skhrkv1x27qjv5rvyf.mp4   \n",
       "109  ../data/compressed_val/o6eaogcjtuy8tlh1d1ciknv12ow40lvh.mp4   \n",
       "110  ../data/compressed_val/xdiymvwb8xd5def8kjdkavfvzodd83q0.mp4   \n",
       "111  ../data/compressed_val/ri0jqekrxqw7sfttuz5oq4ui9pojb9rm.mp4   \n",
       "112  ../data/compressed_val/giimxsfusa7p7mn3p5xt4041wajqhyl1.mp4   \n",
       "113  ../data/compressed_val/ureb6jg2ydrlhdjt1mql31bca9f4grvv.mp4   \n",
       "114  ../data/compressed_val/sa9gx6gqeem0w4xu0lwfc9rnb1k1hf7p.mp4   \n",
       "115  ../data/compressed_val/7bk5ni08dnyjjt3v1zu9rcx7vfs9opwz.mp4   \n",
       "116  ../data/compressed_val/j9b155kjd1n2vc7aqfefh5mpl8xyr7ef.mp4   \n",
       "117  ../data/compressed_val/4vmf22po1plrkdap194qje9c2qmlzxa8.mp4   \n",
       "118  ../data/compressed_val/hjot9kpva42hh2ro3381tdlhq1z6hgl8.mp4   \n",
       "119  ../data/compressed_val/nn34e8adx3r2l75ru7d4mkhwsre4m1n1.mp4   \n",
       "120  ../data/compressed_val/rboikqavcl5r9g58q5dp7slyu8wmek2u.mp4   \n",
       "121  ../data/compressed_val/wgu8ql030eo5nusikqtqxmre4zq7zm48.mp4   \n",
       "122  ../data/compressed_val/mmvtnhwtkf5uz722s9irs2rmxdgsdd4v.mp4   \n",
       "123  ../data/compressed_val/83ye73zraym62jdcfuevvs9afcv34qs4.mp4   \n",
       "124  ../data/compressed_val/cy2ah02lxjs2jxzhnv3olt82jy07mxs8.mp4   \n",
       "125  ../data/compressed_val/adjm07kth61743h6fyb4b7jjghetbvdg.mp4   \n",
       "126  ../data/compressed_val/ag97fd5uttc4lu36iwldyg2481f364s4.mp4   \n",
       "127  ../data/compressed_val/0pxzpgx5qpvd3o5pyve6soihftjfacfy.mp4   \n",
       "128  ../data/compressed_val/bjgs5qdqj5qi2mq0mvo37k5nar2t0hiv.mp4   \n",
       "129  ../data/compressed_val/snkponokel8k3jt2trh6r58k4iyjljwp.mp4   \n",
       "130  ../data/compressed_val/yl3jbhk1puub52vete8zi2imgcntvh12.mp4   \n",
       "131  ../data/compressed_val/ncjrb4zvoh1flb88gssbki25srmjy32v.mp4   \n",
       "132  ../data/compressed_val/dp2zsu73diyo40o97x69fcn4sovpwcs1.mp4   \n",
       "133  ../data/compressed_val/4ojku252jnbtv04wtnvm73x08xyftpgy.mp4   \n",
       "134  ../data/compressed_val/iflvtrjcx50j1kgbb3zgbvpql6zm2gry.mp4   \n",
       "135  ../data/compressed_val/ztbk9ua8hx1u6l3ol3q5ehh8ugxqlrpd.mp4   \n",
       "136  ../data/compressed_val/dtpq232karpm09ldxucjqip32hfblrkz.mp4   \n",
       "137  ../data/compressed_val/si2m5i2ne4b8oih1mjcyo2lg62ujh3si.mp4   \n",
       "\n",
       "                                                  ID_license_fpath    segment  \\\n",
       "0    ../data/compressed_index/ded3d179001b3f679a0101be95405d2c.mp4  1539-1685   \n",
       "1    ../data/compressed_index/f4b1fd188fe77f9f56de07e867128b13.mp4    158-222   \n",
       "2    ../data/compressed_index/aa16953bbb8fdb2dfc5fc368f4abe89a.mp4    139-263   \n",
       "3    ../data/compressed_index/3219f476e4bc29f6f420e4e6b05ae8bb.mp4    306-449   \n",
       "4    ../data/compressed_index/cb718f23524eb08af2f8036eedc6b50c.mp4    517-590   \n",
       "5    ../data/compressed_index/050066643aa2aa369216ff6e615d683d.mp4    704-786   \n",
       "6    ../data/compressed_index/27502230e3b28415817c8ff996e97539.mp4   909-1182   \n",
       "7    ../data/compressed_index/6282b824b0deb7f7b3fa297a96b44fa1.mp4    406-494   \n",
       "8    ../data/compressed_index/6cc126aeb3f470b591ef20d73c175c6d.mp4    634-670   \n",
       "9    ../data/compressed_index/df635402135e4ee4f14188be19f35c83.mp4   887-1034   \n",
       "10   ../data/compressed_index/867f29bc176c8b011a4bb698204421ad.mp4    371-587   \n",
       "11   ../data/compressed_index/e02d994d8ba1230b463ea8d20385d2ee.mp4    192-350   \n",
       "12   ../data/compressed_index/b1468b8e7c687ad6b60292c8327fdcd9.mp4    647-812   \n",
       "13   ../data/compressed_index/792aa0f782f9a89e402a4f994595d7c8.mp4   844-1029   \n",
       "14   ../data/compressed_index/7d6f46570858201ff82cb95e8b12d17a.mp4    511-534   \n",
       "15   ../data/compressed_index/a5e7e8e91ac48f3b97b67d60e68a692d.mp4    433-601   \n",
       "16   ../data/compressed_index/a0fddca7a0e6c22602519fb3f114cb1f.mp4    527-627   \n",
       "17   ../data/compressed_index/e86b5bcd2a5add19d6ab7bb0ac728850.mp4    195-539   \n",
       "18   ../data/compressed_index/364d6150562b35fefff3ce6b3fdf843e.mp4    374-515   \n",
       "19   ../data/compressed_index/b22a4cc53f1a2ceb3c6a627e62fb9fe6.mp4    201-336   \n",
       "20   ../data/compressed_index/c427976287995fdb66b4848d022de1ed.mp4    163-212   \n",
       "21   ../data/compressed_index/1139cb90feffbb3b435cb720f8e7c426.mp4    287-329   \n",
       "22   ../data/compressed_index/7eecbd10bdaa596c2921ecb9bf7dbf69.mp4    143-322   \n",
       "23   ../data/compressed_index/cb718f23524eb08af2f8036eedc6b50c.mp4    302-353   \n",
       "24   ../data/compressed_index/a2ab633f71a416390a8fcab8cc71893d.mp4  1307-1427   \n",
       "25   ../data/compressed_index/b22a4cc53f1a2ceb3c6a627e62fb9fe6.mp4     74-272   \n",
       "26   ../data/compressed_index/6282b824b0deb7f7b3fa297a96b44fa1.mp4    181-481   \n",
       "27   ../data/compressed_index/3015bdd1e3fa10b87c0a95c78ee9669f.mp4    392-621   \n",
       "28   ../data/compressed_index/284d39d6a9aa182a75b0c2bf6e7755bf.mp4    536-574   \n",
       "29   ../data/compressed_index/4dbf1e5781face4cfadef43ca2805ce6.mp4     77-182   \n",
       "30   ../data/compressed_index/7bb493e79dd64a9056aba9a4ef11f864.mp4    707-751   \n",
       "31   ../data/compressed_index/fe8ac2d7f57582ac5665692813d76efa.mp4    525-767   \n",
       "32   ../data/compressed_index/6fb08b4147396d8c4987a58947d97f1f.mp4    771-969   \n",
       "33   ../data/compressed_index/908fdc7c1846b14320528fa5f7504298.mp4    508-585   \n",
       "34   ../data/compressed_index/5ddd14aa6e5928bb215b9ed1b073af91.mp4  1100-1206   \n",
       "35   ../data/compressed_index/585db0ca94b5180c38e035b5556f35a1.mp4    346-436   \n",
       "36   ../data/compressed_index/2b2bd2e70854a4589ec03d48946c639b.mp4    397-528   \n",
       "37   ../data/compressed_index/50c21056c86938b2db72b2390a8657a1.mp4    527-622   \n",
       "38   ../data/compressed_index/cb718f23524eb08af2f8036eedc6b50c.mp4    655-717   \n",
       "39   ../data/compressed_index/1c0258e20430ce9defb4e0f68b9b5d88.mp4    333-415   \n",
       "40   ../data/compressed_index/a808f0de343faf6320bcc94ea57c5381.mp4    390-541   \n",
       "41   ../data/compressed_index/dafb9f1c3854f229fab21115480e6d15.mp4    783-883   \n",
       "42   ../data/compressed_index/6380d5ec5a821f8c52ef9802140ce061.mp4    342-452   \n",
       "43   ../data/compressed_index/e3096f769d001066c09815c404695de1.mp4    192-303   \n",
       "44   ../data/compressed_index/0cf954675163c4fe8f1313b6e6bb8c19.mp4    634-894   \n",
       "45   ../data/compressed_index/a5e82d6e848953832d839212af0fefd2.mp4    343-418   \n",
       "46   ../data/compressed_index/14c54ef6b75198ae1747c5f990e22fa8.mp4    240-333   \n",
       "47   ../data/compressed_index/c0c80fafdf3e08b83e210e0725da0ef8.mp4    414-670   \n",
       "48   ../data/compressed_index/f6d670c13805ccb1162d87f1d2284233.mp4    365-547   \n",
       "49   ../data/compressed_index/35a738eba388a0d4ba332676af7b23d3.mp4    570-786   \n",
       "50   ../data/compressed_index/1c0258e20430ce9defb4e0f68b9b5d88.mp4    245-526   \n",
       "51   ../data/compressed_index/eb7f498a7cb1c4c0234fdec4f2d1a174.mp4     70-211   \n",
       "52   ../data/compressed_index/a0fddca7a0e6c22602519fb3f114cb1f.mp4    189-413   \n",
       "53   ../data/compressed_index/8639eb15e5e5d357c5a22b83313db6b0.mp4    219-301   \n",
       "54   ../data/compressed_index/a4dd59660a0f7e0299e2fac4c4f2e5e1.mp4    358-508   \n",
       "55   ../data/compressed_index/d515a3eb5f4de4ae0e14ddefa98ef06f.mp4    130-270   \n",
       "56   ../data/compressed_index/f6d670c13805ccb1162d87f1d2284233.mp4    703-780   \n",
       "57   ../data/compressed_index/a2404a2daf5898d5a41c954531f3ff94.mp4    325-396   \n",
       "58   ../data/compressed_index/6282b824b0deb7f7b3fa297a96b44fa1.mp4    183-491   \n",
       "59   ../data/compressed_index/6adf7c896799d0c5d63486af2d25078b.mp4    342-432   \n",
       "60   ../data/compressed_index/7e09f3289ca4942b2621cc1c6988000b.mp4    618-783   \n",
       "61   ../data/compressed_index/2cf3241929c3a2e03d76cb90b6f7740b.mp4    386-561   \n",
       "62   ../data/compressed_index/c4f464b3679c325b3c7fce341783950c.mp4    215-283   \n",
       "63   ../data/compressed_index/d515a3eb5f4de4ae0e14ddefa98ef06f.mp4    135-315   \n",
       "64   ../data/compressed_index/ded35ffe65135e06e72a196c950bc595.mp4    219-386   \n",
       "65   ../data/compressed_index/fcd5f6be6670fea1f8cefda033f2809d.mp4    157-394   \n",
       "66   ../data/compressed_index/243d56ee80d652ea5f7c6870d4bb7e12.mp4  1268-1377   \n",
       "67   ../data/compressed_index/cc0904d3de995d4851de65b93860d8d5.mp4    735-961   \n",
       "68   ../data/compressed_index/a0c9cc64088f25405de0588ec7a4caba.mp4    622-856   \n",
       "69   ../data/compressed_index/0f0c6bdc92c5e36dd49883ab3622b52c.mp4    169-266   \n",
       "70   ../data/compressed_index/e1752df306182c86be1610004c816744.mp4    153-315   \n",
       "71   ../data/compressed_index/aabedcb044b0c6b093e313377eeef77d.mp4    438-519   \n",
       "72   ../data/compressed_index/ebb18918a861827b0c4488bf435a5def.mp4    476-518   \n",
       "73   ../data/compressed_index/3219f476e4bc29f6f420e4e6b05ae8bb.mp4    225-340   \n",
       "74   ../data/compressed_index/cd08a80aae2b212a987cba6e9207e6ab.mp4    320-425   \n",
       "75   ../data/compressed_index/56c9e111571c4847afd4ce4ed1c3c5c9.mp4    522-607   \n",
       "76   ../data/compressed_index/32ccad6eb2071f96a7664b4df4b0eeb6.mp4    377-445   \n",
       "77   ../data/compressed_index/364d6150562b35fefff3ce6b3fdf843e.mp4    385-607   \n",
       "78   ../data/compressed_index/5d83e3a64f395100d95ca2daebeb6968.mp4    119-221   \n",
       "79   ../data/compressed_index/afa4ac13ec1628e7f66493783cf7550e.mp4     53-134   \n",
       "80   ../data/compressed_index/0c6e4cdaa192d1ae58b99bc9f35891b9.mp4    608-851   \n",
       "81   ../data/compressed_index/385aa59a55cc47d6bc1a3773d219b14b.mp4    223-468   \n",
       "82   ../data/compressed_index/5d83e3a64f395100d95ca2daebeb6968.mp4    440-493   \n",
       "83   ../data/compressed_index/751a09c81e0ab9e16c3cb478bbe06917.mp4    215-302   \n",
       "84   ../data/compressed_index/5395805ebaa0b977c845b36618e9dc99.mp4    104-227   \n",
       "85   ../data/compressed_index/ce9697edebdbec509944e8a010d91d0e.mp4    380-440   \n",
       "86   ../data/compressed_index/d8f7d4ce5c37e725dc47d634a4115011.mp4    473-651   \n",
       "87   ../data/compressed_index/a808f0de343faf6320bcc94ea57c5381.mp4    884-961   \n",
       "88   ../data/compressed_index/92c603f6d4d3680426c801fd316c7278.mp4    151-238   \n",
       "89   ../data/compressed_index/9d7556dfe0525974208de01561925d19.mp4    297-546   \n",
       "90   ../data/compressed_index/7e09f3289ca4942b2621cc1c6988000b.mp4    353-432   \n",
       "91   ../data/compressed_index/38108a2c4d272259f4ed856bfcd535b3.mp4    835-899   \n",
       "92   ../data/compressed_index/867f29bc176c8b011a4bb698204421ad.mp4    211-417   \n",
       "93   ../data/compressed_index/792aa0f782f9a89e402a4f994595d7c8.mp4    382-584   \n",
       "94   ../data/compressed_index/a5e7e8e91ac48f3b97b67d60e68a692d.mp4    318-442   \n",
       "95   ../data/compressed_index/08d8224d59b55298abaf56b35a2753e3.mp4   939-1036   \n",
       "96   ../data/compressed_index/2b339d59430f743ec2273408d302b9dc.mp4    299-587   \n",
       "97   ../data/compressed_index/cc0904d3de995d4851de65b93860d8d5.mp4  1423-1486   \n",
       "98   ../data/compressed_index/cfb0bd0b45bdfb65799323ec243ca429.mp4    862-915   \n",
       "99   ../data/compressed_index/1c0258e20430ce9defb4e0f68b9b5d88.mp4    224-479   \n",
       "100  ../data/compressed_index/385aa59a55cc47d6bc1a3773d219b14b.mp4    127-430   \n",
       "101  ../data/compressed_index/4d03cff18447ff0e57785eedfea2c0d0.mp4    497-595   \n",
       "102  ../data/compressed_index/9cbc3cf610701511c42774984a4b6aa1.mp4    484-595   \n",
       "103  ../data/compressed_index/1f17968167d4b0487cdebb6a67b4f148.mp4    842-926   \n",
       "104  ../data/compressed_index/0ea016128113476c741eba66ecbb5f0a.mp4    293-402   \n",
       "105  ../data/compressed_index/0ea016128113476c741eba66ecbb5f0a.mp4    100-410   \n",
       "106  ../data/compressed_index/0ac7ed0507b2364e40030d11bf52ee5d.mp4    524-635   \n",
       "107  ../data/compressed_index/92da6d10f228ef3a4ab8e86386b778a0.mp4    214-358   \n",
       "108  ../data/compressed_index/97dfff80d98a8db50fa90dc01651a64f.mp4    592-730   \n",
       "109  ../data/compressed_index/d65ffffb8545ab26c7a5d9b34bda193c.mp4    233-289   \n",
       "110  ../data/compressed_index/0f0c6bdc92c5e36dd49883ab3622b52c.mp4    571-796   \n",
       "111  ../data/compressed_index/0500d9579ac7e381982e06c1110bcdf3.mp4    165-322   \n",
       "112  ../data/compressed_index/b63b42672ba1e3fe8d4d5a1329bbe892.mp4    329-400   \n",
       "113  ../data/compressed_index/27a0ca3966af861d2861640584950850.mp4    370-440   \n",
       "114  ../data/compressed_index/6cc126aeb3f470b591ef20d73c175c6d.mp4    204-261   \n",
       "115  ../data/compressed_index/afa4ac13ec1628e7f66493783cf7550e.mp4    587-802   \n",
       "116  ../data/compressed_index/f32aec89961652207aefe1f8675899bd.mp4    489-619   \n",
       "117  ../data/compressed_index/bfb52b8a50a2034704dd08473c17ec6b.mp4    124-248   \n",
       "118  ../data/compressed_index/f1e559f8bfdadcda1a38e20aa3fdbdeb.mp4    282-401   \n",
       "119  ../data/compressed_index/acde9ea7444a103182b1a750530a9948.mp4    445-624   \n",
       "120  ../data/compressed_index/aa16953bbb8fdb2dfc5fc368f4abe89a.mp4    452-584   \n",
       "121  ../data/compressed_index/5c54e574ac99f4b9ee073100944ba785.mp4    389-506   \n",
       "122  ../data/compressed_index/243d56ee80d652ea5f7c6870d4bb7e12.mp4    141-270   \n",
       "123  ../data/compressed_index/f17594d9bb2f51fa517898cf402dfa31.mp4   959-1076   \n",
       "124  ../data/compressed_index/aabedcb044b0c6b093e313377eeef77d.mp4    748-815   \n",
       "125  ../data/compressed_index/c3d03e0e9d1ca8ed1044f4c4b68c6fd5.mp4    430-471   \n",
       "126  ../data/compressed_index/9cbc3cf610701511c42774984a4b6aa1.mp4    401-477   \n",
       "127  ../data/compressed_index/f61df753e116c075c02a5cbff04d9d75.mp4     62-256   \n",
       "128  ../data/compressed_index/b6826d581b1fd5fc5cdca9d62fa9f1c4.mp4    519-697   \n",
       "129  ../data/compressed_index/1f17968167d4b0487cdebb6a67b4f148.mp4    275-385   \n",
       "130  ../data/compressed_index/6ab2b5c91e02ad530ac31f8e57e37af1.mp4    230-413   \n",
       "131  ../data/compressed_index/ebb18918a861827b0c4488bf435a5def.mp4    355-417   \n",
       "132  ../data/compressed_index/3cbdf1a7d2c4600866b2ee7acef454d9.mp4    107-167   \n",
       "133  ../data/compressed_index/fd316c0e150c30ba2156f82e65bfea62.mp4    466-632   \n",
       "134  ../data/compressed_index/a808f0de343faf6320bcc94ea57c5381.mp4    196-471   \n",
       "135  ../data/compressed_index/ce9697edebdbec509944e8a010d91d0e.mp4    165-213   \n",
       "136  ../data/compressed_index/8cc8785efca469cdb6fb6efdcd3421d2.mp4     98-231   \n",
       "137  ../data/compressed_index/d515a3eb5f4de4ae0e14ddefa98ef06f.mp4    164-233   \n",
       "\n",
       "     segment.1  \n",
       "0      546-692  \n",
       "1      392-456  \n",
       "2      656-780  \n",
       "3      399-542  \n",
       "4      119-192  \n",
       "5      617-699  \n",
       "6      243-516  \n",
       "7      850-938  \n",
       "8       70-106  \n",
       "9      359-506  \n",
       "10     199-415  \n",
       "11     282-440  \n",
       "12     182-347  \n",
       "13   1198-1383  \n",
       "14     292-315  \n",
       "15     548-716  \n",
       "16     183-283  \n",
       "17     183-527  \n",
       "18     684-825  \n",
       "19     280-415  \n",
       "20     114-163  \n",
       "21     187-229  \n",
       "22     767-946  \n",
       "23     499-550  \n",
       "24   1030-1150  \n",
       "25    973-1171  \n",
       "26     269-569  \n",
       "27     585-814  \n",
       "28     184-222  \n",
       "29     564-669  \n",
       "30     187-231  \n",
       "31     549-791  \n",
       "32     176-374  \n",
       "33     218-295  \n",
       "34     685-791  \n",
       "35     125-215  \n",
       "36     526-657  \n",
       "37     313-408  \n",
       "38     318-380  \n",
       "39    926-1008  \n",
       "40    922-1073  \n",
       "41     275-375  \n",
       "42     290-400  \n",
       "43     758-869  \n",
       "44     368-628  \n",
       "45     468-543  \n",
       "46     102-195  \n",
       "47     435-691  \n",
       "48     363-545  \n",
       "49     664-880  \n",
       "50     454-735  \n",
       "51   1152-1293  \n",
       "52    904-1128  \n",
       "53     719-801  \n",
       "54     679-829  \n",
       "55     242-382  \n",
       "56     571-648  \n",
       "57     359-430  \n",
       "58     219-527  \n",
       "59     132-222  \n",
       "60     279-444  \n",
       "61     241-416  \n",
       "62     362-430  \n",
       "63     667-847  \n",
       "64     409-576  \n",
       "65     287-524  \n",
       "66     528-637  \n",
       "67     378-604  \n",
       "68   1024-1258  \n",
       "69     341-438  \n",
       "70     517-679  \n",
       "71     110-191  \n",
       "72     183-225  \n",
       "73     193-308  \n",
       "74     333-438  \n",
       "75     296-381  \n",
       "76     360-428  \n",
       "77    999-1221  \n",
       "78     475-577  \n",
       "79     642-723  \n",
       "80     245-488  \n",
       "81   1260-1505  \n",
       "82     383-436  \n",
       "83     190-277  \n",
       "84      84-207  \n",
       "85     239-299  \n",
       "86     378-556  \n",
       "87   1068-1145  \n",
       "88     502-589  \n",
       "89     276-525  \n",
       "90     729-808  \n",
       "91     282-346  \n",
       "92     185-391  \n",
       "93   1211-1413  \n",
       "94     657-781  \n",
       "95     502-599  \n",
       "96    895-1183  \n",
       "97     771-834  \n",
       "98     403-456  \n",
       "99   1058-1313  \n",
       "100  1026-1329  \n",
       "101    287-385  \n",
       "102    188-299  \n",
       "103  1074-1158  \n",
       "104    821-930  \n",
       "105  1163-1473  \n",
       "106    291-402  \n",
       "107    327-471  \n",
       "108    104-242  \n",
       "109    150-206  \n",
       "110    150-375  \n",
       "111    208-365  \n",
       "112    322-393  \n",
       "113    567-637  \n",
       "114    244-301  \n",
       "115    489-704  \n",
       "116    805-935  \n",
       "117    387-511  \n",
       "118    457-576  \n",
       "119   905-1084  \n",
       "120    142-274  \n",
       "121   886-1003  \n",
       "122    750-879  \n",
       "123    277-394  \n",
       "124    119-186  \n",
       "125    140-181  \n",
       "126    260-336  \n",
       "127   932-1126  \n",
       "128    232-410  \n",
       "129    655-765  \n",
       "130   878-1061  \n",
       "131    254-316  \n",
       "132    326-386  \n",
       "133    322-488  \n",
       "134    462-737  \n",
       "135     59-107  \n",
       "136    227-360  \n",
       "137    296-365  "
      ]
     },
     "execution_count": 16,
     "metadata": {},
     "output_type": "execute_result"
    }
   ],
   "source": [
    "df[[\"ID_piracy_fpath\", \"ID_license_fpath\", \"segment\", \"segment.1\"]]"
   ]
  },
  {
   "cell_type": "code",
   "execution_count": 11,
   "metadata": {},
   "outputs": [
    {
     "name": "stdout",
     "output_type": "stream",
     "text": [
      "Moviepy - Building video output_RUTUBE/0.mp4.\n",
      "MoviePy - Writing audio in 0TEMP_MPY_wvf_snd.mp3\n"
     ]
    },
    {
     "name": "stderr",
     "output_type": "stream",
     "text": [
      "                                                                      \r"
     ]
    },
    {
     "name": "stdout",
     "output_type": "stream",
     "text": [
      "MoviePy - Done.\n",
      "Moviepy - Writing video output_RUTUBE/0.mp4\n",
      "\n"
     ]
    },
    {
     "name": "stderr",
     "output_type": "stream",
     "text": [
      "                                                                 \r"
     ]
    },
    {
     "name": "stdout",
     "output_type": "stream",
     "text": [
      "Moviepy - Done !\n",
      "Moviepy - video ready output_RUTUBE/0.mp4\n",
      "Создан файл: output_RUTUBE/0.mp4\n",
      "Moviepy - Building video output_RUTUBE/1.mp4.\n",
      "MoviePy - Writing audio in 1TEMP_MPY_wvf_snd.mp3\n"
     ]
    },
    {
     "name": "stderr",
     "output_type": "stream",
     "text": [
      "                                                                      \r"
     ]
    },
    {
     "name": "stdout",
     "output_type": "stream",
     "text": [
      "MoviePy - Done.\n",
      "Moviepy - Writing video output_RUTUBE/1.mp4\n",
      "\n"
     ]
    },
    {
     "name": "stderr",
     "output_type": "stream",
     "text": [
      "                                                               \r"
     ]
    },
    {
     "name": "stdout",
     "output_type": "stream",
     "text": [
      "Moviepy - Done !\n",
      "Moviepy - video ready output_RUTUBE/1.mp4\n",
      "Создан файл: output_RUTUBE/1.mp4\n",
      "Moviepy - Building video output_RUTUBE/2.mp4.\n",
      "MoviePy - Writing audio in 2TEMP_MPY_wvf_snd.mp3\n"
     ]
    },
    {
     "name": "stderr",
     "output_type": "stream",
     "text": [
      "                                                                      \r"
     ]
    },
    {
     "name": "stdout",
     "output_type": "stream",
     "text": [
      "MoviePy - Done.\n",
      "Moviepy - Writing video output_RUTUBE/2.mp4\n",
      "\n"
     ]
    },
    {
     "name": "stderr",
     "output_type": "stream",
     "text": [
      "                                                                 \r"
     ]
    },
    {
     "name": "stdout",
     "output_type": "stream",
     "text": [
      "Moviepy - Done !\n",
      "Moviepy - video ready output_RUTUBE/2.mp4\n",
      "Создан файл: output_RUTUBE/2.mp4\n",
      "Moviepy - Building video output_RUTUBE/3.mp4.\n",
      "MoviePy - Writing audio in 3TEMP_MPY_wvf_snd.mp3\n"
     ]
    },
    {
     "name": "stderr",
     "output_type": "stream",
     "text": [
      "                                                                      \r"
     ]
    },
    {
     "name": "stdout",
     "output_type": "stream",
     "text": [
      "MoviePy - Done.\n",
      "Moviepy - Writing video output_RUTUBE/3.mp4\n",
      "\n"
     ]
    },
    {
     "name": "stderr",
     "output_type": "stream",
     "text": [
      "                                                                 \r"
     ]
    },
    {
     "name": "stdout",
     "output_type": "stream",
     "text": [
      "Moviepy - Done !\n",
      "Moviepy - video ready output_RUTUBE/3.mp4\n",
      "Создан файл: output_RUTUBE/3.mp4\n",
      "Moviepy - Building video output_RUTUBE/4.mp4.\n",
      "MoviePy - Writing audio in 4TEMP_MPY_wvf_snd.mp3\n"
     ]
    },
    {
     "name": "stderr",
     "output_type": "stream",
     "text": [
      "                                                                      \r"
     ]
    },
    {
     "name": "stdout",
     "output_type": "stream",
     "text": [
      "MoviePy - Done.\n",
      "Moviepy - Writing video output_RUTUBE/4.mp4\n",
      "\n"
     ]
    },
    {
     "name": "stderr",
     "output_type": "stream",
     "text": [
      "                                                               \r"
     ]
    },
    {
     "name": "stdout",
     "output_type": "stream",
     "text": [
      "Moviepy - Done !\n",
      "Moviepy - video ready output_RUTUBE/4.mp4\n",
      "Создан файл: output_RUTUBE/4.mp4\n",
      "Moviepy - Building video output_RUTUBE/5.mp4.\n",
      "MoviePy - Writing audio in 5TEMP_MPY_wvf_snd.mp3\n"
     ]
    },
    {
     "name": "stderr",
     "output_type": "stream",
     "text": [
      "                                                                      \r"
     ]
    },
    {
     "name": "stdout",
     "output_type": "stream",
     "text": [
      "MoviePy - Done.\n",
      "Moviepy - Writing video output_RUTUBE/5.mp4\n",
      "\n"
     ]
    },
    {
     "name": "stderr",
     "output_type": "stream",
     "text": [
      "                                                               \r"
     ]
    },
    {
     "name": "stdout",
     "output_type": "stream",
     "text": [
      "Moviepy - Done !\n",
      "Moviepy - video ready output_RUTUBE/5.mp4\n",
      "Создан файл: output_RUTUBE/5.mp4\n",
      "Moviepy - Building video output_RUTUBE/6.mp4.\n",
      "MoviePy - Writing audio in 6TEMP_MPY_wvf_snd.mp3\n"
     ]
    },
    {
     "name": "stderr",
     "output_type": "stream",
     "text": [
      "                                                                      \r"
     ]
    },
    {
     "name": "stdout",
     "output_type": "stream",
     "text": [
      "MoviePy - Done.\n",
      "Moviepy - Writing video output_RUTUBE/6.mp4\n",
      "\n"
     ]
    },
    {
     "name": "stderr",
     "output_type": "stream",
     "text": [
      "                                                                 \r"
     ]
    },
    {
     "name": "stdout",
     "output_type": "stream",
     "text": [
      "Moviepy - Done !\n",
      "Moviepy - video ready output_RUTUBE/6.mp4\n",
      "Создан файл: output_RUTUBE/6.mp4\n",
      "Moviepy - Building video output_RUTUBE/7.mp4.\n",
      "MoviePy - Writing audio in 7TEMP_MPY_wvf_snd.mp3\n"
     ]
    },
    {
     "name": "stderr",
     "output_type": "stream",
     "text": [
      "                                                                      \r"
     ]
    },
    {
     "name": "stdout",
     "output_type": "stream",
     "text": [
      "MoviePy - Done.\n",
      "Moviepy - Writing video output_RUTUBE/7.mp4\n",
      "\n"
     ]
    },
    {
     "name": "stderr",
     "output_type": "stream",
     "text": [
      "                                                               \r"
     ]
    },
    {
     "name": "stdout",
     "output_type": "stream",
     "text": [
      "Moviepy - Done !\n",
      "Moviepy - video ready output_RUTUBE/7.mp4\n",
      "Создан файл: output_RUTUBE/7.mp4\n",
      "Moviepy - Building video output_RUTUBE/8.mp4.\n",
      "MoviePy - Writing audio in 8TEMP_MPY_wvf_snd.mp3\n"
     ]
    },
    {
     "name": "stderr",
     "output_type": "stream",
     "text": [
      "                                                                    \r"
     ]
    },
    {
     "name": "stdout",
     "output_type": "stream",
     "text": [
      "MoviePy - Done.\n",
      "Moviepy - Writing video output_RUTUBE/8.mp4\n",
      "\n"
     ]
    },
    {
     "name": "stderr",
     "output_type": "stream",
     "text": [
      "                                                               \r"
     ]
    },
    {
     "name": "stdout",
     "output_type": "stream",
     "text": [
      "Moviepy - Done !\n",
      "Moviepy - video ready output_RUTUBE/8.mp4\n",
      "Создан файл: output_RUTUBE/8.mp4\n",
      "Moviepy - Building video output_RUTUBE/9.mp4.\n",
      "MoviePy - Writing audio in 9TEMP_MPY_wvf_snd.mp3\n"
     ]
    },
    {
     "name": "stderr",
     "output_type": "stream",
     "text": [
      "                                                                      \r"
     ]
    },
    {
     "name": "stdout",
     "output_type": "stream",
     "text": [
      "MoviePy - Done.\n",
      "Moviepy - Writing video output_RUTUBE/9.mp4\n",
      "\n"
     ]
    },
    {
     "name": "stderr",
     "output_type": "stream",
     "text": [
      "                                                                 \r"
     ]
    },
    {
     "name": "stdout",
     "output_type": "stream",
     "text": [
      "Moviepy - Done !\n",
      "Moviepy - video ready output_RUTUBE/9.mp4\n",
      "Создан файл: output_RUTUBE/9.mp4\n",
      "Moviepy - Building video output_RUTUBE/10.mp4.\n",
      "MoviePy - Writing audio in 10TEMP_MPY_wvf_snd.mp3\n"
     ]
    },
    {
     "name": "stderr",
     "output_type": "stream",
     "text": [
      "                                                                      \r"
     ]
    },
    {
     "name": "stdout",
     "output_type": "stream",
     "text": [
      "Moviepy - Building video output_RUTUBE/11.mp4.\n",
      "MoviePy - Writing audio in 11TEMP_MPY_wvf_snd.mp3\n"
     ]
    },
    {
     "name": "stderr",
     "output_type": "stream",
     "text": [
      "                                                                      \r"
     ]
    },
    {
     "name": "stdout",
     "output_type": "stream",
     "text": [
      "MoviePy - Done.\n",
      "Moviepy - Writing video output_RUTUBE/11.mp4\n",
      "\n"
     ]
    },
    {
     "name": "stderr",
     "output_type": "stream",
     "text": [
      "                                                                 \r"
     ]
    },
    {
     "name": "stdout",
     "output_type": "stream",
     "text": [
      "Moviepy - Done !\n",
      "Moviepy - video ready output_RUTUBE/11.mp4\n",
      "Создан файл: output_RUTUBE/11.mp4\n",
      "Moviepy - Building video output_RUTUBE/12.mp4.\n",
      "MoviePy - Writing audio in 12TEMP_MPY_wvf_snd.mp3\n"
     ]
    },
    {
     "name": "stderr",
     "output_type": "stream",
     "text": [
      "                                                                      \r"
     ]
    },
    {
     "name": "stdout",
     "output_type": "stream",
     "text": [
      "MoviePy - Done.\n",
      "Moviepy - Writing video output_RUTUBE/12.mp4\n",
      "\n"
     ]
    },
    {
     "name": "stderr",
     "output_type": "stream",
     "text": [
      "                                                                 \r"
     ]
    },
    {
     "name": "stdout",
     "output_type": "stream",
     "text": [
      "Moviepy - Done !\n",
      "Moviepy - video ready output_RUTUBE/12.mp4\n",
      "Создан файл: output_RUTUBE/12.mp4\n",
      "Moviepy - Building video output_RUTUBE/13.mp4.\n",
      "MoviePy - Writing audio in 13TEMP_MPY_wvf_snd.mp3\n"
     ]
    },
    {
     "name": "stderr",
     "output_type": "stream",
     "text": [
      "                                                                      \r"
     ]
    },
    {
     "name": "stdout",
     "output_type": "stream",
     "text": [
      "MoviePy - Done.\n",
      "Moviepy - Writing video output_RUTUBE/13.mp4\n",
      "\n"
     ]
    },
    {
     "name": "stderr",
     "output_type": "stream",
     "text": [
      "                                                                 \r"
     ]
    },
    {
     "name": "stdout",
     "output_type": "stream",
     "text": [
      "Moviepy - Done !\n",
      "Moviepy - video ready output_RUTUBE/13.mp4\n",
      "Создан файл: output_RUTUBE/13.mp4\n",
      "Moviepy - Building video output_RUTUBE/14.mp4.\n",
      "MoviePy - Writing audio in 14TEMP_MPY_wvf_snd.mp3\n"
     ]
    },
    {
     "name": "stderr",
     "output_type": "stream",
     "text": [
      "                                                                    \r"
     ]
    },
    {
     "name": "stdout",
     "output_type": "stream",
     "text": [
      "MoviePy - Done.\n",
      "Moviepy - Writing video output_RUTUBE/14.mp4\n",
      "\n"
     ]
    },
    {
     "name": "stderr",
     "output_type": "stream",
     "text": [
      "                                                               \r"
     ]
    },
    {
     "name": "stdout",
     "output_type": "stream",
     "text": [
      "Moviepy - Done !\n",
      "Moviepy - video ready output_RUTUBE/14.mp4\n",
      "Создан файл: output_RUTUBE/14.mp4\n",
      "Moviepy - Building video output_RUTUBE/15.mp4.\n",
      "MoviePy - Writing audio in 15TEMP_MPY_wvf_snd.mp3\n"
     ]
    },
    {
     "name": "stderr",
     "output_type": "stream",
     "text": [
      "                                                                      \r"
     ]
    },
    {
     "name": "stdout",
     "output_type": "stream",
     "text": [
      "MoviePy - Done.\n",
      "Moviepy - Writing video output_RUTUBE/15.mp4\n",
      "\n"
     ]
    },
    {
     "name": "stderr",
     "output_type": "stream",
     "text": [
      "                                                                 \r"
     ]
    },
    {
     "name": "stdout",
     "output_type": "stream",
     "text": [
      "Moviepy - Done !\n",
      "Moviepy - video ready output_RUTUBE/15.mp4\n",
      "Создан файл: output_RUTUBE/15.mp4\n",
      "Moviepy - Building video output_RUTUBE/16.mp4.\n",
      "MoviePy - Writing audio in 16TEMP_MPY_wvf_snd.mp3\n"
     ]
    },
    {
     "name": "stderr",
     "output_type": "stream",
     "text": [
      "                                                                      \r"
     ]
    },
    {
     "name": "stdout",
     "output_type": "stream",
     "text": [
      "MoviePy - Done.\n",
      "Moviepy - Writing video output_RUTUBE/16.mp4\n",
      "\n"
     ]
    },
    {
     "name": "stderr",
     "output_type": "stream",
     "text": [
      "                                                                \r"
     ]
    },
    {
     "name": "stdout",
     "output_type": "stream",
     "text": [
      "Moviepy - Done !\n",
      "Moviepy - video ready output_RUTUBE/16.mp4\n",
      "Создан файл: output_RUTUBE/16.mp4\n",
      "Moviepy - Building video output_RUTUBE/17.mp4.\n",
      "MoviePy - Writing audio in 17TEMP_MPY_wvf_snd.mp3\n"
     ]
    },
    {
     "name": "stderr",
     "output_type": "stream",
     "text": [
      "                                                                      \r"
     ]
    },
    {
     "name": "stdout",
     "output_type": "stream",
     "text": [
      "MoviePy - Done.\n",
      "Moviepy - Writing video output_RUTUBE/17.mp4\n",
      "\n"
     ]
    },
    {
     "name": "stderr",
     "output_type": "stream",
     "text": [
      "                                                                 \r"
     ]
    },
    {
     "name": "stdout",
     "output_type": "stream",
     "text": [
      "Moviepy - Done !\n",
      "Moviepy - video ready output_RUTUBE/17.mp4\n",
      "Создан файл: output_RUTUBE/17.mp4\n",
      "Moviepy - Building video output_RUTUBE/18.mp4.\n",
      "MoviePy - Writing audio in 18TEMP_MPY_wvf_snd.mp3\n"
     ]
    },
    {
     "name": "stderr",
     "output_type": "stream",
     "text": [
      "                                                                      \r"
     ]
    },
    {
     "name": "stdout",
     "output_type": "stream",
     "text": [
      "MoviePy - Done.\n",
      "Moviepy - Writing video output_RUTUBE/18.mp4\n",
      "\n"
     ]
    },
    {
     "name": "stderr",
     "output_type": "stream",
     "text": [
      "                                                                 \r"
     ]
    },
    {
     "name": "stdout",
     "output_type": "stream",
     "text": [
      "Moviepy - Done !\n",
      "Moviepy - video ready output_RUTUBE/18.mp4\n",
      "Создан файл: output_RUTUBE/18.mp4\n",
      "Moviepy - Building video output_RUTUBE/19.mp4.\n",
      "MoviePy - Writing audio in 19TEMP_MPY_wvf_snd.mp3\n"
     ]
    },
    {
     "name": "stderr",
     "output_type": "stream",
     "text": [
      "                                                                      \r"
     ]
    },
    {
     "name": "stdout",
     "output_type": "stream",
     "text": [
      "MoviePy - Done.\n",
      "Moviepy - Writing video output_RUTUBE/19.mp4\n",
      "\n"
     ]
    },
    {
     "name": "stderr",
     "output_type": "stream",
     "text": [
      "                                                                 \r"
     ]
    },
    {
     "name": "stdout",
     "output_type": "stream",
     "text": [
      "Moviepy - Done !\n",
      "Moviepy - video ready output_RUTUBE/19.mp4\n",
      "Создан файл: output_RUTUBE/19.mp4\n",
      "Moviepy - Building video output_RUTUBE/20.mp4.\n",
      "MoviePy - Writing audio in 20TEMP_MPY_wvf_snd.mp3\n"
     ]
    },
    {
     "name": "stderr",
     "output_type": "stream",
     "text": [
      "                                                                     \r"
     ]
    },
    {
     "name": "stdout",
     "output_type": "stream",
     "text": [
      "MoviePy - Done.\n",
      "Moviepy - Writing video output_RUTUBE/20.mp4\n",
      "\n"
     ]
    },
    {
     "name": "stderr",
     "output_type": "stream",
     "text": [
      "                                                               \r"
     ]
    },
    {
     "name": "stdout",
     "output_type": "stream",
     "text": [
      "Moviepy - Done !\n",
      "Moviepy - video ready output_RUTUBE/20.mp4\n",
      "Создан файл: output_RUTUBE/20.mp4\n",
      "Moviepy - Building video output_RUTUBE/21.mp4.\n",
      "MoviePy - Writing audio in 21TEMP_MPY_wvf_snd.mp3\n"
     ]
    },
    {
     "name": "stderr",
     "output_type": "stream",
     "text": [
      "                                                                    \r"
     ]
    },
    {
     "name": "stdout",
     "output_type": "stream",
     "text": [
      "MoviePy - Done.\n",
      "Moviepy - Writing video output_RUTUBE/21.mp4\n",
      "\n"
     ]
    },
    {
     "name": "stderr",
     "output_type": "stream",
     "text": [
      "                                                               \r"
     ]
    },
    {
     "name": "stdout",
     "output_type": "stream",
     "text": [
      "Moviepy - Done !\n",
      "Moviepy - video ready output_RUTUBE/21.mp4\n",
      "Создан файл: output_RUTUBE/21.mp4\n",
      "Moviepy - Building video output_RUTUBE/22.mp4.\n",
      "MoviePy - Writing audio in 22TEMP_MPY_wvf_snd.mp3\n"
     ]
    },
    {
     "name": "stderr",
     "output_type": "stream",
     "text": [
      "                                                                      \r"
     ]
    },
    {
     "name": "stdout",
     "output_type": "stream",
     "text": [
      "MoviePy - Done.\n",
      "Moviepy - Writing video output_RUTUBE/22.mp4\n",
      "\n"
     ]
    },
    {
     "name": "stderr",
     "output_type": "stream",
     "text": [
      "                                                                \r"
     ]
    },
    {
     "name": "stdout",
     "output_type": "stream",
     "text": [
      "Moviepy - Done !\n",
      "Moviepy - video ready output_RUTUBE/22.mp4\n",
      "Создан файл: output_RUTUBE/22.mp4\n",
      "Moviepy - Building video output_RUTUBE/23.mp4.\n",
      "MoviePy - Writing audio in 23TEMP_MPY_wvf_snd.mp3\n"
     ]
    },
    {
     "name": "stderr",
     "output_type": "stream",
     "text": [
      "                                                                     \r"
     ]
    },
    {
     "name": "stdout",
     "output_type": "stream",
     "text": [
      "MoviePy - Done.\n",
      "Moviepy - Writing video output_RUTUBE/23.mp4\n",
      "\n"
     ]
    },
    {
     "name": "stderr",
     "output_type": "stream",
     "text": [
      "                                                               \r"
     ]
    },
    {
     "name": "stdout",
     "output_type": "stream",
     "text": [
      "Moviepy - Done !\n",
      "Moviepy - video ready output_RUTUBE/23.mp4\n",
      "Создан файл: output_RUTUBE/23.mp4\n",
      "Moviepy - Building video output_RUTUBE/24.mp4.\n",
      "MoviePy - Writing audio in 24TEMP_MPY_wvf_snd.mp3\n"
     ]
    },
    {
     "name": "stderr",
     "output_type": "stream",
     "text": [
      "                                                                      \r"
     ]
    },
    {
     "name": "stdout",
     "output_type": "stream",
     "text": [
      "MoviePy - Done.\n",
      "Moviepy - Writing video output_RUTUBE/24.mp4\n",
      "\n"
     ]
    },
    {
     "name": "stderr",
     "output_type": "stream",
     "text": [
      "                                                                 \r"
     ]
    },
    {
     "name": "stdout",
     "output_type": "stream",
     "text": [
      "Moviepy - Done !\n",
      "Moviepy - video ready output_RUTUBE/24.mp4\n",
      "Создан файл: output_RUTUBE/24.mp4\n",
      "Moviepy - Building video output_RUTUBE/25.mp4.\n",
      "MoviePy - Writing audio in 25TEMP_MPY_wvf_snd.mp3\n"
     ]
    },
    {
     "name": "stderr",
     "output_type": "stream",
     "text": [
      "                                                                      \r"
     ]
    },
    {
     "name": "stdout",
     "output_type": "stream",
     "text": [
      "MoviePy - Done.\n",
      "Moviepy - Writing video output_RUTUBE/25.mp4\n",
      "\n"
     ]
    },
    {
     "name": "stderr",
     "output_type": "stream",
     "text": [
      "                                                                 \r"
     ]
    },
    {
     "name": "stdout",
     "output_type": "stream",
     "text": [
      "Moviepy - Done !\n",
      "Moviepy - video ready output_RUTUBE/25.mp4\n",
      "Создан файл: output_RUTUBE/25.mp4\n",
      "Moviepy - Building video output_RUTUBE/26.mp4.\n",
      "MoviePy - Writing audio in 26TEMP_MPY_wvf_snd.mp3\n"
     ]
    },
    {
     "name": "stderr",
     "output_type": "stream",
     "text": [
      "                                                                      \r"
     ]
    },
    {
     "name": "stdout",
     "output_type": "stream",
     "text": [
      "MoviePy - Done.\n",
      "Moviepy - Writing video output_RUTUBE/26.mp4\n",
      "\n"
     ]
    },
    {
     "name": "stderr",
     "output_type": "stream",
     "text": [
      "                                                                 \r"
     ]
    },
    {
     "name": "stdout",
     "output_type": "stream",
     "text": [
      "Moviepy - Done !\n",
      "Moviepy - video ready output_RUTUBE/26.mp4\n",
      "Создан файл: output_RUTUBE/26.mp4\n",
      "Moviepy - Building video output_RUTUBE/27.mp4.\n",
      "MoviePy - Writing audio in 27TEMP_MPY_wvf_snd.mp3\n"
     ]
    },
    {
     "name": "stderr",
     "output_type": "stream",
     "text": [
      "                                                                      \r"
     ]
    },
    {
     "name": "stdout",
     "output_type": "stream",
     "text": [
      "MoviePy - Done.\n",
      "Moviepy - Writing video output_RUTUBE/27.mp4\n",
      "\n"
     ]
    },
    {
     "name": "stderr",
     "output_type": "stream",
     "text": [
      "                                                                 \r"
     ]
    },
    {
     "name": "stdout",
     "output_type": "stream",
     "text": [
      "Moviepy - Done !\n",
      "Moviepy - video ready output_RUTUBE/27.mp4\n",
      "Создан файл: output_RUTUBE/27.mp4\n",
      "Moviepy - Building video output_RUTUBE/28.mp4.\n",
      "MoviePy - Writing audio in 28TEMP_MPY_wvf_snd.mp3\n"
     ]
    },
    {
     "name": "stderr",
     "output_type": "stream",
     "text": [
      "                                                                    \r"
     ]
    },
    {
     "name": "stdout",
     "output_type": "stream",
     "text": [
      "MoviePy - Done.\n",
      "Moviepy - Writing video output_RUTUBE/28.mp4\n",
      "\n"
     ]
    },
    {
     "name": "stderr",
     "output_type": "stream",
     "text": [
      "                                                               \r"
     ]
    },
    {
     "name": "stdout",
     "output_type": "stream",
     "text": [
      "Moviepy - Done !\n",
      "Moviepy - video ready output_RUTUBE/28.mp4\n",
      "Создан файл: output_RUTUBE/28.mp4\n",
      "Moviepy - Building video output_RUTUBE/29.mp4.\n",
      "MoviePy - Writing audio in 29TEMP_MPY_wvf_snd.mp3\n"
     ]
    },
    {
     "name": "stderr",
     "output_type": "stream",
     "text": [
      "                                                                      \r"
     ]
    },
    {
     "name": "stdout",
     "output_type": "stream",
     "text": [
      "MoviePy - Done.\n",
      "Moviepy - Writing video output_RUTUBE/29.mp4\n",
      "\n"
     ]
    },
    {
     "name": "stderr",
     "output_type": "stream",
     "text": [
      "                                                                 \r"
     ]
    },
    {
     "name": "stdout",
     "output_type": "stream",
     "text": [
      "Moviepy - Done !\n",
      "Moviepy - video ready output_RUTUBE/29.mp4\n",
      "Создан файл: output_RUTUBE/29.mp4\n",
      "Moviepy - Building video output_RUTUBE/30.mp4.\n",
      "MoviePy - Writing audio in 30TEMP_MPY_wvf_snd.mp3\n"
     ]
    },
    {
     "name": "stderr",
     "output_type": "stream",
     "text": [
      "                                                                    \r"
     ]
    },
    {
     "name": "stdout",
     "output_type": "stream",
     "text": [
      "MoviePy - Done.\n",
      "Moviepy - Writing video output_RUTUBE/30.mp4\n",
      "\n"
     ]
    },
    {
     "name": "stderr",
     "output_type": "stream",
     "text": [
      "                                                               \r"
     ]
    },
    {
     "name": "stdout",
     "output_type": "stream",
     "text": [
      "Moviepy - Done !\n",
      "Moviepy - video ready output_RUTUBE/30.mp4\n",
      "Создан файл: output_RUTUBE/30.mp4\n",
      "Moviepy - Building video output_RUTUBE/31.mp4.\n",
      "MoviePy - Writing audio in 31TEMP_MPY_wvf_snd.mp3\n"
     ]
    },
    {
     "name": "stderr",
     "output_type": "stream",
     "text": [
      "                                                                      \r"
     ]
    },
    {
     "name": "stdout",
     "output_type": "stream",
     "text": [
      "MoviePy - Done.\n",
      "Moviepy - Writing video output_RUTUBE/31.mp4\n",
      "\n"
     ]
    },
    {
     "name": "stderr",
     "output_type": "stream",
     "text": [
      "                                                                 \r"
     ]
    },
    {
     "name": "stdout",
     "output_type": "stream",
     "text": [
      "Moviepy - Done !\n",
      "Moviepy - video ready output_RUTUBE/31.mp4\n",
      "Создан файл: output_RUTUBE/31.mp4\n",
      "Moviepy - Building video output_RUTUBE/32.mp4.\n",
      "MoviePy - Writing audio in 32TEMP_MPY_wvf_snd.mp3\n"
     ]
    },
    {
     "name": "stderr",
     "output_type": "stream",
     "text": [
      "                                                                      \r"
     ]
    },
    {
     "name": "stdout",
     "output_type": "stream",
     "text": [
      "MoviePy - Done.\n",
      "Moviepy - Writing video output_RUTUBE/32.mp4\n",
      "\n"
     ]
    },
    {
     "name": "stderr",
     "output_type": "stream",
     "text": [
      "                                                                 \r"
     ]
    },
    {
     "name": "stdout",
     "output_type": "stream",
     "text": [
      "Moviepy - Done !\n",
      "Moviepy - video ready output_RUTUBE/32.mp4\n",
      "Создан файл: output_RUTUBE/32.mp4\n",
      "Moviepy - Building video output_RUTUBE/33.mp4.\n",
      "MoviePy - Writing audio in 33TEMP_MPY_wvf_snd.mp3\n"
     ]
    },
    {
     "name": "stderr",
     "output_type": "stream",
     "text": [
      "                                                                      \r"
     ]
    },
    {
     "name": "stdout",
     "output_type": "stream",
     "text": [
      "MoviePy - Done.\n",
      "Moviepy - Writing video output_RUTUBE/33.mp4\n",
      "\n"
     ]
    },
    {
     "name": "stderr",
     "output_type": "stream",
     "text": [
      "                                                               \r"
     ]
    },
    {
     "name": "stdout",
     "output_type": "stream",
     "text": [
      "Moviepy - Done !\n",
      "Moviepy - video ready output_RUTUBE/33.mp4\n",
      "Создан файл: output_RUTUBE/33.mp4\n",
      "Moviepy - Building video output_RUTUBE/34.mp4.\n",
      "MoviePy - Writing audio in 34TEMP_MPY_wvf_snd.mp3\n"
     ]
    },
    {
     "name": "stderr",
     "output_type": "stream",
     "text": [
      "                                                                      \r"
     ]
    },
    {
     "name": "stdout",
     "output_type": "stream",
     "text": [
      "MoviePy - Done.\n",
      "Moviepy - Writing video output_RUTUBE/34.mp4\n",
      "\n"
     ]
    },
    {
     "name": "stderr",
     "output_type": "stream",
     "text": [
      "                                                                 \r"
     ]
    },
    {
     "name": "stdout",
     "output_type": "stream",
     "text": [
      "Moviepy - Done !\n",
      "Moviepy - video ready output_RUTUBE/34.mp4\n",
      "Создан файл: output_RUTUBE/34.mp4\n",
      "Moviepy - Building video output_RUTUBE/35.mp4.\n",
      "MoviePy - Writing audio in 35TEMP_MPY_wvf_snd.mp3\n"
     ]
    },
    {
     "name": "stderr",
     "output_type": "stream",
     "text": [
      "                                                                      \r"
     ]
    },
    {
     "name": "stdout",
     "output_type": "stream",
     "text": [
      "MoviePy - Done.\n",
      "Moviepy - Writing video output_RUTUBE/35.mp4\n",
      "\n"
     ]
    },
    {
     "name": "stderr",
     "output_type": "stream",
     "text": [
      "                                                               \r"
     ]
    },
    {
     "name": "stdout",
     "output_type": "stream",
     "text": [
      "Moviepy - Done !\n",
      "Moviepy - video ready output_RUTUBE/35.mp4\n",
      "Создан файл: output_RUTUBE/35.mp4\n",
      "Moviepy - Building video output_RUTUBE/36.mp4.\n",
      "MoviePy - Writing audio in 36TEMP_MPY_wvf_snd.mp3\n"
     ]
    },
    {
     "name": "stderr",
     "output_type": "stream",
     "text": [
      "                                                                      \r"
     ]
    },
    {
     "name": "stdout",
     "output_type": "stream",
     "text": [
      "MoviePy - Done.\n",
      "Moviepy - Writing video output_RUTUBE/36.mp4\n",
      "\n"
     ]
    },
    {
     "name": "stderr",
     "output_type": "stream",
     "text": [
      "                                                                 \r"
     ]
    },
    {
     "name": "stdout",
     "output_type": "stream",
     "text": [
      "Moviepy - Done !\n",
      "Moviepy - video ready output_RUTUBE/36.mp4\n",
      "Создан файл: output_RUTUBE/36.mp4\n",
      "Moviepy - Building video output_RUTUBE/37.mp4.\n",
      "MoviePy - Writing audio in 37TEMP_MPY_wvf_snd.mp3\n"
     ]
    },
    {
     "name": "stderr",
     "output_type": "stream",
     "text": [
      "                                                                      \r"
     ]
    },
    {
     "name": "stdout",
     "output_type": "stream",
     "text": [
      "MoviePy - Done.\n",
      "Moviepy - Writing video output_RUTUBE/37.mp4\n",
      "\n"
     ]
    },
    {
     "name": "stderr",
     "output_type": "stream",
     "text": [
      "                                                               \r"
     ]
    },
    {
     "name": "stdout",
     "output_type": "stream",
     "text": [
      "Moviepy - Done !\n",
      "Moviepy - video ready output_RUTUBE/37.mp4\n",
      "Создан файл: output_RUTUBE/37.mp4\n",
      "Moviepy - Building video output_RUTUBE/38.mp4.\n",
      "MoviePy - Writing audio in 38TEMP_MPY_wvf_snd.mp3\n"
     ]
    },
    {
     "name": "stderr",
     "output_type": "stream",
     "text": [
      "                                                                      \r"
     ]
    },
    {
     "name": "stdout",
     "output_type": "stream",
     "text": [
      "MoviePy - Done.\n",
      "Moviepy - Writing video output_RUTUBE/38.mp4\n",
      "\n"
     ]
    },
    {
     "name": "stderr",
     "output_type": "stream",
     "text": [
      "                                                               \r"
     ]
    },
    {
     "name": "stdout",
     "output_type": "stream",
     "text": [
      "Moviepy - Done !\n",
      "Moviepy - video ready output_RUTUBE/38.mp4\n",
      "Создан файл: output_RUTUBE/38.mp4\n",
      "Moviepy - Building video output_RUTUBE/39.mp4.\n",
      "MoviePy - Writing audio in 39TEMP_MPY_wvf_snd.mp3\n"
     ]
    },
    {
     "name": "stderr",
     "output_type": "stream",
     "text": [
      "                                                                      \r"
     ]
    },
    {
     "name": "stdout",
     "output_type": "stream",
     "text": [
      "MoviePy - Done.\n",
      "Moviepy - Writing video output_RUTUBE/39.mp4\n",
      "\n"
     ]
    },
    {
     "name": "stderr",
     "output_type": "stream",
     "text": [
      "                                                               \r"
     ]
    },
    {
     "name": "stdout",
     "output_type": "stream",
     "text": [
      "Moviepy - Done !\n",
      "Moviepy - video ready output_RUTUBE/39.mp4\n",
      "Создан файл: output_RUTUBE/39.mp4\n",
      "Moviepy - Building video output_RUTUBE/40.mp4.\n",
      "MoviePy - Writing audio in 40TEMP_MPY_wvf_snd.mp3\n"
     ]
    },
    {
     "name": "stderr",
     "output_type": "stream",
     "text": [
      "                                                                      \r"
     ]
    },
    {
     "name": "stdout",
     "output_type": "stream",
     "text": [
      "MoviePy - Done.\n",
      "Moviepy - Writing video output_RUTUBE/40.mp4\n",
      "\n"
     ]
    },
    {
     "name": "stderr",
     "output_type": "stream",
     "text": [
      "                                                                 \r"
     ]
    },
    {
     "name": "stdout",
     "output_type": "stream",
     "text": [
      "Moviepy - Done !\n",
      "Moviepy - video ready output_RUTUBE/40.mp4\n",
      "Создан файл: output_RUTUBE/40.mp4\n",
      "Moviepy - Building video output_RUTUBE/41.mp4.\n",
      "MoviePy - Writing audio in 41TEMP_MPY_wvf_snd.mp3\n"
     ]
    },
    {
     "name": "stderr",
     "output_type": "stream",
     "text": [
      "                                                                      \r"
     ]
    },
    {
     "name": "stdout",
     "output_type": "stream",
     "text": [
      "MoviePy - Done.\n",
      "Moviepy - Writing video output_RUTUBE/41.mp4\n",
      "\n"
     ]
    },
    {
     "name": "stderr",
     "output_type": "stream",
     "text": [
      "                                                                \r"
     ]
    },
    {
     "name": "stdout",
     "output_type": "stream",
     "text": [
      "Moviepy - Done !\n",
      "Moviepy - video ready output_RUTUBE/41.mp4\n",
      "Создан файл: output_RUTUBE/41.mp4\n",
      "Moviepy - Building video output_RUTUBE/42.mp4.\n",
      "MoviePy - Writing audio in 42TEMP_MPY_wvf_snd.mp3\n"
     ]
    },
    {
     "name": "stderr",
     "output_type": "stream",
     "text": [
      "                                                                      \r"
     ]
    },
    {
     "name": "stdout",
     "output_type": "stream",
     "text": [
      "MoviePy - Done.\n",
      "Moviepy - Writing video output_RUTUBE/42.mp4\n",
      "\n"
     ]
    },
    {
     "name": "stderr",
     "output_type": "stream",
     "text": [
      "                                                                 \r"
     ]
    },
    {
     "name": "stdout",
     "output_type": "stream",
     "text": [
      "Moviepy - Done !\n",
      "Moviepy - video ready output_RUTUBE/42.mp4\n",
      "Создан файл: output_RUTUBE/42.mp4\n",
      "Moviepy - Building video output_RUTUBE/43.mp4.\n",
      "MoviePy - Writing audio in 43TEMP_MPY_wvf_snd.mp3\n"
     ]
    },
    {
     "name": "stderr",
     "output_type": "stream",
     "text": [
      "                                                                      \r"
     ]
    },
    {
     "name": "stdout",
     "output_type": "stream",
     "text": [
      "MoviePy - Done.\n",
      "Moviepy - Writing video output_RUTUBE/43.mp4\n",
      "\n"
     ]
    },
    {
     "name": "stderr",
     "output_type": "stream",
     "text": [
      "                                                                 \r"
     ]
    },
    {
     "name": "stdout",
     "output_type": "stream",
     "text": [
      "Moviepy - Done !\n",
      "Moviepy - video ready output_RUTUBE/43.mp4\n",
      "Создан файл: output_RUTUBE/43.mp4\n",
      "Moviepy - Building video output_RUTUBE/44.mp4.\n",
      "MoviePy - Writing audio in 44TEMP_MPY_wvf_snd.mp3\n"
     ]
    },
    {
     "name": "stderr",
     "output_type": "stream",
     "text": [
      "                                                                      \r"
     ]
    },
    {
     "name": "stdout",
     "output_type": "stream",
     "text": [
      "MoviePy - Done.\n",
      "Moviepy - Writing video output_RUTUBE/44.mp4\n",
      "\n"
     ]
    },
    {
     "name": "stderr",
     "output_type": "stream",
     "text": [
      "                                                                 \r"
     ]
    },
    {
     "name": "stdout",
     "output_type": "stream",
     "text": [
      "Moviepy - Done !\n",
      "Moviepy - video ready output_RUTUBE/44.mp4\n",
      "Создан файл: output_RUTUBE/44.mp4\n",
      "Moviepy - Building video output_RUTUBE/45.mp4.\n",
      "MoviePy - Writing audio in 45TEMP_MPY_wvf_snd.mp3\n"
     ]
    },
    {
     "name": "stderr",
     "output_type": "stream",
     "text": [
      "                                                                      \r"
     ]
    },
    {
     "name": "stdout",
     "output_type": "stream",
     "text": [
      "MoviePy - Done.\n",
      "Moviepy - Writing video output_RUTUBE/45.mp4\n",
      "\n"
     ]
    },
    {
     "name": "stderr",
     "output_type": "stream",
     "text": [
      "                                                               \r"
     ]
    },
    {
     "name": "stdout",
     "output_type": "stream",
     "text": [
      "Moviepy - Done !\n",
      "Moviepy - video ready output_RUTUBE/45.mp4\n",
      "Создан файл: output_RUTUBE/45.mp4\n",
      "Moviepy - Building video output_RUTUBE/46.mp4.\n",
      "MoviePy - Writing audio in 46TEMP_MPY_wvf_snd.mp3\n"
     ]
    },
    {
     "name": "stderr",
     "output_type": "stream",
     "text": [
      "                                                                      \r"
     ]
    },
    {
     "name": "stdout",
     "output_type": "stream",
     "text": [
      "MoviePy - Done.\n",
      "Moviepy - Writing video output_RUTUBE/46.mp4\n",
      "\n"
     ]
    },
    {
     "name": "stderr",
     "output_type": "stream",
     "text": [
      "                                                               \r"
     ]
    },
    {
     "name": "stdout",
     "output_type": "stream",
     "text": [
      "Moviepy - Done !\n",
      "Moviepy - video ready output_RUTUBE/46.mp4\n",
      "Создан файл: output_RUTUBE/46.mp4\n",
      "Moviepy - Building video output_RUTUBE/47.mp4.\n",
      "MoviePy - Writing audio in 47TEMP_MPY_wvf_snd.mp3\n"
     ]
    },
    {
     "name": "stderr",
     "output_type": "stream",
     "text": [
      "                                                                      \r"
     ]
    },
    {
     "name": "stdout",
     "output_type": "stream",
     "text": [
      "MoviePy - Done.\n",
      "Moviepy - Writing video output_RUTUBE/47.mp4\n",
      "\n"
     ]
    },
    {
     "name": "stderr",
     "output_type": "stream",
     "text": [
      "                                                                 \r"
     ]
    },
    {
     "name": "stdout",
     "output_type": "stream",
     "text": [
      "Moviepy - Done !\n",
      "Moviepy - video ready output_RUTUBE/47.mp4\n",
      "Создан файл: output_RUTUBE/47.mp4\n",
      "Moviepy - Building video output_RUTUBE/48.mp4.\n",
      "MoviePy - Writing audio in 48TEMP_MPY_wvf_snd.mp3\n"
     ]
    },
    {
     "name": "stderr",
     "output_type": "stream",
     "text": [
      "                                                                      \r"
     ]
    },
    {
     "name": "stdout",
     "output_type": "stream",
     "text": [
      "MoviePy - Done.\n",
      "Moviepy - Writing video output_RUTUBE/48.mp4\n",
      "\n"
     ]
    },
    {
     "name": "stderr",
     "output_type": "stream",
     "text": [
      "                                                                \r"
     ]
    },
    {
     "name": "stdout",
     "output_type": "stream",
     "text": [
      "Moviepy - Done !\n",
      "Moviepy - video ready output_RUTUBE/48.mp4\n",
      "Создан файл: output_RUTUBE/48.mp4\n",
      "Moviepy - Building video output_RUTUBE/49.mp4.\n",
      "MoviePy - Writing audio in 49TEMP_MPY_wvf_snd.mp3\n"
     ]
    },
    {
     "name": "stderr",
     "output_type": "stream",
     "text": [
      "                                                                      \r"
     ]
    },
    {
     "name": "stdout",
     "output_type": "stream",
     "text": [
      "MoviePy - Done.\n",
      "Moviepy - Writing video output_RUTUBE/49.mp4\n",
      "\n"
     ]
    },
    {
     "name": "stderr",
     "output_type": "stream",
     "text": [
      "                                                                 \r"
     ]
    },
    {
     "name": "stdout",
     "output_type": "stream",
     "text": [
      "Moviepy - Done !\n",
      "Moviepy - video ready output_RUTUBE/49.mp4\n",
      "Создан файл: output_RUTUBE/49.mp4\n",
      "Moviepy - Building video output_RUTUBE/50.mp4.\n",
      "MoviePy - Writing audio in 50TEMP_MPY_wvf_snd.mp3\n"
     ]
    },
    {
     "name": "stderr",
     "output_type": "stream",
     "text": [
      "                                                                      \r"
     ]
    },
    {
     "name": "stdout",
     "output_type": "stream",
     "text": [
      "MoviePy - Done.\n",
      "Moviepy - Writing video output_RUTUBE/50.mp4\n",
      "\n"
     ]
    },
    {
     "name": "stderr",
     "output_type": "stream",
     "text": [
      "                                                                 \r"
     ]
    },
    {
     "name": "stdout",
     "output_type": "stream",
     "text": [
      "Moviepy - Done !\n",
      "Moviepy - video ready output_RUTUBE/50.mp4\n",
      "Создан файл: output_RUTUBE/50.mp4\n",
      "Moviepy - Building video output_RUTUBE/51.mp4.\n",
      "MoviePy - Writing audio in 51TEMP_MPY_wvf_snd.mp3\n"
     ]
    },
    {
     "name": "stderr",
     "output_type": "stream",
     "text": [
      "                                                                      \r"
     ]
    },
    {
     "name": "stdout",
     "output_type": "stream",
     "text": [
      "MoviePy - Done.\n",
      "Moviepy - Writing video output_RUTUBE/51.mp4\n",
      "\n"
     ]
    },
    {
     "name": "stderr",
     "output_type": "stream",
     "text": [
      "                                                                 \r"
     ]
    },
    {
     "name": "stdout",
     "output_type": "stream",
     "text": [
      "Moviepy - Done !\n",
      "Moviepy - video ready output_RUTUBE/51.mp4\n",
      "Создан файл: output_RUTUBE/51.mp4\n",
      "Moviepy - Building video output_RUTUBE/52.mp4.\n",
      "MoviePy - Writing audio in 52TEMP_MPY_wvf_snd.mp3\n"
     ]
    },
    {
     "name": "stderr",
     "output_type": "stream",
     "text": [
      "                                                                      \r"
     ]
    },
    {
     "name": "stdout",
     "output_type": "stream",
     "text": [
      "MoviePy - Done.\n",
      "Moviepy - Writing video output_RUTUBE/52.mp4\n",
      "\n"
     ]
    },
    {
     "name": "stderr",
     "output_type": "stream",
     "text": [
      "                                                                 \r"
     ]
    },
    {
     "name": "stdout",
     "output_type": "stream",
     "text": [
      "Moviepy - Done !\n",
      "Moviepy - video ready output_RUTUBE/52.mp4\n",
      "Создан файл: output_RUTUBE/52.mp4\n",
      "Moviepy - Building video output_RUTUBE/53.mp4.\n",
      "MoviePy - Writing audio in 53TEMP_MPY_wvf_snd.mp3\n"
     ]
    },
    {
     "name": "stderr",
     "output_type": "stream",
     "text": [
      "                                                                      \r"
     ]
    },
    {
     "name": "stdout",
     "output_type": "stream",
     "text": [
      "MoviePy - Done.\n",
      "Moviepy - Writing video output_RUTUBE/53.mp4\n",
      "\n"
     ]
    },
    {
     "name": "stderr",
     "output_type": "stream",
     "text": [
      "                                                               \r"
     ]
    },
    {
     "name": "stdout",
     "output_type": "stream",
     "text": [
      "Moviepy - Done !\n",
      "Moviepy - video ready output_RUTUBE/53.mp4\n",
      "Создан файл: output_RUTUBE/53.mp4\n",
      "Moviepy - Building video output_RUTUBE/54.mp4.\n",
      "MoviePy - Writing audio in 54TEMP_MPY_wvf_snd.mp3\n"
     ]
    },
    {
     "name": "stderr",
     "output_type": "stream",
     "text": [
      "                                                                      \r"
     ]
    },
    {
     "name": "stdout",
     "output_type": "stream",
     "text": [
      "MoviePy - Done.\n",
      "Moviepy - Writing video output_RUTUBE/54.mp4\n",
      "\n"
     ]
    },
    {
     "name": "stderr",
     "output_type": "stream",
     "text": [
      "                                                                 \r"
     ]
    },
    {
     "name": "stdout",
     "output_type": "stream",
     "text": [
      "Moviepy - Done !\n",
      "Moviepy - video ready output_RUTUBE/54.mp4\n",
      "Создан файл: output_RUTUBE/54.mp4\n",
      "Moviepy - Building video output_RUTUBE/55.mp4.\n",
      "MoviePy - Writing audio in 55TEMP_MPY_wvf_snd.mp3\n"
     ]
    },
    {
     "name": "stderr",
     "output_type": "stream",
     "text": [
      "                                                                      \r"
     ]
    },
    {
     "name": "stdout",
     "output_type": "stream",
     "text": [
      "MoviePy - Done.\n",
      "Moviepy - Writing video output_RUTUBE/55.mp4\n",
      "\n"
     ]
    },
    {
     "name": "stderr",
     "output_type": "stream",
     "text": [
      "                                                                 \r"
     ]
    },
    {
     "name": "stdout",
     "output_type": "stream",
     "text": [
      "Moviepy - Done !\n",
      "Moviepy - video ready output_RUTUBE/55.mp4\n",
      "Создан файл: output_RUTUBE/55.mp4\n",
      "Moviepy - Building video output_RUTUBE/56.mp4.\n",
      "MoviePy - Writing audio in 56TEMP_MPY_wvf_snd.mp3\n"
     ]
    },
    {
     "name": "stderr",
     "output_type": "stream",
     "text": [
      "                                                                      \r"
     ]
    },
    {
     "name": "stdout",
     "output_type": "stream",
     "text": [
      "MoviePy - Done.\n",
      "Moviepy - Writing video output_RUTUBE/56.mp4\n",
      "\n"
     ]
    },
    {
     "name": "stderr",
     "output_type": "stream",
     "text": [
      "                                                               \r"
     ]
    },
    {
     "name": "stdout",
     "output_type": "stream",
     "text": [
      "Moviepy - Done !\n",
      "Moviepy - video ready output_RUTUBE/56.mp4\n",
      "Создан файл: output_RUTUBE/56.mp4\n",
      "Moviepy - Building video output_RUTUBE/57.mp4.\n",
      "MoviePy - Writing audio in 57TEMP_MPY_wvf_snd.mp3\n"
     ]
    },
    {
     "name": "stderr",
     "output_type": "stream",
     "text": [
      "                                                                      \r"
     ]
    },
    {
     "name": "stdout",
     "output_type": "stream",
     "text": [
      "MoviePy - Done.\n",
      "Moviepy - Writing video output_RUTUBE/57.mp4\n",
      "\n"
     ]
    },
    {
     "name": "stderr",
     "output_type": "stream",
     "text": [
      "                                                               \r"
     ]
    },
    {
     "name": "stdout",
     "output_type": "stream",
     "text": [
      "Moviepy - Done !\n",
      "Moviepy - video ready output_RUTUBE/57.mp4\n",
      "Создан файл: output_RUTUBE/57.mp4\n",
      "Moviepy - Building video output_RUTUBE/58.mp4.\n",
      "MoviePy - Writing audio in 58TEMP_MPY_wvf_snd.mp3\n"
     ]
    },
    {
     "name": "stderr",
     "output_type": "stream",
     "text": [
      "                                                                      \r"
     ]
    },
    {
     "name": "stdout",
     "output_type": "stream",
     "text": [
      "MoviePy - Done.\n",
      "Moviepy - Writing video output_RUTUBE/58.mp4\n",
      "\n"
     ]
    },
    {
     "name": "stderr",
     "output_type": "stream",
     "text": [
      "                                                                 \r"
     ]
    },
    {
     "name": "stdout",
     "output_type": "stream",
     "text": [
      "Moviepy - Done !\n",
      "Moviepy - video ready output_RUTUBE/58.mp4\n",
      "Создан файл: output_RUTUBE/58.mp4\n",
      "Moviepy - Building video output_RUTUBE/59.mp4.\n",
      "MoviePy - Writing audio in 59TEMP_MPY_wvf_snd.mp3\n"
     ]
    },
    {
     "name": "stderr",
     "output_type": "stream",
     "text": [
      "                                                                      \r"
     ]
    },
    {
     "name": "stdout",
     "output_type": "stream",
     "text": [
      "MoviePy - Done.\n",
      "Moviepy - Writing video output_RUTUBE/59.mp4\n",
      "\n"
     ]
    },
    {
     "name": "stderr",
     "output_type": "stream",
     "text": [
      "                                                               \r"
     ]
    },
    {
     "name": "stdout",
     "output_type": "stream",
     "text": [
      "Moviepy - Done !\n",
      "Moviepy - video ready output_RUTUBE/59.mp4\n",
      "Создан файл: output_RUTUBE/59.mp4\n",
      "Moviepy - Building video output_RUTUBE/60.mp4.\n",
      "MoviePy - Writing audio in 60TEMP_MPY_wvf_snd.mp3\n"
     ]
    },
    {
     "name": "stderr",
     "output_type": "stream",
     "text": [
      "                                                                      \r"
     ]
    },
    {
     "name": "stdout",
     "output_type": "stream",
     "text": [
      "MoviePy - Done.\n",
      "Moviepy - Writing video output_RUTUBE/60.mp4\n",
      "\n"
     ]
    },
    {
     "name": "stderr",
     "output_type": "stream",
     "text": [
      "                                                                 \r"
     ]
    },
    {
     "name": "stdout",
     "output_type": "stream",
     "text": [
      "Moviepy - Done !\n",
      "Moviepy - video ready output_RUTUBE/60.mp4\n",
      "Создан файл: output_RUTUBE/60.mp4\n",
      "Moviepy - Building video output_RUTUBE/61.mp4.\n",
      "MoviePy - Writing audio in 61TEMP_MPY_wvf_snd.mp3\n"
     ]
    },
    {
     "name": "stderr",
     "output_type": "stream",
     "text": [
      "                                                                      \r"
     ]
    },
    {
     "name": "stdout",
     "output_type": "stream",
     "text": [
      "MoviePy - Done.\n",
      "Moviepy - Writing video output_RUTUBE/61.mp4\n",
      "\n"
     ]
    },
    {
     "name": "stderr",
     "output_type": "stream",
     "text": [
      "                                                                 \r"
     ]
    },
    {
     "name": "stdout",
     "output_type": "stream",
     "text": [
      "Moviepy - Done !\n",
      "Moviepy - video ready output_RUTUBE/61.mp4\n",
      "Создан файл: output_RUTUBE/61.mp4\n",
      "Moviepy - Building video output_RUTUBE/62.mp4.\n",
      "MoviePy - Writing audio in 62TEMP_MPY_wvf_snd.mp3\n"
     ]
    },
    {
     "name": "stderr",
     "output_type": "stream",
     "text": [
      "                                                                      \r"
     ]
    },
    {
     "name": "stdout",
     "output_type": "stream",
     "text": [
      "MoviePy - Done.\n",
      "Moviepy - Writing video output_RUTUBE/62.mp4\n",
      "\n"
     ]
    },
    {
     "name": "stderr",
     "output_type": "stream",
     "text": [
      "                                                               \r"
     ]
    },
    {
     "name": "stdout",
     "output_type": "stream",
     "text": [
      "Moviepy - Done !\n",
      "Moviepy - video ready output_RUTUBE/62.mp4\n",
      "Создан файл: output_RUTUBE/62.mp4\n",
      "Moviepy - Building video output_RUTUBE/63.mp4.\n",
      "MoviePy - Writing audio in 63TEMP_MPY_wvf_snd.mp3\n"
     ]
    },
    {
     "name": "stderr",
     "output_type": "stream",
     "text": [
      "                                                                      \r"
     ]
    },
    {
     "name": "stdout",
     "output_type": "stream",
     "text": [
      "MoviePy - Done.\n",
      "Moviepy - Writing video output_RUTUBE/63.mp4\n",
      "\n"
     ]
    },
    {
     "name": "stderr",
     "output_type": "stream",
     "text": [
      "                                                                 \r"
     ]
    },
    {
     "name": "stdout",
     "output_type": "stream",
     "text": [
      "Moviepy - Done !\n",
      "Moviepy - video ready output_RUTUBE/63.mp4\n",
      "Создан файл: output_RUTUBE/63.mp4\n",
      "Moviepy - Building video output_RUTUBE/64.mp4.\n",
      "MoviePy - Writing audio in 64TEMP_MPY_wvf_snd.mp3\n"
     ]
    },
    {
     "name": "stderr",
     "output_type": "stream",
     "text": [
      "                                                                      \r"
     ]
    },
    {
     "name": "stdout",
     "output_type": "stream",
     "text": [
      "MoviePy - Done.\n",
      "Moviepy - Writing video output_RUTUBE/64.mp4\n",
      "\n"
     ]
    },
    {
     "name": "stderr",
     "output_type": "stream",
     "text": [
      "                                                                 \r"
     ]
    },
    {
     "name": "stdout",
     "output_type": "stream",
     "text": [
      "Moviepy - Done !\n",
      "Moviepy - video ready output_RUTUBE/64.mp4\n",
      "Создан файл: output_RUTUBE/64.mp4\n",
      "Moviepy - Building video output_RUTUBE/65.mp4.\n",
      "MoviePy - Writing audio in 65TEMP_MPY_wvf_snd.mp3\n"
     ]
    },
    {
     "name": "stderr",
     "output_type": "stream",
     "text": [
      "                                                                      \r"
     ]
    },
    {
     "name": "stdout",
     "output_type": "stream",
     "text": [
      "MoviePy - Done.\n",
      "Moviepy - Writing video output_RUTUBE/65.mp4\n",
      "\n"
     ]
    },
    {
     "name": "stderr",
     "output_type": "stream",
     "text": [
      "                                                                 \r"
     ]
    },
    {
     "name": "stdout",
     "output_type": "stream",
     "text": [
      "Moviepy - Done !\n",
      "Moviepy - video ready output_RUTUBE/65.mp4\n",
      "Создан файл: output_RUTUBE/65.mp4\n",
      "Moviepy - Building video output_RUTUBE/66.mp4.\n",
      "MoviePy - Writing audio in 66TEMP_MPY_wvf_snd.mp3\n"
     ]
    },
    {
     "name": "stderr",
     "output_type": "stream",
     "text": [
      "                                                                      \r"
     ]
    },
    {
     "name": "stdout",
     "output_type": "stream",
     "text": [
      "MoviePy - Done.\n",
      "Moviepy - Writing video output_RUTUBE/66.mp4\n",
      "\n"
     ]
    },
    {
     "name": "stderr",
     "output_type": "stream",
     "text": [
      "                                                                 \r"
     ]
    },
    {
     "name": "stdout",
     "output_type": "stream",
     "text": [
      "Moviepy - Done !\n",
      "Moviepy - video ready output_RUTUBE/66.mp4\n",
      "Создан файл: output_RUTUBE/66.mp4\n",
      "Moviepy - Building video output_RUTUBE/67.mp4.\n",
      "MoviePy - Writing audio in 67TEMP_MPY_wvf_snd.mp3\n"
     ]
    },
    {
     "name": "stderr",
     "output_type": "stream",
     "text": [
      "                                                                      \r"
     ]
    },
    {
     "name": "stdout",
     "output_type": "stream",
     "text": [
      "MoviePy - Done.\n",
      "Moviepy - Writing video output_RUTUBE/67.mp4\n",
      "\n"
     ]
    },
    {
     "name": "stderr",
     "output_type": "stream",
     "text": [
      "                                                                 \r"
     ]
    },
    {
     "name": "stdout",
     "output_type": "stream",
     "text": [
      "Moviepy - Done !\n",
      "Moviepy - video ready output_RUTUBE/67.mp4\n",
      "Создан файл: output_RUTUBE/67.mp4\n",
      "Moviepy - Building video output_RUTUBE/68.mp4.\n",
      "MoviePy - Writing audio in 68TEMP_MPY_wvf_snd.mp3\n"
     ]
    },
    {
     "name": "stderr",
     "output_type": "stream",
     "text": [
      "                                                                      \r"
     ]
    },
    {
     "name": "stdout",
     "output_type": "stream",
     "text": [
      "MoviePy - Done.\n",
      "Moviepy - Writing video output_RUTUBE/68.mp4\n",
      "\n"
     ]
    },
    {
     "name": "stderr",
     "output_type": "stream",
     "text": [
      "                                                                 \r"
     ]
    },
    {
     "name": "stdout",
     "output_type": "stream",
     "text": [
      "Moviepy - Done !\n",
      "Moviepy - video ready output_RUTUBE/68.mp4\n",
      "Создан файл: output_RUTUBE/68.mp4\n",
      "Moviepy - Building video output_RUTUBE/69.mp4.\n",
      "MoviePy - Writing audio in 69TEMP_MPY_wvf_snd.mp3\n"
     ]
    },
    {
     "name": "stderr",
     "output_type": "stream",
     "text": [
      "                                                                      \r"
     ]
    },
    {
     "name": "stdout",
     "output_type": "stream",
     "text": [
      "MoviePy - Done.\n",
      "Moviepy - Writing video output_RUTUBE/69.mp4\n",
      "\n"
     ]
    },
    {
     "name": "stderr",
     "output_type": "stream",
     "text": [
      "                                                               \r"
     ]
    },
    {
     "name": "stdout",
     "output_type": "stream",
     "text": [
      "Moviepy - Done !\n",
      "Moviepy - video ready output_RUTUBE/69.mp4\n",
      "Создан файл: output_RUTUBE/69.mp4\n",
      "Moviepy - Building video output_RUTUBE/70.mp4.\n",
      "MoviePy - Writing audio in 70TEMP_MPY_wvf_snd.mp3\n"
     ]
    },
    {
     "name": "stderr",
     "output_type": "stream",
     "text": [
      "                                                                      \r"
     ]
    },
    {
     "name": "stdout",
     "output_type": "stream",
     "text": [
      "MoviePy - Done.\n",
      "Moviepy - Writing video output_RUTUBE/70.mp4\n",
      "\n"
     ]
    },
    {
     "name": "stderr",
     "output_type": "stream",
     "text": [
      "                                                                 \r"
     ]
    },
    {
     "name": "stdout",
     "output_type": "stream",
     "text": [
      "Moviepy - Done !\n",
      "Moviepy - video ready output_RUTUBE/70.mp4\n",
      "Создан файл: output_RUTUBE/70.mp4\n",
      "Moviepy - Building video output_RUTUBE/71.mp4.\n",
      "MoviePy - Writing audio in 71TEMP_MPY_wvf_snd.mp3\n"
     ]
    },
    {
     "name": "stderr",
     "output_type": "stream",
     "text": [
      "                                                                      \r"
     ]
    },
    {
     "name": "stdout",
     "output_type": "stream",
     "text": [
      "MoviePy - Done.\n",
      "Moviepy - Writing video output_RUTUBE/71.mp4\n",
      "\n"
     ]
    },
    {
     "name": "stderr",
     "output_type": "stream",
     "text": [
      "                                                               \r"
     ]
    },
    {
     "name": "stdout",
     "output_type": "stream",
     "text": [
      "Moviepy - Done !\n",
      "Moviepy - video ready output_RUTUBE/71.mp4\n",
      "Создан файл: output_RUTUBE/71.mp4\n",
      "Moviepy - Building video output_RUTUBE/72.mp4.\n",
      "MoviePy - Writing audio in 72TEMP_MPY_wvf_snd.mp3\n"
     ]
    },
    {
     "name": "stderr",
     "output_type": "stream",
     "text": [
      "                                                                    \r"
     ]
    },
    {
     "name": "stdout",
     "output_type": "stream",
     "text": [
      "MoviePy - Done.\n",
      "Moviepy - Writing video output_RUTUBE/72.mp4\n",
      "\n"
     ]
    },
    {
     "name": "stderr",
     "output_type": "stream",
     "text": [
      "                                                               \r"
     ]
    },
    {
     "name": "stdout",
     "output_type": "stream",
     "text": [
      "Moviepy - Done !\n",
      "Moviepy - video ready output_RUTUBE/72.mp4\n",
      "Создан файл: output_RUTUBE/72.mp4\n",
      "Moviepy - Building video output_RUTUBE/73.mp4.\n",
      "MoviePy - Writing audio in 73TEMP_MPY_wvf_snd.mp3\n"
     ]
    },
    {
     "name": "stderr",
     "output_type": "stream",
     "text": [
      "                                                                      \r"
     ]
    },
    {
     "name": "stdout",
     "output_type": "stream",
     "text": [
      "MoviePy - Done.\n",
      "Moviepy - Writing video output_RUTUBE/73.mp4\n",
      "\n"
     ]
    },
    {
     "name": "stderr",
     "output_type": "stream",
     "text": [
      "                                                                 \r"
     ]
    },
    {
     "name": "stdout",
     "output_type": "stream",
     "text": [
      "Moviepy - Done !\n",
      "Moviepy - video ready output_RUTUBE/73.mp4\n",
      "Создан файл: output_RUTUBE/73.mp4\n",
      "Moviepy - Building video output_RUTUBE/74.mp4.\n",
      "MoviePy - Writing audio in 74TEMP_MPY_wvf_snd.mp3\n"
     ]
    },
    {
     "name": "stderr",
     "output_type": "stream",
     "text": [
      "                                                                      \r"
     ]
    },
    {
     "name": "stdout",
     "output_type": "stream",
     "text": [
      "MoviePy - Done.\n",
      "Moviepy - Writing video output_RUTUBE/74.mp4\n",
      "\n"
     ]
    },
    {
     "name": "stderr",
     "output_type": "stream",
     "text": [
      "                                                                 \r"
     ]
    },
    {
     "name": "stdout",
     "output_type": "stream",
     "text": [
      "Moviepy - Done !\n",
      "Moviepy - video ready output_RUTUBE/74.mp4\n",
      "Создан файл: output_RUTUBE/74.mp4\n",
      "Moviepy - Building video output_RUTUBE/75.mp4.\n",
      "MoviePy - Writing audio in 75TEMP_MPY_wvf_snd.mp3\n"
     ]
    },
    {
     "name": "stderr",
     "output_type": "stream",
     "text": [
      "                                                                      \r"
     ]
    },
    {
     "name": "stdout",
     "output_type": "stream",
     "text": [
      "MoviePy - Done.\n",
      "Moviepy - Writing video output_RUTUBE/75.mp4\n",
      "\n"
     ]
    },
    {
     "name": "stderr",
     "output_type": "stream",
     "text": [
      "                                                               \r"
     ]
    },
    {
     "name": "stdout",
     "output_type": "stream",
     "text": [
      "Moviepy - Done !\n",
      "Moviepy - video ready output_RUTUBE/75.mp4\n",
      "Создан файл: output_RUTUBE/75.mp4\n",
      "Moviepy - Building video output_RUTUBE/76.mp4.\n",
      "MoviePy - Writing audio in 76TEMP_MPY_wvf_snd.mp3\n"
     ]
    },
    {
     "name": "stderr",
     "output_type": "stream",
     "text": [
      "                                                                      \r"
     ]
    },
    {
     "name": "stdout",
     "output_type": "stream",
     "text": [
      "MoviePy - Done.\n",
      "Moviepy - Writing video output_RUTUBE/76.mp4\n",
      "\n"
     ]
    },
    {
     "name": "stderr",
     "output_type": "stream",
     "text": [
      "                                                               \r"
     ]
    },
    {
     "name": "stdout",
     "output_type": "stream",
     "text": [
      "Moviepy - Done !\n",
      "Moviepy - video ready output_RUTUBE/76.mp4\n",
      "Создан файл: output_RUTUBE/76.mp4\n",
      "Moviepy - Building video output_RUTUBE/77.mp4.\n",
      "MoviePy - Writing audio in 77TEMP_MPY_wvf_snd.mp3\n"
     ]
    },
    {
     "name": "stderr",
     "output_type": "stream",
     "text": [
      "                                                                      \r"
     ]
    },
    {
     "name": "stdout",
     "output_type": "stream",
     "text": [
      "MoviePy - Done.\n",
      "Moviepy - Writing video output_RUTUBE/77.mp4\n",
      "\n"
     ]
    },
    {
     "name": "stderr",
     "output_type": "stream",
     "text": [
      "                                                                 \r"
     ]
    },
    {
     "name": "stdout",
     "output_type": "stream",
     "text": [
      "Moviepy - Done !\n",
      "Moviepy - video ready output_RUTUBE/77.mp4\n",
      "Создан файл: output_RUTUBE/77.mp4\n",
      "Moviepy - Building video output_RUTUBE/78.mp4.\n",
      "MoviePy - Writing audio in 78TEMP_MPY_wvf_snd.mp3\n"
     ]
    },
    {
     "name": "stderr",
     "output_type": "stream",
     "text": [
      "                                                                      \r"
     ]
    },
    {
     "name": "stdout",
     "output_type": "stream",
     "text": [
      "MoviePy - Done.\n",
      "Moviepy - Writing video output_RUTUBE/78.mp4\n",
      "\n"
     ]
    },
    {
     "name": "stderr",
     "output_type": "stream",
     "text": [
      "                                                                 \r"
     ]
    },
    {
     "name": "stdout",
     "output_type": "stream",
     "text": [
      "Moviepy - Done !\n",
      "Moviepy - video ready output_RUTUBE/78.mp4\n",
      "Создан файл: output_RUTUBE/78.mp4\n",
      "Moviepy - Building video output_RUTUBE/79.mp4.\n",
      "MoviePy - Writing audio in 79TEMP_MPY_wvf_snd.mp3\n"
     ]
    },
    {
     "name": "stderr",
     "output_type": "stream",
     "text": [
      "                                                                      \r"
     ]
    },
    {
     "name": "stdout",
     "output_type": "stream",
     "text": [
      "MoviePy - Done.\n",
      "Moviepy - Writing video output_RUTUBE/79.mp4\n",
      "\n"
     ]
    },
    {
     "name": "stderr",
     "output_type": "stream",
     "text": [
      "                                                               \r"
     ]
    },
    {
     "name": "stdout",
     "output_type": "stream",
     "text": [
      "Moviepy - Done !\n",
      "Moviepy - video ready output_RUTUBE/79.mp4\n",
      "Создан файл: output_RUTUBE/79.mp4\n",
      "Moviepy - Building video output_RUTUBE/80.mp4.\n",
      "MoviePy - Writing audio in 80TEMP_MPY_wvf_snd.mp3\n"
     ]
    },
    {
     "name": "stderr",
     "output_type": "stream",
     "text": [
      "                                                                      \r"
     ]
    },
    {
     "name": "stdout",
     "output_type": "stream",
     "text": [
      "MoviePy - Done.\n",
      "Moviepy - Writing video output_RUTUBE/80.mp4\n",
      "\n"
     ]
    },
    {
     "name": "stderr",
     "output_type": "stream",
     "text": [
      "                                                                 \r"
     ]
    },
    {
     "name": "stdout",
     "output_type": "stream",
     "text": [
      "Moviepy - Done !\n",
      "Moviepy - video ready output_RUTUBE/80.mp4\n",
      "Создан файл: output_RUTUBE/80.mp4\n",
      "Moviepy - Building video output_RUTUBE/81.mp4.\n",
      "MoviePy - Writing audio in 81TEMP_MPY_wvf_snd.mp3\n"
     ]
    },
    {
     "name": "stderr",
     "output_type": "stream",
     "text": [
      "                                                                      \r"
     ]
    },
    {
     "name": "stdout",
     "output_type": "stream",
     "text": [
      "MoviePy - Done.\n",
      "Moviepy - Writing video output_RUTUBE/81.mp4\n",
      "\n"
     ]
    },
    {
     "name": "stderr",
     "output_type": "stream",
     "text": [
      "                                                                 \r"
     ]
    },
    {
     "name": "stdout",
     "output_type": "stream",
     "text": [
      "Moviepy - Done !\n",
      "Moviepy - video ready output_RUTUBE/81.mp4\n",
      "Создан файл: output_RUTUBE/81.mp4\n",
      "Moviepy - Building video output_RUTUBE/82.mp4.\n",
      "MoviePy - Writing audio in 82TEMP_MPY_wvf_snd.mp3\n"
     ]
    },
    {
     "name": "stderr",
     "output_type": "stream",
     "text": [
      "                                                                      \r"
     ]
    },
    {
     "name": "stdout",
     "output_type": "stream",
     "text": [
      "MoviePy - Done.\n",
      "Moviepy - Writing video output_RUTUBE/82.mp4\n",
      "\n"
     ]
    },
    {
     "name": "stderr",
     "output_type": "stream",
     "text": [
      "                                                               \r"
     ]
    },
    {
     "name": "stdout",
     "output_type": "stream",
     "text": [
      "Moviepy - Done !\n",
      "Moviepy - video ready output_RUTUBE/82.mp4\n",
      "Создан файл: output_RUTUBE/82.mp4\n",
      "Moviepy - Building video output_RUTUBE/83.mp4.\n",
      "MoviePy - Writing audio in 83TEMP_MPY_wvf_snd.mp3\n"
     ]
    },
    {
     "name": "stderr",
     "output_type": "stream",
     "text": [
      "                                                                      \r"
     ]
    },
    {
     "name": "stdout",
     "output_type": "stream",
     "text": [
      "MoviePy - Done.\n",
      "Moviepy - Writing video output_RUTUBE/83.mp4\n",
      "\n"
     ]
    },
    {
     "name": "stderr",
     "output_type": "stream",
     "text": [
      "                                                               \r"
     ]
    },
    {
     "name": "stdout",
     "output_type": "stream",
     "text": [
      "Moviepy - Done !\n",
      "Moviepy - video ready output_RUTUBE/83.mp4\n",
      "Создан файл: output_RUTUBE/83.mp4\n",
      "Moviepy - Building video output_RUTUBE/84.mp4.\n",
      "MoviePy - Writing audio in 84TEMP_MPY_wvf_snd.mp3\n"
     ]
    },
    {
     "name": "stderr",
     "output_type": "stream",
     "text": [
      "                                                                      \r"
     ]
    },
    {
     "name": "stdout",
     "output_type": "stream",
     "text": [
      "MoviePy - Done.\n",
      "Moviepy - Writing video output_RUTUBE/84.mp4\n",
      "\n"
     ]
    },
    {
     "name": "stderr",
     "output_type": "stream",
     "text": [
      "                                                                 \r"
     ]
    },
    {
     "name": "stdout",
     "output_type": "stream",
     "text": [
      "Moviepy - Done !\n",
      "Moviepy - video ready output_RUTUBE/84.mp4\n",
      "Создан файл: output_RUTUBE/84.mp4\n",
      "Moviepy - Building video output_RUTUBE/85.mp4.\n",
      "MoviePy - Writing audio in 85TEMP_MPY_wvf_snd.mp3\n"
     ]
    },
    {
     "name": "stderr",
     "output_type": "stream",
     "text": [
      "                                                                      \r"
     ]
    },
    {
     "name": "stdout",
     "output_type": "stream",
     "text": [
      "MoviePy - Done.\n",
      "Moviepy - Writing video output_RUTUBE/85.mp4\n",
      "\n"
     ]
    },
    {
     "name": "stderr",
     "output_type": "stream",
     "text": [
      "                                                              \r"
     ]
    },
    {
     "name": "stdout",
     "output_type": "stream",
     "text": [
      "Moviepy - Done !\n",
      "Moviepy - video ready output_RUTUBE/85.mp4\n",
      "Создан файл: output_RUTUBE/85.mp4\n",
      "Moviepy - Building video output_RUTUBE/86.mp4.\n",
      "MoviePy - Writing audio in 86TEMP_MPY_wvf_snd.mp3\n"
     ]
    },
    {
     "name": "stderr",
     "output_type": "stream",
     "text": [
      "                                                                      \r"
     ]
    },
    {
     "name": "stdout",
     "output_type": "stream",
     "text": [
      "MoviePy - Done.\n",
      "Moviepy - Writing video output_RUTUBE/86.mp4\n",
      "\n"
     ]
    },
    {
     "name": "stderr",
     "output_type": "stream",
     "text": [
      "                                                                 \r"
     ]
    },
    {
     "name": "stdout",
     "output_type": "stream",
     "text": [
      "Moviepy - Done !\n",
      "Moviepy - video ready output_RUTUBE/86.mp4\n",
      "Создан файл: output_RUTUBE/86.mp4\n",
      "Moviepy - Building video output_RUTUBE/87.mp4.\n",
      "MoviePy - Writing audio in 87TEMP_MPY_wvf_snd.mp3\n"
     ]
    },
    {
     "name": "stderr",
     "output_type": "stream",
     "text": [
      "                                                                      \r"
     ]
    },
    {
     "name": "stdout",
     "output_type": "stream",
     "text": [
      "MoviePy - Done.\n",
      "Moviepy - Writing video output_RUTUBE/87.mp4\n",
      "\n"
     ]
    },
    {
     "name": "stderr",
     "output_type": "stream",
     "text": [
      "                                                               \r"
     ]
    },
    {
     "name": "stdout",
     "output_type": "stream",
     "text": [
      "Moviepy - Done !\n",
      "Moviepy - video ready output_RUTUBE/87.mp4\n",
      "Создан файл: output_RUTUBE/87.mp4\n",
      "Moviepy - Building video output_RUTUBE/88.mp4.\n",
      "MoviePy - Writing audio in 88TEMP_MPY_wvf_snd.mp3\n"
     ]
    },
    {
     "name": "stderr",
     "output_type": "stream",
     "text": [
      "                                                                      \r"
     ]
    },
    {
     "name": "stdout",
     "output_type": "stream",
     "text": [
      "MoviePy - Done.\n",
      "Moviepy - Writing video output_RUTUBE/88.mp4\n",
      "\n"
     ]
    },
    {
     "name": "stderr",
     "output_type": "stream",
     "text": [
      "                                                               \r"
     ]
    },
    {
     "name": "stdout",
     "output_type": "stream",
     "text": [
      "Moviepy - Done !\n",
      "Moviepy - video ready output_RUTUBE/88.mp4\n",
      "Создан файл: output_RUTUBE/88.mp4\n",
      "Moviepy - Building video output_RUTUBE/89.mp4.\n",
      "MoviePy - Writing audio in 89TEMP_MPY_wvf_snd.mp3\n"
     ]
    },
    {
     "name": "stderr",
     "output_type": "stream",
     "text": [
      "                                                                      \r"
     ]
    },
    {
     "name": "stdout",
     "output_type": "stream",
     "text": [
      "MoviePy - Done.\n",
      "Moviepy - Writing video output_RUTUBE/89.mp4\n",
      "\n"
     ]
    },
    {
     "name": "stderr",
     "output_type": "stream",
     "text": [
      "                                                                 \r"
     ]
    },
    {
     "name": "stdout",
     "output_type": "stream",
     "text": [
      "Moviepy - Done !\n",
      "Moviepy - video ready output_RUTUBE/89.mp4\n",
      "Создан файл: output_RUTUBE/89.mp4\n",
      "Moviepy - Building video output_RUTUBE/90.mp4.\n",
      "MoviePy - Writing audio in 90TEMP_MPY_wvf_snd.mp3\n"
     ]
    },
    {
     "name": "stderr",
     "output_type": "stream",
     "text": [
      "                                                                      \r"
     ]
    },
    {
     "name": "stdout",
     "output_type": "stream",
     "text": [
      "MoviePy - Done.\n",
      "Moviepy - Writing video output_RUTUBE/90.mp4\n",
      "\n"
     ]
    },
    {
     "name": "stderr",
     "output_type": "stream",
     "text": [
      "                                                               \r"
     ]
    },
    {
     "name": "stdout",
     "output_type": "stream",
     "text": [
      "Moviepy - Done !\n",
      "Moviepy - video ready output_RUTUBE/90.mp4\n",
      "Создан файл: output_RUTUBE/90.mp4\n",
      "Moviepy - Building video output_RUTUBE/91.mp4.\n",
      "MoviePy - Writing audio in 91TEMP_MPY_wvf_snd.mp3\n"
     ]
    },
    {
     "name": "stderr",
     "output_type": "stream",
     "text": [
      "                                                                      \r"
     ]
    },
    {
     "name": "stdout",
     "output_type": "stream",
     "text": [
      "MoviePy - Done.\n",
      "Moviepy - Writing video output_RUTUBE/91.mp4\n",
      "\n"
     ]
    },
    {
     "name": "stderr",
     "output_type": "stream",
     "text": [
      "                                                               \r"
     ]
    },
    {
     "name": "stdout",
     "output_type": "stream",
     "text": [
      "Moviepy - Done !\n",
      "Moviepy - video ready output_RUTUBE/91.mp4\n",
      "Создан файл: output_RUTUBE/91.mp4\n",
      "Moviepy - Building video output_RUTUBE/92.mp4.\n",
      "MoviePy - Writing audio in 92TEMP_MPY_wvf_snd.mp3\n"
     ]
    },
    {
     "name": "stderr",
     "output_type": "stream",
     "text": [
      "                                                                      \r"
     ]
    },
    {
     "name": "stdout",
     "output_type": "stream",
     "text": [
      "MoviePy - Done.\n",
      "Moviepy - Writing video output_RUTUBE/92.mp4\n",
      "\n"
     ]
    },
    {
     "name": "stderr",
     "output_type": "stream",
     "text": [
      "                                                                 \r"
     ]
    },
    {
     "name": "stdout",
     "output_type": "stream",
     "text": [
      "Moviepy - Done !\n",
      "Moviepy - video ready output_RUTUBE/92.mp4\n",
      "Создан файл: output_RUTUBE/92.mp4\n",
      "Moviepy - Building video output_RUTUBE/93.mp4.\n",
      "MoviePy - Writing audio in 93TEMP_MPY_wvf_snd.mp3\n"
     ]
    },
    {
     "name": "stderr",
     "output_type": "stream",
     "text": [
      "                                                                      \r"
     ]
    },
    {
     "name": "stdout",
     "output_type": "stream",
     "text": [
      "MoviePy - Done.\n",
      "Moviepy - Writing video output_RUTUBE/93.mp4\n",
      "\n"
     ]
    },
    {
     "name": "stderr",
     "output_type": "stream",
     "text": [
      "                                                                 \r"
     ]
    },
    {
     "name": "stdout",
     "output_type": "stream",
     "text": [
      "Moviepy - Done !\n",
      "Moviepy - video ready output_RUTUBE/93.mp4\n",
      "Создан файл: output_RUTUBE/93.mp4\n",
      "Moviepy - Building video output_RUTUBE/94.mp4.\n",
      "MoviePy - Writing audio in 94TEMP_MPY_wvf_snd.mp3\n"
     ]
    },
    {
     "name": "stderr",
     "output_type": "stream",
     "text": [
      "                                                                      \r"
     ]
    },
    {
     "name": "stdout",
     "output_type": "stream",
     "text": [
      "MoviePy - Done.\n",
      "Moviepy - Writing video output_RUTUBE/94.mp4\n",
      "\n"
     ]
    },
    {
     "name": "stderr",
     "output_type": "stream",
     "text": [
      "                                                                 \r"
     ]
    },
    {
     "name": "stdout",
     "output_type": "stream",
     "text": [
      "Moviepy - Done !\n",
      "Moviepy - video ready output_RUTUBE/94.mp4\n",
      "Создан файл: output_RUTUBE/94.mp4\n",
      "Moviepy - Building video output_RUTUBE/95.mp4.\n",
      "MoviePy - Writing audio in 95TEMP_MPY_wvf_snd.mp3\n"
     ]
    },
    {
     "name": "stderr",
     "output_type": "stream",
     "text": [
      "                                                                      \r"
     ]
    },
    {
     "name": "stdout",
     "output_type": "stream",
     "text": [
      "MoviePy - Done.\n",
      "Moviepy - Writing video output_RUTUBE/95.mp4\n",
      "\n"
     ]
    },
    {
     "name": "stderr",
     "output_type": "stream",
     "text": [
      "                                                               \r"
     ]
    },
    {
     "name": "stdout",
     "output_type": "stream",
     "text": [
      "Moviepy - Done !\n",
      "Moviepy - video ready output_RUTUBE/95.mp4\n",
      "Создан файл: output_RUTUBE/95.mp4\n",
      "Moviepy - Building video output_RUTUBE/96.mp4.\n",
      "MoviePy - Writing audio in 96TEMP_MPY_wvf_snd.mp3\n"
     ]
    },
    {
     "name": "stderr",
     "output_type": "stream",
     "text": [
      "                                                                      \r"
     ]
    },
    {
     "name": "stdout",
     "output_type": "stream",
     "text": [
      "MoviePy - Done.\n",
      "Moviepy - Writing video output_RUTUBE/96.mp4\n",
      "\n"
     ]
    },
    {
     "name": "stderr",
     "output_type": "stream",
     "text": [
      "                                                                 \r"
     ]
    },
    {
     "name": "stdout",
     "output_type": "stream",
     "text": [
      "Moviepy - Done !\n",
      "Moviepy - video ready output_RUTUBE/96.mp4\n",
      "Создан файл: output_RUTUBE/96.mp4\n",
      "Moviepy - Building video output_RUTUBE/97.mp4.\n",
      "MoviePy - Writing audio in 97TEMP_MPY_wvf_snd.mp3\n"
     ]
    },
    {
     "name": "stderr",
     "output_type": "stream",
     "text": [
      "                                                                      \r"
     ]
    },
    {
     "name": "stdout",
     "output_type": "stream",
     "text": [
      "MoviePy - Done.\n",
      "Moviepy - Writing video output_RUTUBE/97.mp4\n",
      "\n"
     ]
    },
    {
     "name": "stderr",
     "output_type": "stream",
     "text": [
      "                                                               \r"
     ]
    },
    {
     "name": "stdout",
     "output_type": "stream",
     "text": [
      "Moviepy - Done !\n",
      "Moviepy - video ready output_RUTUBE/97.mp4\n",
      "Создан файл: output_RUTUBE/97.mp4\n",
      "Moviepy - Building video output_RUTUBE/98.mp4.\n",
      "MoviePy - Writing audio in 98TEMP_MPY_wvf_snd.mp3\n"
     ]
    },
    {
     "name": "stderr",
     "output_type": "stream",
     "text": [
      "                                                                      \r"
     ]
    },
    {
     "name": "stdout",
     "output_type": "stream",
     "text": [
      "MoviePy - Done.\n",
      "Moviepy - Writing video output_RUTUBE/98.mp4\n",
      "\n"
     ]
    },
    {
     "name": "stderr",
     "output_type": "stream",
     "text": [
      "                                                               \r"
     ]
    },
    {
     "name": "stdout",
     "output_type": "stream",
     "text": [
      "Moviepy - Done !\n",
      "Moviepy - video ready output_RUTUBE/98.mp4\n",
      "Создан файл: output_RUTUBE/98.mp4\n",
      "Moviepy - Building video output_RUTUBE/99.mp4.\n",
      "MoviePy - Writing audio in 99TEMP_MPY_wvf_snd.mp3\n"
     ]
    },
    {
     "name": "stderr",
     "output_type": "stream",
     "text": [
      "                                                                      \r"
     ]
    },
    {
     "name": "stdout",
     "output_type": "stream",
     "text": [
      "MoviePy - Done.\n",
      "Moviepy - Writing video output_RUTUBE/99.mp4\n",
      "\n"
     ]
    },
    {
     "name": "stderr",
     "output_type": "stream",
     "text": [
      "                                                                 \r"
     ]
    },
    {
     "name": "stdout",
     "output_type": "stream",
     "text": [
      "Moviepy - Done !\n",
      "Moviepy - video ready output_RUTUBE/99.mp4\n",
      "Создан файл: output_RUTUBE/99.mp4\n",
      "Moviepy - Building video output_RUTUBE/100.mp4.\n",
      "MoviePy - Writing audio in 100TEMP_MPY_wvf_snd.mp3\n"
     ]
    },
    {
     "name": "stderr",
     "output_type": "stream",
     "text": [
      "                                                                      \r"
     ]
    },
    {
     "name": "stdout",
     "output_type": "stream",
     "text": [
      "MoviePy - Done.\n",
      "Moviepy - Writing video output_RUTUBE/100.mp4\n",
      "\n"
     ]
    },
    {
     "name": "stderr",
     "output_type": "stream",
     "text": [
      "                                                                 \r"
     ]
    },
    {
     "name": "stdout",
     "output_type": "stream",
     "text": [
      "Moviepy - Done !\n",
      "Moviepy - video ready output_RUTUBE/100.mp4\n",
      "Создан файл: output_RUTUBE/100.mp4\n",
      "Moviepy - Building video output_RUTUBE/101.mp4.\n",
      "MoviePy - Writing audio in 101TEMP_MPY_wvf_snd.mp3\n"
     ]
    },
    {
     "name": "stderr",
     "output_type": "stream",
     "text": [
      "                                                                      \r"
     ]
    },
    {
     "name": "stdout",
     "output_type": "stream",
     "text": [
      "MoviePy - Done.\n",
      "Moviepy - Writing video output_RUTUBE/101.mp4\n",
      "\n"
     ]
    },
    {
     "name": "stderr",
     "output_type": "stream",
     "text": [
      "                                                               \r"
     ]
    },
    {
     "name": "stdout",
     "output_type": "stream",
     "text": [
      "Moviepy - Done !\n",
      "Moviepy - video ready output_RUTUBE/101.mp4\n",
      "Создан файл: output_RUTUBE/101.mp4\n",
      "Moviepy - Building video output_RUTUBE/102.mp4.\n",
      "MoviePy - Writing audio in 102TEMP_MPY_wvf_snd.mp3\n"
     ]
    },
    {
     "name": "stderr",
     "output_type": "stream",
     "text": [
      "                                                                      \r"
     ]
    },
    {
     "name": "stdout",
     "output_type": "stream",
     "text": [
      "MoviePy - Done.\n",
      "Moviepy - Writing video output_RUTUBE/102.mp4\n",
      "\n"
     ]
    },
    {
     "name": "stderr",
     "output_type": "stream",
     "text": [
      "                                                                 \r"
     ]
    },
    {
     "name": "stdout",
     "output_type": "stream",
     "text": [
      "Moviepy - Done !\n",
      "Moviepy - video ready output_RUTUBE/102.mp4\n",
      "Создан файл: output_RUTUBE/102.mp4\n",
      "Moviepy - Building video output_RUTUBE/103.mp4.\n",
      "MoviePy - Writing audio in 103TEMP_MPY_wvf_snd.mp3\n"
     ]
    },
    {
     "name": "stderr",
     "output_type": "stream",
     "text": [
      "                                                                      \r"
     ]
    },
    {
     "name": "stdout",
     "output_type": "stream",
     "text": [
      "MoviePy - Done.\n",
      "Moviepy - Writing video output_RUTUBE/103.mp4\n",
      "\n"
     ]
    },
    {
     "name": "stderr",
     "output_type": "stream",
     "text": [
      "                                                               \r"
     ]
    },
    {
     "name": "stdout",
     "output_type": "stream",
     "text": [
      "Moviepy - Done !\n",
      "Moviepy - video ready output_RUTUBE/103.mp4\n",
      "Создан файл: output_RUTUBE/103.mp4\n",
      "Moviepy - Building video output_RUTUBE/104.mp4.\n",
      "MoviePy - Writing audio in 104TEMP_MPY_wvf_snd.mp3\n"
     ]
    },
    {
     "name": "stderr",
     "output_type": "stream",
     "text": [
      "                                                                      \r"
     ]
    },
    {
     "name": "stdout",
     "output_type": "stream",
     "text": [
      "MoviePy - Done.\n",
      "Moviepy - Writing video output_RUTUBE/104.mp4\n",
      "\n"
     ]
    },
    {
     "name": "stderr",
     "output_type": "stream",
     "text": [
      "                                                                 \r"
     ]
    },
    {
     "name": "stdout",
     "output_type": "stream",
     "text": [
      "Moviepy - Done !\n",
      "Moviepy - video ready output_RUTUBE/104.mp4\n",
      "Создан файл: output_RUTUBE/104.mp4\n",
      "Moviepy - Building video output_RUTUBE/105.mp4.\n",
      "MoviePy - Writing audio in 105TEMP_MPY_wvf_snd.mp3\n"
     ]
    },
    {
     "name": "stderr",
     "output_type": "stream",
     "text": [
      "                                                                      \r"
     ]
    },
    {
     "name": "stdout",
     "output_type": "stream",
     "text": [
      "MoviePy - Done.\n",
      "Moviepy - Writing video output_RUTUBE/105.mp4\n",
      "\n"
     ]
    },
    {
     "name": "stderr",
     "output_type": "stream",
     "text": [
      "                                                                 \r"
     ]
    },
    {
     "name": "stdout",
     "output_type": "stream",
     "text": [
      "Moviepy - Done !\n",
      "Moviepy - video ready output_RUTUBE/105.mp4\n",
      "Создан файл: output_RUTUBE/105.mp4\n",
      "Moviepy - Building video output_RUTUBE/106.mp4.\n",
      "MoviePy - Writing audio in 106TEMP_MPY_wvf_snd.mp3\n"
     ]
    },
    {
     "name": "stderr",
     "output_type": "stream",
     "text": [
      "                                                                      \r"
     ]
    },
    {
     "name": "stdout",
     "output_type": "stream",
     "text": [
      "MoviePy - Done.\n",
      "Moviepy - Writing video output_RUTUBE/106.mp4\n",
      "\n"
     ]
    },
    {
     "name": "stderr",
     "output_type": "stream",
     "text": [
      "                                                                \r"
     ]
    },
    {
     "name": "stdout",
     "output_type": "stream",
     "text": [
      "Moviepy - Done !\n",
      "Moviepy - video ready output_RUTUBE/106.mp4\n",
      "Создан файл: output_RUTUBE/106.mp4\n",
      "Moviepy - Building video output_RUTUBE/107.mp4.\n",
      "MoviePy - Writing audio in 107TEMP_MPY_wvf_snd.mp3\n"
     ]
    },
    {
     "name": "stderr",
     "output_type": "stream",
     "text": [
      "                                                                      \r"
     ]
    },
    {
     "name": "stdout",
     "output_type": "stream",
     "text": [
      "MoviePy - Done.\n",
      "Moviepy - Writing video output_RUTUBE/107.mp4\n",
      "\n"
     ]
    },
    {
     "name": "stderr",
     "output_type": "stream",
     "text": [
      "                                                                 \r"
     ]
    },
    {
     "name": "stdout",
     "output_type": "stream",
     "text": [
      "Moviepy - Done !\n",
      "Moviepy - video ready output_RUTUBE/107.mp4\n",
      "Создан файл: output_RUTUBE/107.mp4\n",
      "Moviepy - Building video output_RUTUBE/108.mp4.\n",
      "MoviePy - Writing audio in 108TEMP_MPY_wvf_snd.mp3\n"
     ]
    },
    {
     "name": "stderr",
     "output_type": "stream",
     "text": [
      "                                                                      \r"
     ]
    },
    {
     "name": "stdout",
     "output_type": "stream",
     "text": [
      "MoviePy - Done.\n",
      "Moviepy - Writing video output_RUTUBE/108.mp4\n",
      "\n"
     ]
    },
    {
     "name": "stderr",
     "output_type": "stream",
     "text": [
      "                                                                 \r"
     ]
    },
    {
     "name": "stdout",
     "output_type": "stream",
     "text": [
      "Moviepy - Done !\n",
      "Moviepy - video ready output_RUTUBE/108.mp4\n",
      "Создан файл: output_RUTUBE/108.mp4\n",
      "Moviepy - Building video output_RUTUBE/109.mp4.\n",
      "MoviePy - Writing audio in 109TEMP_MPY_wvf_snd.mp3\n"
     ]
    },
    {
     "name": "stderr",
     "output_type": "stream",
     "text": [
      "                                                                      \r"
     ]
    },
    {
     "name": "stdout",
     "output_type": "stream",
     "text": [
      "MoviePy - Done.\n",
      "Moviepy - Writing video output_RUTUBE/109.mp4\n",
      "\n"
     ]
    },
    {
     "name": "stderr",
     "output_type": "stream",
     "text": [
      "                                                               \r"
     ]
    },
    {
     "name": "stdout",
     "output_type": "stream",
     "text": [
      "Moviepy - Done !\n",
      "Moviepy - video ready output_RUTUBE/109.mp4\n",
      "Создан файл: output_RUTUBE/109.mp4\n",
      "Moviepy - Building video output_RUTUBE/110.mp4.\n",
      "MoviePy - Writing audio in 110TEMP_MPY_wvf_snd.mp3\n"
     ]
    },
    {
     "name": "stderr",
     "output_type": "stream",
     "text": [
      "                                                                      \r"
     ]
    },
    {
     "name": "stdout",
     "output_type": "stream",
     "text": [
      "MoviePy - Done.\n",
      "Moviepy - Writing video output_RUTUBE/110.mp4\n",
      "\n"
     ]
    },
    {
     "name": "stderr",
     "output_type": "stream",
     "text": [
      "                                                                \r"
     ]
    },
    {
     "name": "stdout",
     "output_type": "stream",
     "text": [
      "Moviepy - Done !\n",
      "Moviepy - video ready output_RUTUBE/110.mp4\n",
      "Создан файл: output_RUTUBE/110.mp4\n",
      "Moviepy - Building video output_RUTUBE/111.mp4.\n",
      "MoviePy - Writing audio in 111TEMP_MPY_wvf_snd.mp3\n"
     ]
    },
    {
     "name": "stderr",
     "output_type": "stream",
     "text": [
      "                                                                      \r"
     ]
    },
    {
     "name": "stdout",
     "output_type": "stream",
     "text": [
      "MoviePy - Done.\n",
      "Moviepy - Writing video output_RUTUBE/111.mp4\n",
      "\n"
     ]
    },
    {
     "name": "stderr",
     "output_type": "stream",
     "text": [
      "                                                                \r"
     ]
    },
    {
     "name": "stdout",
     "output_type": "stream",
     "text": [
      "Moviepy - Done !\n",
      "Moviepy - video ready output_RUTUBE/111.mp4\n",
      "Создан файл: output_RUTUBE/111.mp4\n",
      "Moviepy - Building video output_RUTUBE/112.mp4.\n",
      "MoviePy - Writing audio in 112TEMP_MPY_wvf_snd.mp3\n"
     ]
    },
    {
     "name": "stderr",
     "output_type": "stream",
     "text": [
      "                                                                      \r"
     ]
    },
    {
     "name": "stdout",
     "output_type": "stream",
     "text": [
      "MoviePy - Done.\n",
      "Moviepy - Writing video output_RUTUBE/112.mp4\n",
      "\n"
     ]
    },
    {
     "name": "stderr",
     "output_type": "stream",
     "text": [
      "                                                              \r"
     ]
    },
    {
     "name": "stdout",
     "output_type": "stream",
     "text": [
      "Moviepy - Done !\n",
      "Moviepy - video ready output_RUTUBE/112.mp4\n",
      "Создан файл: output_RUTUBE/112.mp4\n",
      "Moviepy - Building video output_RUTUBE/113.mp4.\n",
      "MoviePy - Writing audio in 113TEMP_MPY_wvf_snd.mp3\n"
     ]
    },
    {
     "name": "stderr",
     "output_type": "stream",
     "text": [
      "                                                                      \r"
     ]
    },
    {
     "name": "stdout",
     "output_type": "stream",
     "text": [
      "MoviePy - Done.\n",
      "Moviepy - Writing video output_RUTUBE/113.mp4\n",
      "\n"
     ]
    },
    {
     "name": "stderr",
     "output_type": "stream",
     "text": [
      "                                                              \r"
     ]
    },
    {
     "name": "stdout",
     "output_type": "stream",
     "text": [
      "Moviepy - Done !\n",
      "Moviepy - video ready output_RUTUBE/113.mp4\n",
      "Создан файл: output_RUTUBE/113.mp4\n",
      "Moviepy - Building video output_RUTUBE/114.mp4.\n",
      "MoviePy - Writing audio in 114TEMP_MPY_wvf_snd.mp3\n"
     ]
    },
    {
     "name": "stderr",
     "output_type": "stream",
     "text": [
      "                                                                      \r"
     ]
    },
    {
     "name": "stdout",
     "output_type": "stream",
     "text": [
      "MoviePy - Done.\n",
      "Moviepy - Writing video output_RUTUBE/114.mp4\n",
      "\n"
     ]
    },
    {
     "name": "stderr",
     "output_type": "stream",
     "text": [
      "                                                              \r"
     ]
    },
    {
     "name": "stdout",
     "output_type": "stream",
     "text": [
      "Moviepy - Done !\n",
      "Moviepy - video ready output_RUTUBE/114.mp4\n",
      "Создан файл: output_RUTUBE/114.mp4\n",
      "Moviepy - Building video output_RUTUBE/115.mp4.\n",
      "MoviePy - Writing audio in 115TEMP_MPY_wvf_snd.mp3\n"
     ]
    },
    {
     "name": "stderr",
     "output_type": "stream",
     "text": [
      "                                                                      \r"
     ]
    },
    {
     "name": "stdout",
     "output_type": "stream",
     "text": [
      "MoviePy - Done.\n",
      "Moviepy - Writing video output_RUTUBE/115.mp4\n",
      "\n"
     ]
    },
    {
     "name": "stderr",
     "output_type": "stream",
     "text": [
      "                                                                \r"
     ]
    },
    {
     "name": "stdout",
     "output_type": "stream",
     "text": [
      "Moviepy - Done !\n",
      "Moviepy - video ready output_RUTUBE/115.mp4\n",
      "Создан файл: output_RUTUBE/115.mp4\n",
      "Moviepy - Building video output_RUTUBE/116.mp4.\n",
      "MoviePy - Writing audio in 116TEMP_MPY_wvf_snd.mp3\n"
     ]
    },
    {
     "name": "stderr",
     "output_type": "stream",
     "text": [
      "                                                                      \r"
     ]
    },
    {
     "name": "stdout",
     "output_type": "stream",
     "text": [
      "MoviePy - Done.\n",
      "Moviepy - Writing video output_RUTUBE/116.mp4\n",
      "\n"
     ]
    },
    {
     "name": "stderr",
     "output_type": "stream",
     "text": [
      "                                                                \r"
     ]
    },
    {
     "name": "stdout",
     "output_type": "stream",
     "text": [
      "Moviepy - Done !\n",
      "Moviepy - video ready output_RUTUBE/116.mp4\n",
      "Создан файл: output_RUTUBE/116.mp4\n",
      "Moviepy - Building video output_RUTUBE/117.mp4.\n",
      "MoviePy - Writing audio in 117TEMP_MPY_wvf_snd.mp3\n"
     ]
    },
    {
     "name": "stderr",
     "output_type": "stream",
     "text": [
      "                                                                      \r"
     ]
    },
    {
     "name": "stdout",
     "output_type": "stream",
     "text": [
      "MoviePy - Done.\n",
      "Moviepy - Writing video output_RUTUBE/117.mp4\n",
      "\n"
     ]
    },
    {
     "name": "stderr",
     "output_type": "stream",
     "text": [
      "                                                                \r"
     ]
    },
    {
     "name": "stdout",
     "output_type": "stream",
     "text": [
      "Moviepy - Done !\n",
      "Moviepy - video ready output_RUTUBE/117.mp4\n",
      "Создан файл: output_RUTUBE/117.mp4\n",
      "Moviepy - Building video output_RUTUBE/118.mp4.\n",
      "MoviePy - Writing audio in 118TEMP_MPY_wvf_snd.mp3\n"
     ]
    },
    {
     "name": "stderr",
     "output_type": "stream",
     "text": [
      "                                                                      \r"
     ]
    },
    {
     "name": "stdout",
     "output_type": "stream",
     "text": [
      "MoviePy - Done.\n",
      "Moviepy - Writing video output_RUTUBE/118.mp4\n",
      "\n"
     ]
    },
    {
     "name": "stderr",
     "output_type": "stream",
     "text": [
      "                                                                \r"
     ]
    },
    {
     "name": "stdout",
     "output_type": "stream",
     "text": [
      "Moviepy - Done !\n",
      "Moviepy - video ready output_RUTUBE/118.mp4\n",
      "Создан файл: output_RUTUBE/118.mp4\n",
      "Moviepy - Building video output_RUTUBE/119.mp4.\n",
      "MoviePy - Writing audio in 119TEMP_MPY_wvf_snd.mp3\n"
     ]
    },
    {
     "name": "stderr",
     "output_type": "stream",
     "text": [
      "                                                                      \r"
     ]
    },
    {
     "name": "stdout",
     "output_type": "stream",
     "text": [
      "MoviePy - Done.\n",
      "Moviepy - Writing video output_RUTUBE/119.mp4\n",
      "\n"
     ]
    },
    {
     "name": "stderr",
     "output_type": "stream",
     "text": [
      "                                                                \r"
     ]
    },
    {
     "name": "stdout",
     "output_type": "stream",
     "text": [
      "Moviepy - Done !\n",
      "Moviepy - video ready output_RUTUBE/119.mp4\n",
      "Создан файл: output_RUTUBE/119.mp4\n",
      "Moviepy - Building video output_RUTUBE/120.mp4.\n",
      "MoviePy - Writing audio in 120TEMP_MPY_wvf_snd.mp3\n"
     ]
    },
    {
     "name": "stderr",
     "output_type": "stream",
     "text": [
      "                                                                      \r"
     ]
    },
    {
     "name": "stdout",
     "output_type": "stream",
     "text": [
      "MoviePy - Done.\n",
      "Moviepy - Writing video output_RUTUBE/120.mp4\n",
      "\n"
     ]
    },
    {
     "name": "stderr",
     "output_type": "stream",
     "text": [
      "                                                                \r"
     ]
    },
    {
     "name": "stdout",
     "output_type": "stream",
     "text": [
      "Moviepy - Done !\n",
      "Moviepy - video ready output_RUTUBE/120.mp4\n",
      "Создан файл: output_RUTUBE/120.mp4\n",
      "Moviepy - Building video output_RUTUBE/121.mp4.\n",
      "MoviePy - Writing audio in 121TEMP_MPY_wvf_snd.mp3\n"
     ]
    },
    {
     "name": "stderr",
     "output_type": "stream",
     "text": [
      "                                                                      \r"
     ]
    },
    {
     "name": "stdout",
     "output_type": "stream",
     "text": [
      "MoviePy - Done.\n",
      "Moviepy - Writing video output_RUTUBE/121.mp4\n",
      "\n"
     ]
    },
    {
     "name": "stderr",
     "output_type": "stream",
     "text": [
      "                                                                 \r"
     ]
    },
    {
     "name": "stdout",
     "output_type": "stream",
     "text": [
      "Moviepy - Done !\n",
      "Moviepy - video ready output_RUTUBE/121.mp4\n",
      "Создан файл: output_RUTUBE/121.mp4\n",
      "Moviepy - Building video output_RUTUBE/122.mp4.\n",
      "MoviePy - Writing audio in 122TEMP_MPY_wvf_snd.mp3\n"
     ]
    },
    {
     "name": "stderr",
     "output_type": "stream",
     "text": [
      "                                                                      \r"
     ]
    },
    {
     "name": "stdout",
     "output_type": "stream",
     "text": [
      "MoviePy - Done.\n",
      "Moviepy - Writing video output_RUTUBE/122.mp4\n",
      "\n"
     ]
    },
    {
     "name": "stderr",
     "output_type": "stream",
     "text": [
      "                                                                 \r"
     ]
    },
    {
     "name": "stdout",
     "output_type": "stream",
     "text": [
      "Moviepy - Done !\n",
      "Moviepy - video ready output_RUTUBE/122.mp4\n",
      "Создан файл: output_RUTUBE/122.mp4\n",
      "Moviepy - Building video output_RUTUBE/123.mp4.\n",
      "MoviePy - Writing audio in 123TEMP_MPY_wvf_snd.mp3\n"
     ]
    },
    {
     "name": "stderr",
     "output_type": "stream",
     "text": [
      "                                                                      \r"
     ]
    },
    {
     "name": "stdout",
     "output_type": "stream",
     "text": [
      "MoviePy - Done.\n",
      "Moviepy - Writing video output_RUTUBE/123.mp4\n",
      "\n"
     ]
    },
    {
     "name": "stderr",
     "output_type": "stream",
     "text": [
      "                                                                 \r"
     ]
    },
    {
     "name": "stdout",
     "output_type": "stream",
     "text": [
      "Moviepy - Done !\n",
      "Moviepy - video ready output_RUTUBE/123.mp4\n",
      "Создан файл: output_RUTUBE/123.mp4\n",
      "Moviepy - Building video output_RUTUBE/124.mp4.\n",
      "MoviePy - Writing audio in 124TEMP_MPY_wvf_snd.mp3\n"
     ]
    },
    {
     "name": "stderr",
     "output_type": "stream",
     "text": [
      "                                                                      \r"
     ]
    },
    {
     "name": "stdout",
     "output_type": "stream",
     "text": [
      "MoviePy - Done.\n",
      "Moviepy - Writing video output_RUTUBE/124.mp4\n",
      "\n"
     ]
    },
    {
     "name": "stderr",
     "output_type": "stream",
     "text": [
      "                                                               \r"
     ]
    },
    {
     "name": "stdout",
     "output_type": "stream",
     "text": [
      "Moviepy - Done !\n",
      "Moviepy - video ready output_RUTUBE/124.mp4\n",
      "Создан файл: output_RUTUBE/124.mp4\n",
      "Moviepy - Building video output_RUTUBE/125.mp4.\n",
      "MoviePy - Writing audio in 125TEMP_MPY_wvf_snd.mp3\n"
     ]
    },
    {
     "name": "stderr",
     "output_type": "stream",
     "text": [
      "                                                                    \r"
     ]
    },
    {
     "name": "stdout",
     "output_type": "stream",
     "text": [
      "MoviePy - Done.\n",
      "Moviepy - Writing video output_RUTUBE/125.mp4\n",
      "\n"
     ]
    },
    {
     "name": "stderr",
     "output_type": "stream",
     "text": [
      "                                                               \r"
     ]
    },
    {
     "name": "stdout",
     "output_type": "stream",
     "text": [
      "Moviepy - Done !\n",
      "Moviepy - video ready output_RUTUBE/125.mp4\n",
      "Создан файл: output_RUTUBE/125.mp4\n",
      "Moviepy - Building video output_RUTUBE/126.mp4.\n",
      "MoviePy - Writing audio in 126TEMP_MPY_wvf_snd.mp3\n"
     ]
    },
    {
     "name": "stderr",
     "output_type": "stream",
     "text": [
      "                                                                      \r"
     ]
    },
    {
     "name": "stdout",
     "output_type": "stream",
     "text": [
      "MoviePy - Done.\n",
      "Moviepy - Writing video output_RUTUBE/126.mp4\n",
      "\n"
     ]
    },
    {
     "name": "stderr",
     "output_type": "stream",
     "text": [
      "                                                               \r"
     ]
    },
    {
     "name": "stdout",
     "output_type": "stream",
     "text": [
      "Moviepy - Done !\n",
      "Moviepy - video ready output_RUTUBE/126.mp4\n",
      "Создан файл: output_RUTUBE/126.mp4\n",
      "Moviepy - Building video output_RUTUBE/127.mp4.\n",
      "MoviePy - Writing audio in 127TEMP_MPY_wvf_snd.mp3\n"
     ]
    },
    {
     "name": "stderr",
     "output_type": "stream",
     "text": [
      "                                                                      \r"
     ]
    },
    {
     "name": "stdout",
     "output_type": "stream",
     "text": [
      "MoviePy - Done.\n",
      "Moviepy - Writing video output_RUTUBE/127.mp4\n",
      "\n"
     ]
    },
    {
     "name": "stderr",
     "output_type": "stream",
     "text": [
      "                                                                 \r"
     ]
    },
    {
     "name": "stdout",
     "output_type": "stream",
     "text": [
      "Moviepy - Done !\n",
      "Moviepy - video ready output_RUTUBE/127.mp4\n",
      "Создан файл: output_RUTUBE/127.mp4\n",
      "Moviepy - Building video output_RUTUBE/128.mp4.\n",
      "MoviePy - Writing audio in 128TEMP_MPY_wvf_snd.mp3\n"
     ]
    },
    {
     "name": "stderr",
     "output_type": "stream",
     "text": [
      "                                                                      \r"
     ]
    },
    {
     "name": "stdout",
     "output_type": "stream",
     "text": [
      "MoviePy - Done.\n",
      "Moviepy - Writing video output_RUTUBE/128.mp4\n",
      "\n"
     ]
    },
    {
     "name": "stderr",
     "output_type": "stream",
     "text": [
      "                                                                 \r"
     ]
    },
    {
     "name": "stdout",
     "output_type": "stream",
     "text": [
      "Moviepy - Done !\n",
      "Moviepy - video ready output_RUTUBE/128.mp4\n",
      "Создан файл: output_RUTUBE/128.mp4\n",
      "Moviepy - Building video output_RUTUBE/129.mp4.\n",
      "MoviePy - Writing audio in 129TEMP_MPY_wvf_snd.mp3\n"
     ]
    },
    {
     "name": "stderr",
     "output_type": "stream",
     "text": [
      "                                                                      \r"
     ]
    },
    {
     "name": "stdout",
     "output_type": "stream",
     "text": [
      "MoviePy - Done.\n",
      "Moviepy - Writing video output_RUTUBE/129.mp4\n",
      "\n"
     ]
    },
    {
     "name": "stderr",
     "output_type": "stream",
     "text": [
      "                                                                 \r"
     ]
    },
    {
     "name": "stdout",
     "output_type": "stream",
     "text": [
      "Moviepy - Done !\n",
      "Moviepy - video ready output_RUTUBE/129.mp4\n",
      "Создан файл: output_RUTUBE/129.mp4\n",
      "Moviepy - Building video output_RUTUBE/130.mp4.\n",
      "MoviePy - Writing audio in 130TEMP_MPY_wvf_snd.mp3\n"
     ]
    },
    {
     "name": "stderr",
     "output_type": "stream",
     "text": [
      "                                                                      \r"
     ]
    },
    {
     "name": "stdout",
     "output_type": "stream",
     "text": [
      "MoviePy - Done.\n",
      "Moviepy - Writing video output_RUTUBE/130.mp4\n",
      "\n"
     ]
    },
    {
     "name": "stderr",
     "output_type": "stream",
     "text": [
      "                                                                 \r"
     ]
    },
    {
     "name": "stdout",
     "output_type": "stream",
     "text": [
      "Moviepy - Done !\n",
      "Moviepy - video ready output_RUTUBE/130.mp4\n",
      "Создан файл: output_RUTUBE/130.mp4\n",
      "Moviepy - Building video output_RUTUBE/131.mp4.\n",
      "MoviePy - Writing audio in 131TEMP_MPY_wvf_snd.mp3\n"
     ]
    },
    {
     "name": "stderr",
     "output_type": "stream",
     "text": [
      "                                                                      \r"
     ]
    },
    {
     "name": "stdout",
     "output_type": "stream",
     "text": [
      "MoviePy - Done.\n",
      "Moviepy - Writing video output_RUTUBE/131.mp4\n",
      "\n"
     ]
    },
    {
     "name": "stderr",
     "output_type": "stream",
     "text": [
      "                                                               \r"
     ]
    },
    {
     "name": "stdout",
     "output_type": "stream",
     "text": [
      "Moviepy - Done !\n",
      "Moviepy - video ready output_RUTUBE/131.mp4\n",
      "Создан файл: output_RUTUBE/131.mp4\n",
      "Moviepy - Building video output_RUTUBE/132.mp4.\n",
      "MoviePy - Writing audio in 132TEMP_MPY_wvf_snd.mp3\n"
     ]
    },
    {
     "name": "stderr",
     "output_type": "stream",
     "text": [
      "                                                                      \r"
     ]
    },
    {
     "name": "stdout",
     "output_type": "stream",
     "text": [
      "MoviePy - Done.\n",
      "Moviepy - Writing video output_RUTUBE/132.mp4\n",
      "\n"
     ]
    },
    {
     "name": "stderr",
     "output_type": "stream",
     "text": [
      "                                                               \r"
     ]
    },
    {
     "name": "stdout",
     "output_type": "stream",
     "text": [
      "Moviepy - Done !\n",
      "Moviepy - video ready output_RUTUBE/132.mp4\n",
      "Создан файл: output_RUTUBE/132.mp4\n",
      "Moviepy - Building video output_RUTUBE/133.mp4.\n",
      "MoviePy - Writing audio in 133TEMP_MPY_wvf_snd.mp3\n"
     ]
    },
    {
     "name": "stderr",
     "output_type": "stream",
     "text": [
      "                                                                      \r"
     ]
    },
    {
     "name": "stdout",
     "output_type": "stream",
     "text": [
      "MoviePy - Done.\n",
      "Moviepy - Writing video output_RUTUBE/133.mp4\n",
      "\n"
     ]
    },
    {
     "name": "stderr",
     "output_type": "stream",
     "text": [
      "                                                                 \r"
     ]
    },
    {
     "name": "stdout",
     "output_type": "stream",
     "text": [
      "Moviepy - Done !\n",
      "Moviepy - video ready output_RUTUBE/133.mp4\n",
      "Создан файл: output_RUTUBE/133.mp4\n",
      "Moviepy - Building video output_RUTUBE/134.mp4.\n",
      "MoviePy - Writing audio in 134TEMP_MPY_wvf_snd.mp3\n"
     ]
    },
    {
     "name": "stderr",
     "output_type": "stream",
     "text": [
      "                                                                     \r"
     ]
    },
    {
     "name": "stdout",
     "output_type": "stream",
     "text": [
      "Moviepy - Building video output_RUTUBE/135.mp4.\n",
      "MoviePy - Writing audio in 135TEMP_MPY_wvf_snd.mp3\n"
     ]
    },
    {
     "name": "stderr",
     "output_type": "stream",
     "text": [
      "                                                                     \r"
     ]
    },
    {
     "name": "stdout",
     "output_type": "stream",
     "text": [
      "MoviePy - Done.\n",
      "Moviepy - Writing video output_RUTUBE/135.mp4\n",
      "\n"
     ]
    },
    {
     "name": "stderr",
     "output_type": "stream",
     "text": [
      "                                                               \r"
     ]
    },
    {
     "name": "stdout",
     "output_type": "stream",
     "text": [
      "Moviepy - Done !\n",
      "Moviepy - video ready output_RUTUBE/135.mp4\n",
      "Создан файл: output_RUTUBE/135.mp4\n",
      "Moviepy - Building video output_RUTUBE/136.mp4.\n",
      "MoviePy - Writing audio in 136TEMP_MPY_wvf_snd.mp3\n"
     ]
    },
    {
     "name": "stderr",
     "output_type": "stream",
     "text": [
      "                                                                      \r"
     ]
    },
    {
     "name": "stdout",
     "output_type": "stream",
     "text": [
      "MoviePy - Done.\n",
      "Moviepy - Writing video output_RUTUBE/136.mp4\n",
      "\n"
     ]
    },
    {
     "name": "stderr",
     "output_type": "stream",
     "text": [
      "                                                                 \r"
     ]
    },
    {
     "name": "stdout",
     "output_type": "stream",
     "text": [
      "Moviepy - Done !\n",
      "Moviepy - video ready output_RUTUBE/136.mp4\n",
      "Создан файл: output_RUTUBE/136.mp4\n",
      "Moviepy - Building video output_RUTUBE/137.mp4.\n",
      "MoviePy - Writing audio in 137TEMP_MPY_wvf_snd.mp3\n"
     ]
    },
    {
     "name": "stderr",
     "output_type": "stream",
     "text": [
      "chunk:   0%|          | 2/1522 [00:00<02:06, 12.02it/s, now=None]"
     ]
    }
   ],
   "source": [
    "from IPython.display import display\n",
    "\n",
    "bad_indicies = []\n",
    "\n",
    "def create_side_by_side_video(row):\n",
    "    # Получение значений из строки DataFrame\n",
    "    piracy_path = row[\"ID_piracy_fpath\"]\n",
    "    segment_piracy = row['segment']\n",
    "    license_path = row[\"ID_license_fpath\"]\n",
    "    segment_license = row['segment.1']\n",
    "\n",
    "    piracy_start, piracy_end = map(int, segment_piracy.split('-'))\n",
    "    license_start, license_end = map(int, segment_license.split('-'))\n",
    "\n",
    "    # Загрузка и обрезка видеофрагментов\n",
    "    clip_piracy = (VideoFileClip(piracy_path)\n",
    "                   .subclip(piracy_start, piracy_end))\n",
    "    clip_license = (VideoFileClip(license_path)\n",
    "                    .subclip(license_start, license_end))\n",
    "\n",
    "    # Вывод видео side-by-side\n",
    "    final_clip = clips_array([[clip_piracy, clip_license]])\n",
    "    output_path = f\"output_RUTUBE/{row['Unnamed: 0']}.mp4\"\n",
    "    final_clip.write_videofile(output_path, codec='libx264')\n",
    "    print(f\"Создан файл: {output_path}\")\n",
    "\n",
    "for _, row in df.iterrows():\n",
    "    try:\n",
    "        create_side_by_side_video(row)\n",
    "    except:\n",
    "        bad_indicies += [row[\"Unnamed: 0\"]]\n",
    "        # print(\"failed to glue\", row[\"Unnamed: 0\"])"
   ]
  },
  {
   "cell_type": "code",
   "execution_count": null,
   "metadata": {},
   "outputs": [],
   "source": [
    "bad_indicies"
   ]
  },
  {
   "cell_type": "code",
   "execution_count": 12,
   "metadata": {},
   "outputs": [
    {
     "data": {
      "text/plain": [
       "Unnamed: 0                                                        110\n",
       "ID_piracy                        xdiymvwb8xd5def8kjdkavfvzodd83q0.mp4\n",
       "segment                                                       571-796\n",
       "ID_license                       0f0c6bdc92c5e36dd49883ab3622b52c.mp4\n",
       "segment.1                                                     150-375\n",
       "valid_row                                                        True\n",
       "ID_piracy_fpath     RUTUBE/compressed_val/xdiymvwb8xd5def8kjdkavfv...\n",
       "ID_license_fpath    RUTUBE/compressed_index/0f0c6bdc92c5e36dd49883...\n",
       "Name: 110, dtype: object"
      ]
     },
     "execution_count": 12,
     "metadata": {},
     "output_type": "execute_result"
    }
   ],
   "source": [
    "df.iloc[110]"
   ]
  },
  {
   "cell_type": "code",
   "execution_count": 14,
   "metadata": {},
   "outputs": [
    {
     "name": "stdout",
     "output_type": "stream",
     "text": [
      "Collecting matplotlib\n",
      "  Downloading matplotlib-3.9.0-cp311-cp311-macosx_11_0_arm64.whl.metadata (11 kB)\n",
      "Collecting contourpy>=1.0.1 (from matplotlib)\n",
      "  Downloading contourpy-1.2.1-cp311-cp311-macosx_11_0_arm64.whl.metadata (5.8 kB)\n",
      "Collecting cycler>=0.10 (from matplotlib)\n",
      "  Downloading cycler-0.12.1-py3-none-any.whl.metadata (3.8 kB)\n",
      "Collecting fonttools>=4.22.0 (from matplotlib)\n",
      "  Downloading fonttools-4.53.0-cp311-cp311-macosx_11_0_arm64.whl.metadata (162 kB)\n",
      "\u001b[2K     \u001b[90m━━━━━━━━━━━━━━━━━━━━━━━━━━━━━━━━━━━━━━━\u001b[0m \u001b[32m162.2/162.2 kB\u001b[0m \u001b[31m1.5 MB/s\u001b[0m eta \u001b[36m0:00:00\u001b[0ma \u001b[36m0:00:01\u001b[0m\n",
      "\u001b[?25hCollecting kiwisolver>=1.3.1 (from matplotlib)\n",
      "  Downloading kiwisolver-1.4.5-cp311-cp311-macosx_11_0_arm64.whl.metadata (6.4 kB)\n",
      "Requirement already satisfied: numpy>=1.23 in /Users/tinbadmaev/miniconda3/envs/lct/lib/python3.11/site-packages (from matplotlib) (1.26.4)\n",
      "Requirement already satisfied: packaging>=20.0 in /Users/tinbadmaev/miniconda3/envs/lct/lib/python3.11/site-packages (from matplotlib) (24.0)\n",
      "Requirement already satisfied: pillow>=8 in /Users/tinbadmaev/miniconda3/envs/lct/lib/python3.11/site-packages (from matplotlib) (10.3.0)\n",
      "Collecting pyparsing>=2.3.1 (from matplotlib)\n",
      "  Downloading pyparsing-3.1.2-py3-none-any.whl.metadata (5.1 kB)\n",
      "Requirement already satisfied: python-dateutil>=2.7 in /Users/tinbadmaev/miniconda3/envs/lct/lib/python3.11/site-packages (from matplotlib) (2.9.0.post0)\n",
      "Requirement already satisfied: six>=1.5 in /Users/tinbadmaev/miniconda3/envs/lct/lib/python3.11/site-packages (from python-dateutil>=2.7->matplotlib) (1.16.0)\n",
      "Downloading matplotlib-3.9.0-cp311-cp311-macosx_11_0_arm64.whl (7.8 MB)\n",
      "\u001b[2K   \u001b[90m━━━━━━━━━━━━━━━━━━━━━━━━━━━━━━━━━━━━━━━━\u001b[0m \u001b[32m7.8/7.8 MB\u001b[0m \u001b[31m13.7 MB/s\u001b[0m eta \u001b[36m0:00:00\u001b[0m00:01\u001b[0m00:01\u001b[0m\n",
      "\u001b[?25hDownloading contourpy-1.2.1-cp311-cp311-macosx_11_0_arm64.whl (245 kB)\n",
      "\u001b[2K   \u001b[90m━━━━━━━━━━━━━━━━━━━━━━━━━━━━━━━━━━━━━━━━\u001b[0m \u001b[32m245.9/245.9 kB\u001b[0m \u001b[31m10.8 MB/s\u001b[0m eta \u001b[36m0:00:00\u001b[0m\n",
      "\u001b[?25hDownloading cycler-0.12.1-py3-none-any.whl (8.3 kB)\n",
      "Downloading fonttools-4.53.0-cp311-cp311-macosx_11_0_arm64.whl (2.2 MB)\n",
      "\u001b[2K   \u001b[90m━━━━━━━━━━━━━━━━━━━━━━━━━━━━━━━━━━━━━━━━\u001b[0m \u001b[32m2.2/2.2 MB\u001b[0m \u001b[31m16.8 MB/s\u001b[0m eta \u001b[36m0:00:00\u001b[0ma \u001b[36m0:00:01\u001b[0m\n",
      "\u001b[?25hDownloading kiwisolver-1.4.5-cp311-cp311-macosx_11_0_arm64.whl (66 kB)\n",
      "\u001b[2K   \u001b[90m━━━━━━━━━━━━━━━━━━━━━━━━━━━━━━━━━━━━━━━━\u001b[0m \u001b[32m66.2/66.2 kB\u001b[0m \u001b[31m6.6 MB/s\u001b[0m eta \u001b[36m0:00:00\u001b[0m\n",
      "\u001b[?25hDownloading pyparsing-3.1.2-py3-none-any.whl (103 kB)\n",
      "\u001b[2K   \u001b[90m━━━━━━━━━━━━━━━━━━━━━━━━━━━━━━━━━━━━━━━━\u001b[0m \u001b[32m103.2/103.2 kB\u001b[0m \u001b[31m7.7 MB/s\u001b[0m eta \u001b[36m0:00:00\u001b[0m\n",
      "\u001b[?25hInstalling collected packages: pyparsing, kiwisolver, fonttools, cycler, contourpy, matplotlib\n",
      "Successfully installed contourpy-1.2.1 cycler-0.12.1 fonttools-4.53.0 kiwisolver-1.4.5 matplotlib-3.9.0 pyparsing-3.1.2\n",
      "Note: you may need to restart the kernel to use updated packages.\n"
     ]
    }
   ],
   "source": [
    "pip install matplotlib"
   ]
  },
  {
   "cell_type": "code",
   "execution_count": 37,
   "metadata": {},
   "outputs": [
    {
     "data": {
      "image/png": "[encoded data removed]",
      "text/plain": [
       "<Figure size 640x480 with 1 Axes>"
      ]
     },
     "metadata": {},
     "output_type": "display_data"
    },
    {
     "data": {
      "image/png": "[encoded data removed]",
      "text/plain": [
       "<Figure size 640x480 with 1 Axes>"
      ]
     },
     "metadata": {},
     "output_type": "display_data"
    },
    {
     "data": {
      "image/png": "[encoded data removed]",
      "text/plain": [
       "<Figure size 640x480 with 1 Axes>"
      ]
     },
     "metadata": {},
     "output_type": "display_data"
    }
   ],
   "source": [
    "import cv2\n",
    "import matplotlib.pyplot as plt\n",
    "import numpy as np\n",
    "\n",
    "def detect_rectangles_hough(image_path):\n",
    "    # Загрузка изображения\n",
    "    image = cv2.imread(image_path)\n",
    "    image_gray = cv2.cvtColor(image, cv2.COLOR_BGR2GRAY)\n",
    "    \n",
    "    # Размытие для уменьшения шума\n",
    "    filtered = cv2.bilateralFilter(image_gray,9,75,75)\n",
    "    plt.imshow(cv2.cvtColor(filtered, cv2.COLOR_BGR2RGB))\n",
    "    plt.show()\n",
    "    # Применение детектора краёв\n",
    "    edged = cv2.Canny(filtered, 3, 20, apertureSize = 3)\n",
    "    plt.imshow(cv2.cvtColor(edged, cv2.COLOR_BGR2RGB))\n",
    "    plt.show()\n",
    "    # Применение преобразования Хаффа\n",
    "    lines = cv2.HoughLinesP(edged, 1, np.pi / 180, threshold=200)\n",
    "    \n",
    "    # Создание копии изображения для визуализации\n",
    "    image_with_lines = image.copy()\n",
    "    \n",
    "    if lines is not None:\n",
    "        for line in lines:\n",
    "            for x1, y1, x2, y2 in line:\n",
    "                cv2.line(image_with_lines, (x1, y1), (x2, y2), (0, 255, 0), 2)\n",
    "    \n",
    "        # Организация линий по координатам\n",
    "        lines = [line[0] for line in lines]\n",
    "        horizontal_lines = []\n",
    "        vertical_lines = []\n",
    "        \n",
    "        for x1, y1, x2, y2 in lines:\n",
    "            if abs(y2 - y1) < 5:  # Горизонтальная линия\n",
    "                horizontal_lines.append((x1, y1, x2, y2))\n",
    "            elif abs(x2 - x1) < 5:  # Вертикальная линия\n",
    "                vertical_lines.append((x1, y1, x2, y2))\n",
    "        \n",
    "        rectangles = []\n",
    "        \n",
    "        # Ищем пересечения горизонтальных и вертикальных линий\n",
    "        for h_line in horizontal_lines:\n",
    "            for v_line in vertical_lines:\n",
    "                rect_x1 = min(h_line[0], h_line[2])\n",
    "                rect_y1 = min(v_line[1], v_line[3])\n",
    "                rect_x2 = max(h_line[0], h_line[2])\n",
    "                rect_y2 = max(v_line[1], v_line[3])\n",
    "                \n",
    "                # Проверка наличия противоположной стороны\n",
    "                if (rect_x1, rect_y1, rect_x2, rect_y2) not in rectangles:\n",
    "                    for h_line2 in horizontal_lines:\n",
    "                        for v_line2 in vertical_lines:\n",
    "                            if (min(h_line2[0], h_line2[2]), min(v_line2[1], v_line2[3]), max(h_line2[0], h_line2[2]), max(v_line2[1], v_line2[3])) == (rect_x1, rect_y1, rect_x2, rect_y2):\n",
    "                                rectangles.append((rect_x1, rect_y1, rect_x2, rect_y2))\n",
    "        \n",
    "        # Рисуем прямоугольники\n",
    "        # for rect in rectangles:\n",
    "        #     cv2.rectangle(image_with_lines, (rect[0], rect[1]), (rect[2], rect[3]), (255, 0, 0), 2)\n",
    "    \n",
    "    # Отображение изображения\n",
    "    plt.imshow(cv2.cvtColor(image_with_lines, cv2.COLOR_BGR2RGB))\n",
    "    plt.axis('off')\n",
    "    plt.gcf().set_dpi(200)\n",
    "    \n",
    "    plt.show()\n",
    "\n",
    "# Пример использования\n",
    "detect_rectangles_hough(\"example.png\")"
   ]
  },
  {
   "cell_type": "code",
   "execution_count": null,
   "metadata": {},
   "outputs": [],
   "source": []
  }
 ],
 "metadata": {
  "kernelspec": {
   "display_name": "Python 3",
   "language": "python",
   "name": "python3"
  },
  "language_info": {
   "codemirror_mode": {
    "name": "ipython",
    "version": 3
   },
   "file_extension": ".py",
   "mimetype": "text/x-python",
   "name": "python",
   "nbconvert_exporter": "python",
   "pygments_lexer": "ipython3",
   "version": "3.11.9"
  }
 },
 "nbformat": 4,
 "nbformat_minor": 2
}
