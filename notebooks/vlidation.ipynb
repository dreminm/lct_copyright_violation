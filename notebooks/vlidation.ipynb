{
 "cells": [
  {
   "cell_type": "code",
   "execution_count": 1,
   "metadata": {},
   "outputs": [],
   "source": [
    "# import nemo.collections.asr as nemo_asr\n",
    "import requests\n",
    "\n",
    "import librosa\n",
    "import IPython.display as ipd\n",
    "import matplotlib.pyplot as plt\n",
    "import torch\n",
    "import torch.nn.functional as F\n",
    "import numpy as np\n",
    "import pandas as pd\n",
    "# from moviepy.editor import VideoFileClip, clips_array\n",
    "from pathlib import Path\n",
    "\n",
    "from tqdm import tqdm\n",
    "from pymilvus import MilvusClient\n",
    "client = MilvusClient( \n",
    "    \"http://localhost:19530\"\n",
    ")"
   ]
  },
  {
   "cell_type": "code",
   "execution_count": 9,
   "metadata": {},
   "outputs": [
    {
     "name": "stdout",
     "output_type": "stream",
     "text": [
      "[{'id': 450443658880617983, 'distance': 0.0, 'entity': {'id': 450443658880617983, 'video_id': 'ydcrodwtz3mstjq1vhbdflx6kyhj3y0p.mp4', 'segment_start': 1539}}, {'id': 450443658880617985, 'distance': 1.4422783851623535, 'entity': {'id': 450443658880617985, 'video_id': 'ydcrodwtz3mstjq1vhbdflx6kyhj3y0p.mp4', 'segment_start': 1540}}, {'id': 450443658880617981, 'distance': 2.5262527465820312, 'entity': {'id': 450443658880617981, 'video_id': 'ydcrodwtz3mstjq1vhbdflx6kyhj3y0p.mp4', 'segment_start': 1538}}, {'id': 450443658880617987, 'distance': 3.4384140968322754, 'entity': {'id': 450443658880617987, 'video_id': 'ydcrodwtz3mstjq1vhbdflx6kyhj3y0p.mp4', 'segment_start': 1541}}, {'id': 450443658880628947, 'distance': 3.7719058990478516, 'entity': {'id': 450443658880628947, 'video_id': 'ded3d179001b3f679a0101be95405d2c.mp4', 'segment_start': 544}}, {'id': 450443658880628955, 'distance': 3.7774946689605713, 'entity': {'id': 450443658880628955, 'video_id': 'ded3d179001b3f679a0101be95405d2c.mp4', 'segment_start': 548}}, {'id': 450443658880617989, 'distance': 3.9617435932159424, 'entity': {'id': 450443658880617989, 'video_id': 'ydcrodwtz3mstjq1vhbdflx6kyhj3y0p.mp4', 'segment_start': 1542}}, {'id': 450443658880617979, 'distance': 4.0714216232299805, 'entity': {'id': 450443658880617979, 'video_id': 'ydcrodwtz3mstjq1vhbdflx6kyhj3y0p.mp4', 'segment_start': 1537}}, {'id': 450443658880628949, 'distance': 4.206718921661377, 'entity': {'id': 450443658880628949, 'video_id': 'ded3d179001b3f679a0101be95405d2c.mp4', 'segment_start': 545}}, {'id': 450443658880628957, 'distance': 4.39554500579834, 'entity': {'id': 450443658880628957, 'video_id': 'ded3d179001b3f679a0101be95405d2c.mp4', 'segment_start': 549}}, {'id': 450443658880628945, 'distance': 4.447445869445801, 'entity': {'id': 450443658880628945, 'video_id': 'ded3d179001b3f679a0101be95405d2c.mp4', 'segment_start': 543}}, {'id': 450443658880628959, 'distance': 4.665327072143555, 'entity': {'id': 450443658880628959, 'video_id': 'ded3d179001b3f679a0101be95405d2c.mp4', 'segment_start': 550}}, {'id': 450443658880628943, 'distance': 5.010897636413574, 'entity': {'id': 450443658880628943, 'video_id': 'ded3d179001b3f679a0101be95405d2c.mp4', 'segment_start': 542}}, {'id': 450443658880617991, 'distance': 5.926738739013672, 'entity': {'id': 450443658880617991, 'video_id': 'ydcrodwtz3mstjq1vhbdflx6kyhj3y0p.mp4', 'segment_start': 1543}}, {'id': 450443658880628961, 'distance': 6.06410026550293, 'entity': {'id': 450443658880628961, 'video_id': 'ded3d179001b3f679a0101be95405d2c.mp4', 'segment_start': 551}}, {'id': 450443658880628169, 'distance': 6.113725185394287, 'entity': {'id': 450443658880628169, 'video_id': 'ded3d179001b3f679a0101be95405d2c.mp4', 'segment_start': 155}}, {'id': 450443658880628171, 'distance': 6.2097978591918945, 'entity': {'id': 450443658880628171, 'video_id': 'ded3d179001b3f679a0101be95405d2c.mp4', 'segment_start': 156}}, {'id': 450443658880617993, 'distance': 6.366748809814453, 'entity': {'id': 450443658880617993, 'video_id': 'ydcrodwtz3mstjq1vhbdflx6kyhj3y0p.mp4', 'segment_start': 1544}}, {'id': 450443658880618879, 'distance': 6.6403961181640625, 'entity': {'id': 450443658880618879, 'video_id': 't9j5gg42w6s7f62uybhtc51aj5nq9vxd.mp4', 'segment_start': 218}}, {'id': 450443658880628941, 'distance': 6.680627822875977, 'entity': {'id': 450443658880628941, 'video_id': 'ded3d179001b3f679a0101be95405d2c.mp4', 'segment_start': 541}}, {'id': 450443658880628963, 'distance': 6.718183517456055, 'entity': {'id': 450443658880628963, 'video_id': 'ded3d179001b3f679a0101be95405d2c.mp4', 'segment_start': 552}}, {'id': 450443658880627353, 'distance': 6.817258358001709, 'entity': {'id': 450443658880627353, 'video_id': '3y78kqwdr5lbtsy9tb76n5ylbcrainsx.mp4', 'segment_start': 1374}}, {'id': 450443658880618741, 'distance': 6.917627334594727, 'entity': {'id': 450443658880618741, 'video_id': 't9j5gg42w6s7f62uybhtc51aj5nq9vxd.mp4', 'segment_start': 149}}, {'id': 450443658880628027, 'distance': 7.0153398513793945, 'entity': {'id': 450443658880628027, 'video_id': 'ded3d179001b3f679a0101be95405d2c.mp4', 'segment_start': 84}}, {'id': 450443658880618625, 'distance': 7.027242660522461, 'entity': {'id': 450443658880618625, 'video_id': 't9j5gg42w6s7f62uybhtc51aj5nq9vxd.mp4', 'segment_start': 91}}, {'id': 450443658880628167, 'distance': 7.080031394958496, 'entity': {'id': 450443658880628167, 'video_id': 'ded3d179001b3f679a0101be95405d2c.mp4', 'segment_start': 154}}, {'id': 450443658880628143, 'distance': 7.083085060119629, 'entity': {'id': 450443658880628143, 'video_id': 'ded3d179001b3f679a0101be95405d2c.mp4', 'segment_start': 142}}, {'id': 450443658880618627, 'distance': 7.101180076599121, 'entity': {'id': 450443658880618627, 'video_id': 't9j5gg42w6s7f62uybhtc51aj5nq9vxd.mp4', 'segment_start': 92}}, {'id': 450443658880628369, 'distance': 7.140042304992676, 'entity': {'id': 450443658880628369, 'video_id': 'ded3d179001b3f679a0101be95405d2c.mp4', 'segment_start': 255}}, {'id': 450443658880619523, 'distance': 7.1535186767578125, 'entity': {'id': 450443658880619523, 'video_id': 't9j5gg42w6s7f62uybhtc51aj5nq9vxd.mp4', 'segment_start': 540}}, {'id': 450443658880617399, 'distance': 7.213796615600586, 'entity': {'id': 450443658880617399, 'video_id': 'ydcrodwtz3mstjq1vhbdflx6kyhj3y0p.mp4', 'segment_start': 1247}}, {'id': 450443658880615073, 'distance': 7.219997406005859, 'entity': {'id': 450443658880615073, 'video_id': 'ydcrodwtz3mstjq1vhbdflx6kyhj3y0p.mp4', 'segment_start': 84}}, {'id': 450443658880618745, 'distance': 7.228707313537598, 'entity': {'id': 450443658880618745, 'video_id': 't9j5gg42w6s7f62uybhtc51aj5nq9vxd.mp4', 'segment_start': 151}}, {'id': 450443658880618035, 'distance': 7.241532325744629, 'entity': {'id': 450443658880618035, 'video_id': 'ydcrodwtz3mstjq1vhbdflx6kyhj3y0p.mp4', 'segment_start': 1565}}, {'id': 450443658880628211, 'distance': 7.244753837585449, 'entity': {'id': 450443658880628211, 'video_id': 'ded3d179001b3f679a0101be95405d2c.mp4', 'segment_start': 176}}, {'id': 450443658880629005, 'distance': 7.258039474487305, 'entity': {'id': 450443658880629005, 'video_id': 'ded3d179001b3f679a0101be95405d2c.mp4', 'segment_start': 573}}, {'id': 450443658880627963, 'distance': 7.294808864593506, 'entity': {'id': 450443658880627963, 'video_id': 'ded3d179001b3f679a0101be95405d2c.mp4', 'segment_start': 52}}, {'id': 450443658880618743, 'distance': 7.320113658905029, 'entity': {'id': 450443658880618743, 'video_id': 't9j5gg42w6s7f62uybhtc51aj5nq9vxd.mp4', 'segment_start': 150}}, {'id': 450443658880624795, 'distance': 7.3289618492126465, 'entity': {'id': 450443658880624795, 'video_id': '3y78kqwdr5lbtsy9tb76n5ylbcrainsx.mp4', 'segment_start': 95}}, {'id': 450443658880624243, 'distance': 7.39030122756958, 'entity': {'id': 450443658880624243, 'video_id': 'aozskym3m7s9ibw5xpgca7m5jqe240vs.mp4', 'segment_start': 795}}, {'id': 450443658880627047, 'distance': 7.449808120727539, 'entity': {'id': 450443658880627047, 'video_id': '3y78kqwdr5lbtsy9tb76n5ylbcrainsx.mp4', 'segment_start': 1221}}, {'id': 450443658880624205, 'distance': 7.480302810668945, 'entity': {'id': 450443658880624205, 'video_id': 'aozskym3m7s9ibw5xpgca7m5jqe240vs.mp4', 'segment_start': 776}}, {'id': 450443658880624247, 'distance': 7.48307466506958, 'entity': {'id': 450443658880624247, 'video_id': 'aozskym3m7s9ibw5xpgca7m5jqe240vs.mp4', 'segment_start': 797}}, {'id': 450443658880628173, 'distance': 7.489933967590332, 'entity': {'id': 450443658880628173, 'video_id': 'ded3d179001b3f679a0101be95405d2c.mp4', 'segment_start': 157}}, {'id': 450443658880615691, 'distance': 7.4911088943481445, 'entity': {'id': 450443658880615691, 'video_id': 'ydcrodwtz3mstjq1vhbdflx6kyhj3y0p.mp4', 'segment_start': 393}}, {'id': 450443658880618215, 'distance': 7.4935126304626465, 'entity': {'id': 450443658880618215, 'video_id': 'ydcrodwtz3mstjq1vhbdflx6kyhj3y0p.mp4', 'segment_start': 1655}}, {'id': 450443658880628213, 'distance': 7.50732946395874, 'entity': {'id': 450443658880628213, 'video_id': 'ded3d179001b3f679a0101be95405d2c.mp4', 'segment_start': 177}}, {'id': 450443658880627049, 'distance': 7.541408538818359, 'entity': {'id': 450443658880627049, 'video_id': '3y78kqwdr5lbtsy9tb76n5ylbcrainsx.mp4', 'segment_start': 1222}}, {'id': 450443658880619705, 'distance': 7.545801639556885, 'entity': {'id': 450443658880619705, 'video_id': 't9j5gg42w6s7f62uybhtc51aj5nq9vxd.mp4', 'segment_start': 631}}, {'id': 450443658880625881, 'distance': 7.5635576248168945, 'entity': {'id': 450443658880625881, 'video_id': '3y78kqwdr5lbtsy9tb76n5ylbcrainsx.mp4', 'segment_start': 638}}, {'id': 450443658880619445, 'distance': 7.57362174987793, 'entity': {'id': 450443658880619445, 'video_id': 't9j5gg42w6s7f62uybhtc51aj5nq9vxd.mp4', 'segment_start': 501}}, {'id': 450443658880616001, 'distance': 7.62895393371582, 'entity': {'id': 450443658880616001, 'video_id': 'ydcrodwtz3mstjq1vhbdflx6kyhj3y0p.mp4', 'segment_start': 548}}, {'id': 450443658880617055, 'distance': 7.635368347167969, 'entity': {'id': 450443658880617055, 'video_id': 'ydcrodwtz3mstjq1vhbdflx6kyhj3y0p.mp4', 'segment_start': 1075}}, {'id': 450443658880618171, 'distance': 7.643136978149414, 'entity': {'id': 450443658880618171, 'video_id': 'ydcrodwtz3mstjq1vhbdflx6kyhj3y0p.mp4', 'segment_start': 1633}}, {'id': 450443658880625399, 'distance': 7.65575647354126, 'entity': {'id': 450443658880625399, 'video_id': '3y78kqwdr5lbtsy9tb76n5ylbcrainsx.mp4', 'segment_start': 397}}, {'id': 450443658880627961, 'distance': 7.6614861488342285, 'entity': {'id': 450443658880627961, 'video_id': 'ded3d179001b3f679a0101be95405d2c.mp4', 'segment_start': 51}}, {'id': 450443658880618629, 'distance': 7.6660966873168945, 'entity': {'id': 450443658880618629, 'video_id': 't9j5gg42w6s7f62uybhtc51aj5nq9vxd.mp4', 'segment_start': 93}}, {'id': 450443658880624017, 'distance': 7.67055082321167, 'entity': {'id': 450443658880624017, 'video_id': 'aozskym3m7s9ibw5xpgca7m5jqe240vs.mp4', 'segment_start': 682}}, {'id': 450443658880627355, 'distance': 7.684203624725342, 'entity': {'id': 450443658880627355, 'video_id': '3y78kqwdr5lbtsy9tb76n5ylbcrainsx.mp4', 'segment_start': 1375}}, {'id': 450443658880618877, 'distance': 7.698757648468018, 'entity': {'id': 450443658880618877, 'video_id': 't9j5gg42w6s7f62uybhtc51aj5nq9vxd.mp4', 'segment_start': 217}}, {'id': 450443658880617397, 'distance': 7.702816009521484, 'entity': {'id': 450443658880617397, 'video_id': 'ydcrodwtz3mstjq1vhbdflx6kyhj3y0p.mp4', 'segment_start': 1246}}, {'id': 450443658880618881, 'distance': 7.709496021270752, 'entity': {'id': 450443658880618881, 'video_id': 't9j5gg42w6s7f62uybhtc51aj5nq9vxd.mp4', 'segment_start': 219}}, {'id': 450443658880628413, 'distance': 7.719040393829346, 'entity': {'id': 450443658880628413, 'video_id': 'ded3d179001b3f679a0101be95405d2c.mp4', 'segment_start': 277}}, {'id': 450443658880628025, 'distance': 7.738805294036865, 'entity': {'id': 450443658880628025, 'video_id': 'ded3d179001b3f679a0101be95405d2c.mp4', 'segment_start': 83}}, {'id': 450443658880624439, 'distance': 7.749028205871582, 'entity': {'id': 450443658880624439, 'video_id': 'aozskym3m7s9ibw5xpgca7m5jqe240vs.mp4', 'segment_start': 893}}, {'id': 450443658880627369, 'distance': 7.770776271820068, 'entity': {'id': 450443658880627369, 'video_id': '3y78kqwdr5lbtsy9tb76n5ylbcrainsx.mp4', 'segment_start': 1382}}, {'id': 450443658880618139, 'distance': 7.772083759307861, 'entity': {'id': 450443658880618139, 'video_id': 'ydcrodwtz3mstjq1vhbdflx6kyhj3y0p.mp4', 'segment_start': 1617}}, {'id': 450443658880623021, 'distance': 7.816768646240234, 'entity': {'id': 450443658880623021, 'video_id': 'aozskym3m7s9ibw5xpgca7m5jqe240vs.mp4', 'segment_start': 184}}, {'id': 450443658880625275, 'distance': 7.822438716888428, 'entity': {'id': 450443658880625275, 'video_id': '3y78kqwdr5lbtsy9tb76n5ylbcrainsx.mp4', 'segment_start': 335}}, {'id': 450443658880616861, 'distance': 7.865009784698486, 'entity': {'id': 450443658880616861, 'video_id': 'ydcrodwtz3mstjq1vhbdflx6kyhj3y0p.mp4', 'segment_start': 978}}, {'id': 450443658880624245, 'distance': 7.871454238891602, 'entity': {'id': 450443658880624245, 'video_id': 'aozskym3m7s9ibw5xpgca7m5jqe240vs.mp4', 'segment_start': 796}}, {'id': 450443658880626925, 'distance': 7.879077911376953, 'entity': {'id': 450443658880626925, 'video_id': '3y78kqwdr5lbtsy9tb76n5ylbcrainsx.mp4', 'segment_start': 1160}}, {'id': 450443658880617105, 'distance': 7.890069961547852, 'entity': {'id': 450443658880617105, 'video_id': 'ydcrodwtz3mstjq1vhbdflx6kyhj3y0p.mp4', 'segment_start': 1100}}, {'id': 450443658880619493, 'distance': 7.89190149307251, 'entity': {'id': 450443658880619493, 'video_id': 't9j5gg42w6s7f62uybhtc51aj5nq9vxd.mp4', 'segment_start': 525}}, {'id': 450443658880618137, 'distance': 7.902335166931152, 'entity': {'id': 450443658880618137, 'video_id': 'ydcrodwtz3mstjq1vhbdflx6kyhj3y0p.mp4', 'segment_start': 1616}}, {'id': 450443658880618883, 'distance': 7.907220840454102, 'entity': {'id': 450443658880618883, 'video_id': 't9j5gg42w6s7f62uybhtc51aj5nq9vxd.mp4', 'segment_start': 220}}, {'id': 450443658880623025, 'distance': 7.9318437576293945, 'entity': {'id': 450443658880623025, 'video_id': 'aozskym3m7s9ibw5xpgca7m5jqe240vs.mp4', 'segment_start': 186}}, {'id': 450443658880624797, 'distance': 7.932948112487793, 'entity': {'id': 450443658880624797, 'video_id': '3y78kqwdr5lbtsy9tb76n5ylbcrainsx.mp4', 'segment_start': 96}}, {'id': 450443658880629007, 'distance': 7.947262287139893, 'entity': {'id': 450443658880629007, 'video_id': 'ded3d179001b3f679a0101be95405d2c.mp4', 'segment_start': 574}}, {'id': 450443658880617401, 'distance': 7.95536470413208, 'entity': {'id': 450443658880617401, 'video_id': 'ydcrodwtz3mstjq1vhbdflx6kyhj3y0p.mp4', 'segment_start': 1248}}, {'id': 450443658880628965, 'distance': 7.986265182495117, 'entity': {'id': 450443658880628965, 'video_id': 'ded3d179001b3f679a0101be95405d2c.mp4', 'segment_start': 553}}, {'id': 450443658880627265, 'distance': 7.988392353057861, 'entity': {'id': 450443658880627265, 'video_id': '3y78kqwdr5lbtsy9tb76n5ylbcrainsx.mp4', 'segment_start': 1330}}, {'id': 450443658880628341, 'distance': 7.998664855957031, 'entity': {'id': 450443658880628341, 'video_id': 'ded3d179001b3f679a0101be95405d2c.mp4', 'segment_start': 241}}, {'id': 450443658880618915, 'distance': 8.005929946899414, 'entity': {'id': 450443658880618915, 'video_id': 't9j5gg42w6s7f62uybhtc51aj5nq9vxd.mp4', 'segment_start': 236}}, {'id': 450443658880618129, 'distance': 8.006546974182129, 'entity': {'id': 450443658880618129, 'video_id': 'ydcrodwtz3mstjq1vhbdflx6kyhj3y0p.mp4', 'segment_start': 1612}}, {'id': 450443658880624127, 'distance': 8.013545989990234, 'entity': {'id': 450443658880624127, 'video_id': 'aozskym3m7s9ibw5xpgca7m5jqe240vs.mp4', 'segment_start': 737}}, {'id': 450443658880615539, 'distance': 8.015470504760742, 'entity': {'id': 450443658880615539, 'video_id': 'ydcrodwtz3mstjq1vhbdflx6kyhj3y0p.mp4', 'segment_start': 317}}, {'id': 450443658880628013, 'distance': 8.017073631286621, 'entity': {'id': 450443658880628013, 'video_id': 'ded3d179001b3f679a0101be95405d2c.mp4', 'segment_start': 77}}, {'id': 450443658880624129, 'distance': 8.039813995361328, 'entity': {'id': 450443658880624129, 'video_id': 'aozskym3m7s9ibw5xpgca7m5jqe240vs.mp4', 'segment_start': 738}}, {'id': 450443658880623591, 'distance': 8.046083450317383, 'entity': {'id': 450443658880623591, 'video_id': 'aozskym3m7s9ibw5xpgca7m5jqe240vs.mp4', 'segment_start': 469}}, {'id': 450443658880625403, 'distance': 8.052154541015625, 'entity': {'id': 450443658880625403, 'video_id': '3y78kqwdr5lbtsy9tb76n5ylbcrainsx.mp4', 'segment_start': 399}}, {'id': 450443658880624207, 'distance': 8.054702758789062, 'entity': {'id': 450443658880624207, 'video_id': 'aozskym3m7s9ibw5xpgca7m5jqe240vs.mp4', 'segment_start': 777}}, {'id': 450443658880625883, 'distance': 8.057016372680664, 'entity': {'id': 450443658880625883, 'video_id': '3y78kqwdr5lbtsy9tb76n5ylbcrainsx.mp4', 'segment_start': 639}}, {'id': 450443658880623027, 'distance': 8.06725025177002, 'entity': {'id': 450443658880623027, 'video_id': 'aozskym3m7s9ibw5xpgca7m5jqe240vs.mp4', 'segment_start': 187}}, {'id': 450443658880624279, 'distance': 8.081893920898438, 'entity': {'id': 450443658880624279, 'video_id': 'aozskym3m7s9ibw5xpgca7m5jqe240vs.mp4', 'segment_start': 813}}, {'id': 450443658880615849, 'distance': 8.090904235839844, 'entity': {'id': 450443658880615849, 'video_id': 'ydcrodwtz3mstjq1vhbdflx6kyhj3y0p.mp4', 'segment_start': 472}}, {'id': 450443658880615641, 'distance': 8.09195327758789, 'entity': {'id': 450443658880615641, 'video_id': 'ydcrodwtz3mstjq1vhbdflx6kyhj3y0p.mp4', 'segment_start': 368}}, {'id': 450443658880615969, 'distance': 8.094778060913086, 'entity': {'id': 450443658880615969, 'video_id': 'ydcrodwtz3mstjq1vhbdflx6kyhj3y0p.mp4', 'segment_start': 532}}, {'id': 450443658880618173, 'distance': 8.104351997375488, 'entity': {'id': 450443658880618173, 'video_id': 'ydcrodwtz3mstjq1vhbdflx6kyhj3y0p.mp4', 'segment_start': 1634}}, {'id': 450443658880620371, 'distance': 8.107325553894043, 'entity': {'id': 450443658880620371, 'video_id': 't9j5gg42w6s7f62uybhtc51aj5nq9vxd.mp4', 'segment_start': 964}}]\n"
     ]
    }
   ],
   "source": [
    "SEGMENT_STEP = 1\n",
    "VIDEO_ID = \"ydcrodwtz3mstjq1vhbdflx6kyhj3y0p\"\n",
    "\n",
    "i = 1539\n",
    "\n",
    "# for i in range(1400, 1800, SEGMENT_STEP):\n",
    "embedding = client.query(\n",
    "    collection_name=\"audio_segments_whisper\",\n",
    "    filter = f\"video_id == '{VIDEO_ID}.mp4' and segment_start == {i}\"\n",
    ")\n",
    "embedding = embedding[0][\"embedding\"]\n",
    "data = client.search(\n",
    "    collection_name=\"audio_segments_whisper\",\n",
    "    data=[embedding],\n",
    "    output_fields=[\"id\", \"video_id\", \"segment_start\"],\n",
    "    limit=100\n",
    ")[0]\n",
    "print(data)"
   ]
  },
  {
   "cell_type": "code",
   "execution_count": 10,
   "metadata": {},
   "outputs": [],
   "source": [
    "search_result = {}\n",
    "for item in data:\n",
    "    video_id = item['entity']['video_id']\n",
    "    segment_start = item['entity']['segment_start']\n",
    "    \n",
    "    if video_id not in search_result:\n",
    "        search_result[video_id] = []\n",
    "\n",
    "    search_result[video_id].append(segment_start)"
   ]
  },
  {
   "cell_type": "code",
   "execution_count": 11,
   "metadata": {},
   "outputs": [
    {
     "data": {
      "text/plain": [
       "{'ydcrodwtz3mstjq1vhbdflx6kyhj3y0p.mp4': [1539,\n",
       "  1540,\n",
       "  1538,\n",
       "  1541,\n",
       "  1542,\n",
       "  1537,\n",
       "  1543,\n",
       "  1544,\n",
       "  1247,\n",
       "  84,\n",
       "  1565,\n",
       "  393,\n",
       "  1655,\n",
       "  548,\n",
       "  1075,\n",
       "  1633,\n",
       "  1246,\n",
       "  1617,\n",
       "  978,\n",
       "  1100,\n",
       "  1616,\n",
       "  1248,\n",
       "  1612,\n",
       "  317,\n",
       "  472,\n",
       "  368,\n",
       "  532,\n",
       "  1634],\n",
       " 'ded3d179001b3f679a0101be95405d2c.mp4': [544,\n",
       "  548,\n",
       "  545,\n",
       "  549,\n",
       "  543,\n",
       "  550,\n",
       "  542,\n",
       "  551,\n",
       "  155,\n",
       "  156,\n",
       "  541,\n",
       "  552,\n",
       "  84,\n",
       "  154,\n",
       "  142,\n",
       "  255,\n",
       "  176,\n",
       "  573,\n",
       "  52,\n",
       "  157,\n",
       "  177,\n",
       "  51,\n",
       "  277,\n",
       "  83,\n",
       "  574,\n",
       "  553,\n",
       "  241,\n",
       "  77],\n",
       " 't9j5gg42w6s7f62uybhtc51aj5nq9vxd.mp4': [218,\n",
       "  149,\n",
       "  91,\n",
       "  92,\n",
       "  540,\n",
       "  151,\n",
       "  150,\n",
       "  631,\n",
       "  501,\n",
       "  93,\n",
       "  217,\n",
       "  219,\n",
       "  525,\n",
       "  220,\n",
       "  236,\n",
       "  964],\n",
       " '3y78kqwdr5lbtsy9tb76n5ylbcrainsx.mp4': [1374,\n",
       "  95,\n",
       "  1221,\n",
       "  1222,\n",
       "  638,\n",
       "  397,\n",
       "  1375,\n",
       "  1382,\n",
       "  335,\n",
       "  1160,\n",
       "  96,\n",
       "  1330,\n",
       "  399,\n",
       "  639],\n",
       " 'aozskym3m7s9ibw5xpgca7m5jqe240vs.mp4': [795,\n",
       "  776,\n",
       "  797,\n",
       "  682,\n",
       "  893,\n",
       "  184,\n",
       "  796,\n",
       "  186,\n",
       "  737,\n",
       "  738,\n",
       "  469,\n",
       "  777,\n",
       "  187,\n",
       "  813]}"
      ]
     },
     "execution_count": 11,
     "metadata": {},
     "output_type": "execute_result"
    }
   ],
   "source": [
    "search_result"
   ]
  },
  {
   "cell_type": "code",
   "execution_count": 12,
   "metadata": {},
   "outputs": [],
   "source": [
    "distances = [elem[\"distance\"] for elem in data]"
   ]
  },
  {
   "cell_type": "code",
   "execution_count": 13,
   "metadata": {},
   "outputs": [
    {
     "data": {
      "text/plain": [
       "<Axes: ylabel='Count'>"
      ]
     },
     "execution_count": 13,
     "metadata": {},
     "output_type": "execute_result"
    },
    {
     "data": {
      "image/png": "[encoded data removed]",
      "text/plain": [
       "<Figure size 640x480 with 1 Axes>"
      ]
     },
     "metadata": {},
     "output_type": "display_data"
    }
   ],
   "source": [
    "import seaborn as sns\n",
    "sns.histplot(data=distances)"
   ]
  },
  {
   "cell_type": "code",
   "execution_count": 18,
   "metadata": {},
   "outputs": [
    {
     "name": "stdout",
     "output_type": "stream",
     "text": [
      "{'id': 450443658880617983, 'distance': 0.0, 'entity': {'id': 450443658880617983, 'video_id': 'ydcrodwtz3mstjq1vhbdflx6kyhj3y0p.mp4', 'segment_start': 1539}}\n",
      "{'id': 450443658880617985, 'distance': 1.4422783851623535, 'entity': {'id': 450443658880617985, 'video_id': 'ydcrodwtz3mstjq1vhbdflx6kyhj3y0p.mp4', 'segment_start': 1540}}\n",
      "{'id': 450443658880617981, 'distance': 2.5262527465820312, 'entity': {'id': 450443658880617981, 'video_id': 'ydcrodwtz3mstjq1vhbdflx6kyhj3y0p.mp4', 'segment_start': 1538}}\n",
      "{'id': 450443658880617987, 'distance': 3.4384140968322754, 'entity': {'id': 450443658880617987, 'video_id': 'ydcrodwtz3mstjq1vhbdflx6kyhj3y0p.mp4', 'segment_start': 1541}}\n",
      "{'id': 450443658880628947, 'distance': 3.7719058990478516, 'entity': {'id': 450443658880628947, 'video_id': 'ded3d179001b3f679a0101be95405d2c.mp4', 'segment_start': 544}}\n",
      "{'id': 450443658880628955, 'distance': 3.7774946689605713, 'entity': {'id': 450443658880628955, 'video_id': 'ded3d179001b3f679a0101be95405d2c.mp4', 'segment_start': 548}}\n",
      "{'id': 450443658880617989, 'distance': 3.9617435932159424, 'entity': {'id': 450443658880617989, 'video_id': 'ydcrodwtz3mstjq1vhbdflx6kyhj3y0p.mp4', 'segment_start': 1542}}\n",
      "{'id': 450443658880617979, 'distance': 4.0714216232299805, 'entity': {'id': 450443658880617979, 'video_id': 'ydcrodwtz3mstjq1vhbdflx6kyhj3y0p.mp4', 'segment_start': 1537}}\n",
      "{'id': 450443658880628949, 'distance': 4.206718921661377, 'entity': {'id': 450443658880628949, 'video_id': 'ded3d179001b3f679a0101be95405d2c.mp4', 'segment_start': 545}}\n",
      "{'id': 450443658880628957, 'distance': 4.39554500579834, 'entity': {'id': 450443658880628957, 'video_id': 'ded3d179001b3f679a0101be95405d2c.mp4', 'segment_start': 549}}\n",
      "{'id': 450443658880628945, 'distance': 4.447445869445801, 'entity': {'id': 450443658880628945, 'video_id': 'ded3d179001b3f679a0101be95405d2c.mp4', 'segment_start': 543}}\n",
      "{'id': 450443658880628959, 'distance': 4.665327072143555, 'entity': {'id': 450443658880628959, 'video_id': 'ded3d179001b3f679a0101be95405d2c.mp4', 'segment_start': 550}}\n"
     ]
    }
   ],
   "source": [
    "for elem in data:\n",
    "    if elem[\"distance\"]  <  5:\n",
    "        print(elem)"
   ]
  },
  {
   "cell_type": "code",
   "execution_count": null,
   "metadata": {},
   "outputs": [],
   "source": [
    "!"
   ]
  }
 ],
 "metadata": {
  "kernelspec": {
   "display_name": "lct",
   "language": "python",
   "name": "python3"
  },
  "language_info": {
   "codemirror_mode": {
    "name": "ipython",
    "version": 3
   },
   "file_extension": ".py",
   "mimetype": "text/x-python",
   "name": "python",
   "nbconvert_exporter": "python",
   "pygments_lexer": "ipython3",
   "version": "3.11.9"
  }
 },
 "nbformat": 4,
 "nbformat_minor": 2
}
